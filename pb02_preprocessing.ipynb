{
 "cells": [
  {
   "cell_type": "markdown",
   "id": "2a5ed7be-f14b-48ea-9cb4-f3109f8bae16",
   "metadata": {},
   "source": [
    "# Pre-processing of polychromatic beam data\n",
    "\n",
    "In this notebook, the polychromatic beam X-ray radiographs are converted into projected density maps and prepared for reconstruction.\n",
    "\n",
    "---"
   ]
  },
  {
   "cell_type": "markdown",
   "id": "17e7f55f-fa8e-4ec7-9b32-9f8949ecce08",
   "metadata": {},
   "source": [
    "## Environment setup"
   ]
  },
  {
   "cell_type": "code",
   "execution_count": 1,
   "id": "557517ea-c626-4a5c-9ba0-52f323f534e5",
   "metadata": {
    "execution": {
     "iopub.execute_input": "2022-03-24T05:41:55.741647Z",
     "iopub.status.busy": "2022-03-24T05:41:55.741170Z",
     "iopub.status.idle": "2022-03-24T05:41:56.798904Z",
     "shell.execute_reply": "2022-03-24T05:41:56.798173Z",
     "shell.execute_reply.started": "2022-03-24T05:41:55.741503Z"
    }
   },
   "outputs": [],
   "source": [
    "import h5py\n",
    "import ipywidgets as widgets\n",
    "import numpy as np\n",
    "\n",
    "from ipywidgets import (\n",
    "                        fixed,\n",
    "                        interact\n",
    "                        )\n",
    "from matplotlib import pyplot as plt\n",
    "\n",
    "from preproc_utilities import (\n",
    "                               getDataPB,\n",
    "                               convertPB,\n",
    "                               showSprayPB\n",
    "                               )\n",
    "\n",
    "\n",
    "# Data directories\n",
    "inp_fld = 'inputs'\n",
    "out_fld = 'outputs'"
   ]
  },
  {
   "cell_type": "markdown",
   "id": "eb8dba30-8b51-4a9d-bd59-c2b63b4d47f7",
   "metadata": {},
   "source": [
    "### Version information"
   ]
  },
  {
   "cell_type": "code",
   "execution_count": 2,
   "id": "e7e3b028-be02-492f-9402-968b642555ba",
   "metadata": {
    "execution": {
     "iopub.execute_input": "2022-03-24T05:41:56.799769Z",
     "iopub.status.busy": "2022-03-24T05:41:56.799598Z",
     "iopub.status.idle": "2022-03-24T05:41:56.846153Z",
     "shell.execute_reply": "2022-03-24T05:41:56.845002Z",
     "shell.execute_reply.started": "2022-03-24T05:41:56.799750Z"
    },
    "tags": []
   },
   "outputs": [
    {
     "name": "stdout",
     "output_type": "stream",
     "text": [
      "h5py      : 3.6.0\n",
      "ipywidgets: 7.6.5\n",
      "numpy     : 1.17.0\n",
      "matplotlib: 3.4.3\n",
      "cv2       : 4.5.1\n",
      "scipy     : 1.6.2\n",
      "skimage   : 0.18.1\n",
      "\n"
     ]
    }
   ],
   "source": [
    "%reload_ext watermark\n",
    "%watermark -p h5py,ipywidgets,numpy,matplotlib,cv2,scipy,skimage"
   ]
  },
  {
   "cell_type": "markdown",
   "id": "aa7e8502-2647-45e1-9a8e-3502c05fe93e",
   "metadata": {},
   "source": [
    "## Camera calibrations\n",
    "Load in the calculated camera calibration parameters (see: [pb01_calibration.ipynb](./pb01_calibration.ipynb))."
   ]
  },
  {
   "cell_type": "code",
   "execution_count": 3,
   "id": "fe229575-a95e-45ce-8df6-a484e477e85e",
   "metadata": {
    "execution": {
     "iopub.execute_input": "2022-03-24T05:41:56.848567Z",
     "iopub.status.busy": "2022-03-24T05:41:56.848329Z",
     "iopub.status.idle": "2022-03-24T05:41:56.856860Z",
     "shell.execute_reply": "2022-03-24T05:41:56.856269Z",
     "shell.execute_reply.started": "2022-03-24T05:41:56.848537Z"
    }
   },
   "outputs": [],
   "source": [
    "cal_c1 = np.load(f'{out_fld}/cam1_calibration.npz', allow_pickle=True)\n",
    "cal_c2 = np.load(f'{out_fld}/cam2_calibration.npz', allow_pickle=True)\n",
    "cal_c3 = np.load(f'{out_fld}/cam3_calibration.npz', allow_pickle=True)\n",
    "camCal = [x['cal'].tolist() for x in [cal_c1, cal_c2, cal_c3]]"
   ]
  },
  {
   "cell_type": "markdown",
   "id": "6a8323c9-fe03-4b95-b91c-bb3b6a40b3b2",
   "metadata": {},
   "source": [
    "## Raw spray data"
   ]
  },
  {
   "cell_type": "markdown",
   "id": "edd50298-6a49-47a7-9970-6231cb14dbc7",
   "metadata": {},
   "source": [
    "The raw images for both $Re$ cases (open rim condition at $Re$ = 7,100; impact wave condition at $Re$ = 10,600) are located in the `<inputs/*frame0.hdf5>` files. For the purposes of showing quick reproducibility of the code, only the first frame of the data sets are shown here in this repository. The rest of the dataset can be found over at [[1]](#References).\n",
    "\n",
    "For data compression, some light pre-processing was done on the supplied raw images found in the HDF5 files. The images were initially captured on FASTCAM SA-Z at 20 kHz on a 1024$\\times$1024 px frame size as 12-bit TIFFs. They have been compressed down to a 512$\\times$512 px window and averaged down to an effective 10 kHz time sequence for data compression. Temporal averages of all collected 10 kHz images are also given. The final volumes shown in the corresponding publication are calculated using these compressed data sets."
   ]
  },
  {
   "cell_type": "markdown",
   "id": "3e685683-1079-4390-8c27-a7d77870ed0b",
   "metadata": {},
   "source": [
    "Let's load in the first frames and averaged frame for each case."
   ]
  },
  {
   "cell_type": "code",
   "execution_count": 4,
   "id": "8a90478a-1168-484e-912b-c12e93a80eb1",
   "metadata": {
    "execution": {
     "iopub.execute_input": "2022-03-24T05:41:56.858387Z",
     "iopub.status.busy": "2022-03-24T05:41:56.858058Z",
     "iopub.status.idle": "2022-03-24T05:41:57.006336Z",
     "shell.execute_reply": "2022-03-24T05:41:57.005442Z",
     "shell.execute_reply.started": "2022-03-24T05:41:56.858359Z"
    },
    "tags": []
   },
   "outputs": [],
   "source": [
    "# PB: Polychromatic beam\n",
    "# lo: low Reynolds number (7100), hi: high Reynolds number (10600)\n",
    "pbFile_lo = f'{inp_fld}/spray_polychromatic_Re-7100_frame0.hdf5'\n",
    "pbFile_hi = f'{inp_fld}/spray_polychromatic_Re-10600_frame0.hdf5'\n",
    "\n",
    "# Time averaged case\n",
    "pbFileAvg_lo = f'{inp_fld}/spray_polychromatic_Re-7100_averaged.hdf5'\n",
    "pbFileAvg_hi = f'{inp_fld}/spray_polychromatic_Re-10600_averaged.hdf5'\n",
    "\n",
    "# Swapping axes to be consistent with the other data shapes\n",
    "pbRaw_lo = getDataPB(pbFile_lo, '/').swapaxes(0, 1)\n",
    "pbRaw_hi = getDataPB(pbFile_hi, '/').swapaxes(0, 1)\n",
    "pbRawAvg_lo = getDataPB(pbFileAvg_lo, '/').swapaxes(0, 1)\n",
    "pbRawAvg_hi = getDataPB(pbFileAvg_hi, '/').swapaxes(0, 1)"
   ]
  },
  {
   "cell_type": "markdown",
   "id": "e2900b3b-a11b-45a0-8b27-9844f57f7729",
   "metadata": {},
   "source": [
    "The raw images were captured as TIFFs with 12-bit pixel intensities (shown here as arbitrary units)."
   ]
  },
  {
   "cell_type": "code",
   "execution_count": 5,
   "id": "2311dfc1-15d5-4e1f-9897-4eb9b57d1a84",
   "metadata": {
    "execution": {
     "iopub.execute_input": "2022-03-24T05:41:57.007080Z",
     "iopub.status.busy": "2022-03-24T05:41:57.006932Z",
     "iopub.status.idle": "2022-03-24T05:41:57.595848Z",
     "shell.execute_reply": "2022-03-24T05:41:57.595060Z",
     "shell.execute_reply.started": "2022-03-24T05:41:57.007059Z"
    }
   },
   "outputs": [
    {
     "data": {
      "application/vnd.jupyter.widget-view+json": {
       "model_id": "fad4d401058a4528bf55171bb69a6a2d",
       "version_major": 2,
       "version_minor": 0
      },
      "text/plain": [
       "interactive(children=(ToggleButtons(description='Reynolds No.', options=((7100, 0), (10600, 1)), value=0), Dro…"
      ]
     },
     "metadata": {},
     "output_type": "display_data"
    }
   ],
   "source": [
    "interact(\n",
    "         showSprayPB, \n",
    "         state=widgets.ToggleButtons(options=[(7100, 0), (10600, 1)], \n",
    "                                     description='Reynolds No.',\n",
    "                                     ),\n",
    "         pb=fixed((pbRaw_lo, pbRaw_hi)),\n",
    "         Re=fixed((7100, 10600)),\n",
    "         units=fixed('a.u.'),\n",
    "         cmap=widgets.Dropdown(options=plt.colormaps(),\n",
    "                               description='Colormap', \n",
    "                               value='gray')\n",
    "         );"
   ]
  },
  {
   "cell_type": "code",
   "execution_count": 6,
   "id": "bd509c9b-1da3-435a-8de6-4536e96ccba0",
   "metadata": {
    "execution": {
     "iopub.execute_input": "2022-03-24T05:41:57.596867Z",
     "iopub.status.busy": "2022-03-24T05:41:57.596704Z",
     "iopub.status.idle": "2022-03-24T05:41:57.967185Z",
     "shell.execute_reply": "2022-03-24T05:41:57.966347Z",
     "shell.execute_reply.started": "2022-03-24T05:41:57.596834Z"
    }
   },
   "outputs": [
    {
     "data": {
      "application/vnd.jupyter.widget-view+json": {
       "model_id": "7d45611da6434c92b06ad362245255f3",
       "version_major": 2,
       "version_minor": 0
      },
      "text/plain": [
       "interactive(children=(ToggleButtons(description='Reynolds No.', options=((7100, 0), (10600, 1)), value=0), Dro…"
      ]
     },
     "metadata": {},
     "output_type": "display_data"
    }
   ],
   "source": [
    "interact(\n",
    "         showSprayPB, \n",
    "         state=widgets.ToggleButtons(options=[(7100, 0), (10600, 1)], \n",
    "                                     description='Reynolds No.',\n",
    "                                     ),\n",
    "         pb=fixed((pbRawAvg_lo, pbRawAvg_hi)),\n",
    "         Re=fixed((7100, 10600)),\n",
    "         units=fixed('a.u.'),\n",
    "         cmap=widgets.Dropdown(options=plt.colormaps(),\n",
    "                               description='Colormap', \n",
    "                               value='gray')\n",
    "         );"
   ]
  },
  {
   "cell_type": "markdown",
   "id": "10e8540a-9882-4d9e-91f2-2b003eddbcf1",
   "metadata": {},
   "source": [
    "## Preparing spray images for reconstruction\n",
    "The bulk of the spray processing can be found in the `convertPB()` function (see: [utilities.py](./utilities.py)). This function handles conversion to normalized transmission units, masking off of background, calculation of equivalent path length (EPL), and final conversion to projected density maps."
   ]
  },
  {
   "cell_type": "code",
   "execution_count": 7,
   "id": "db966074-942f-48a5-af69-ab110e9bdcff",
   "metadata": {
    "execution": {
     "iopub.execute_input": "2022-03-24T05:41:57.969029Z",
     "iopub.status.busy": "2022-03-24T05:41:57.968335Z",
     "iopub.status.idle": "2022-03-24T05:42:03.274196Z",
     "shell.execute_reply": "2022-03-24T05:42:03.273356Z",
     "shell.execute_reply.started": "2022-03-24T05:41:57.969005Z"
    }
   },
   "outputs": [],
   "source": [
    "# Otsu scale controls the thresholding strength for the background masking\n",
    "# routine--see the convertPB() function for detail.\n",
    "otsuScale_lo = [0.8, 0.8, 0.8]\n",
    "pbDens_lo = convertPB(pbFile_lo, 'Re-7100', otsuScale_lo, camCal)\n",
    "pbAvg_lo = convertPB(pbFileAvg_lo, 'Re-7100', otsuScale_lo, camCal)\n",
    "\n",
    "otsuScale_hi = [0.6, 0.9, 0.5]\n",
    "pbDens_hi = convertPB(pbFile_hi, 'Re-10600', otsuScale_hi, camCal)\n",
    "pbAvg_hi = convertPB(pbFileAvg_hi, 'Re-10600', otsuScale_hi, camCal)"
   ]
  },
  {
   "cell_type": "markdown",
   "id": "4ca83fff-3a48-435c-abee-a678091cc4f0",
   "metadata": {},
   "source": [
    "Let's visualize the final prepared images, now with units of projected density (μg/mm$^2$)."
   ]
  },
  {
   "cell_type": "code",
   "execution_count": 8,
   "id": "3d05a500-e840-4aa4-8c47-409fe0992cb1",
   "metadata": {
    "execution": {
     "iopub.execute_input": "2022-03-24T05:42:03.275257Z",
     "iopub.status.busy": "2022-03-24T05:42:03.275094Z",
     "iopub.status.idle": "2022-03-24T05:42:03.739908Z",
     "shell.execute_reply": "2022-03-24T05:42:03.739193Z",
     "shell.execute_reply.started": "2022-03-24T05:42:03.275224Z"
    }
   },
   "outputs": [
    {
     "data": {
      "application/vnd.jupyter.widget-view+json": {
       "model_id": "7e9fb4f5e06f424aacb57a137a679ed3",
       "version_major": 2,
       "version_minor": 0
      },
      "text/plain": [
       "interactive(children=(ToggleButtons(description='Reynolds No.', options=((7100, 0), (10600, 1)), value=0), Dro…"
      ]
     },
     "metadata": {},
     "output_type": "display_data"
    }
   ],
   "source": [
    "interact(\n",
    "         showSprayPB, \n",
    "         state=widgets.ToggleButtons(options=[(7100, 0), (10600, 1)], \n",
    "                                     description='Reynolds No.',\n",
    "                                     ),\n",
    "         pb=fixed((pbDens_lo, pbDens_hi)),\n",
    "         Re=fixed((7100, 10600)),\n",
    "         units=fixed('μg/mm$^2$'),\n",
    "         cmap=widgets.Dropdown(options=plt.colormaps(),\n",
    "                               description='Colormap', \n",
    "                               value='Blues')\n",
    "         );"
   ]
  },
  {
   "cell_type": "code",
   "execution_count": 9,
   "id": "c774170e-2293-4010-aa36-be63e0ee93e7",
   "metadata": {
    "execution": {
     "iopub.execute_input": "2022-03-24T05:42:03.741323Z",
     "iopub.status.busy": "2022-03-24T05:42:03.740984Z",
     "iopub.status.idle": "2022-03-24T05:42:04.233791Z",
     "shell.execute_reply": "2022-03-24T05:42:04.232915Z",
     "shell.execute_reply.started": "2022-03-24T05:42:03.741281Z"
    }
   },
   "outputs": [
    {
     "data": {
      "application/vnd.jupyter.widget-view+json": {
       "model_id": "c387c9f4097c42edbf36a7e49e3d30b5",
       "version_major": 2,
       "version_minor": 0
      },
      "text/plain": [
       "interactive(children=(ToggleButtons(description='Reynolds No.', options=((7100, 0), (10600, 1)), value=0), Dro…"
      ]
     },
     "metadata": {},
     "output_type": "display_data"
    }
   ],
   "source": [
    "interact(\n",
    "         showSprayPB, \n",
    "         state=widgets.ToggleButtons(options=[(7100, 0), (10600, 1)], \n",
    "                                     description='Reynolds No.',\n",
    "                                     ),\n",
    "         pb=fixed((pbAvg_lo, pbAvg_hi)),\n",
    "         Re=fixed((7100, 10600)),\n",
    "         units=fixed('μg/mm$^2$'),\n",
    "         cmap=widgets.Dropdown(options=plt.colormaps(),\n",
    "                               description='Colormap', \n",
    "                               value='Blues')\n",
    "         );"
   ]
  },
  {
   "cell_type": "markdown",
   "id": "6bfc69da-6d0e-4324-9c67-e3a2625fd98f",
   "metadata": {},
   "source": [
    "## Save dataset\n",
    "The processed images are saved as HDF5 files for further processing."
   ]
  },
  {
   "cell_type": "code",
   "execution_count": 10,
   "id": "5cb16967-f9d5-49b6-a119-48642c995205",
   "metadata": {
    "execution": {
     "iopub.execute_input": "2022-03-24T05:42:04.235128Z",
     "iopub.status.busy": "2022-03-24T05:42:04.234707Z",
     "iopub.status.idle": "2022-03-24T05:42:04.535264Z",
     "shell.execute_reply": "2022-03-24T05:42:04.534600Z",
     "shell.execute_reply.started": "2022-03-24T05:42:04.235102Z"
    }
   },
   "outputs": [],
   "source": [
    "with h5py.File(f'{out_fld}/spray_pbDens_frame0.hdf5', 'w') as hf:\n",
    "    hf.create_dataset('Re-7100', data=pbDens_lo, compression='gzip')\n",
    "    hf.create_dataset('Re-10600', data=pbDens_hi, compression='gzip')\n",
    "    \n",
    "with h5py.File(f'{out_fld}/spray_pbDens_averaged.hdf5', 'w') as hf:\n",
    "    hf.create_dataset('Re-7100', data=pbAvg_lo, compression='gzip')\n",
    "    hf.create_dataset('Re-10600', data=pbAvg_hi, compression='gzip')"
   ]
  },
  {
   "cell_type": "markdown",
   "id": "7f1bd827-c1d2-4224-b437-8fc9dd584fec",
   "metadata": {},
   "source": [
    "## Next steps\n",
    "After processing of the raw spray images, the next step in the workflow is [pb03_refinement.ipynb](./pb03_refinement.ipynb)."
   ]
  },
  {
   "cell_type": "markdown",
   "id": "c59fb29e-b13b-4e37-91c2-5f35abe1c86c",
   "metadata": {},
   "source": [
    "## References"
   ]
  },
  {
   "cell_type": "markdown",
   "id": "9b87bbd4-5503-4f21-827a-0357955e9713",
   "metadata": {},
   "source": [
    "1. Rahman, N. X-ray radiography datasets for tomographic reconstruction of liquid jet breakup dynamics. *Purdue University Research Repository* (2022). doi: [10.4231/G20X-4Z27](https://doi.org/10.4231/G20X-4Z27).\n",
    "\n",
    "2. Halls, B. R. et al. Quantitative 10-50 kHz X-ray radiography of liquid spray distributions using a rotating-anode tube source. *Int. J. Multiphas. Flow* 109, 123–130 (2018). doi: [10.1016/j.ijmultiphaseflow.2018.07.014](https://doi.org/10.1016/j.ijmultiphaseflow.2018.07.014)."
   ]
  },
  {
   "cell_type": "markdown",
   "id": "f2154074-9a43-498f-9bea-e3a50aa81a52",
   "metadata": {},
   "source": [
    "---\n",
    "\n",
    "**Author**: Naveed Rahman, Purdue University, 23 March 2022\n",
    "\n",
    "---"
   ]
  }
 ],
 "metadata": {
  "kernelspec": {
   "display_name": "Python 3 (ipykernel)",
   "language": "python",
   "name": "python3"
  },
  "language_info": {
   "codemirror_mode": {
    "name": "ipython",
    "version": 3
   },
   "file_extension": ".py",
   "mimetype": "text/x-python",
   "name": "python",
   "nbconvert_exporter": "python",
   "pygments_lexer": "ipython3",
   "version": "3.7.7"
  },
  "widgets": {
   "application/vnd.jupyter.widget-state+json": {
    "state": {
     "01f2a58dd77e48d18b56b26167c8232a": {
      "model_module": "@jupyter-widgets/base",
      "model_module_version": "1.2.0",
      "model_name": "LayoutModel",
      "state": {}
     },
     "02dced28dfd8492e84f02002a15d6c9b": {
      "model_module": "@jupyter-widgets/base",
      "model_module_version": "1.2.0",
      "model_name": "LayoutModel",
      "state": {}
     },
     "05db8a66d19a4894b1dad13aace8ca37": {
      "model_module": "@jupyter-widgets/base",
      "model_module_version": "1.2.0",
      "model_name": "LayoutModel",
      "state": {}
     },
     "0aa5447c030e4ff78b59ebaba36ab43a": {
      "model_module": "@jupyter-widgets/base",
      "model_module_version": "1.2.0",
      "model_name": "LayoutModel",
      "state": {}
     },
     "0ee58c09ee6340be8711f07bd161edb3": {
      "model_module": "@jupyter-widgets/base",
      "model_module_version": "1.2.0",
      "model_name": "LayoutModel",
      "state": {}
     },
     "0f95ef1e0c6b49dab1ed536b7eaf94d2": {
      "model_module": "@jupyter-widgets/controls",
      "model_module_version": "1.5.0",
      "model_name": "DropdownModel",
      "state": {
       "_options_labels": [
        "Accent",
        "Accent_r",
        "Blues",
        "Blues_r",
        "BrBG",
        "BrBG_r",
        "BuGn",
        "BuGn_r",
        "BuPu",
        "BuPu_r",
        "CMRmap",
        "CMRmap_r",
        "Dark2",
        "Dark2_r",
        "GnBu",
        "GnBu_r",
        "Greens",
        "Greens_r",
        "Greys",
        "Greys_r",
        "OrRd",
        "OrRd_r",
        "Oranges",
        "Oranges_r",
        "PRGn",
        "PRGn_r",
        "Paired",
        "Paired_r",
        "Pastel1",
        "Pastel1_r",
        "Pastel2",
        "Pastel2_r",
        "PiYG",
        "PiYG_r",
        "PuBu",
        "PuBuGn",
        "PuBuGn_r",
        "PuBu_r",
        "PuOr",
        "PuOr_r",
        "PuRd",
        "PuRd_r",
        "Purples",
        "Purples_r",
        "RdBu",
        "RdBu_r",
        "RdGy",
        "RdGy_r",
        "RdPu",
        "RdPu_r",
        "RdYlBu",
        "RdYlBu_r",
        "RdYlGn",
        "RdYlGn_r",
        "Reds",
        "Reds_r",
        "Set1",
        "Set1_r",
        "Set2",
        "Set2_r",
        "Set3",
        "Set3_r",
        "Spectral",
        "Spectral_r",
        "Wistia",
        "Wistia_r",
        "YlGn",
        "YlGnBu",
        "YlGnBu_r",
        "YlGn_r",
        "YlOrBr",
        "YlOrBr_r",
        "YlOrRd",
        "YlOrRd_r",
        "afmhot",
        "afmhot_r",
        "autumn",
        "autumn_r",
        "binary",
        "binary_r",
        "bone",
        "bone_r",
        "brg",
        "brg_r",
        "bwr",
        "bwr_r",
        "cividis",
        "cividis_r",
        "cool",
        "cool_r",
        "coolwarm",
        "coolwarm_r",
        "copper",
        "copper_r",
        "cubehelix",
        "cubehelix_r",
        "flag",
        "flag_r",
        "gist_earth",
        "gist_earth_r",
        "gist_gray",
        "gist_gray_r",
        "gist_heat",
        "gist_heat_r",
        "gist_ncar",
        "gist_ncar_r",
        "gist_rainbow",
        "gist_rainbow_r",
        "gist_stern",
        "gist_stern_r",
        "gist_yarg",
        "gist_yarg_r",
        "gnuplot",
        "gnuplot2",
        "gnuplot2_r",
        "gnuplot_r",
        "gray",
        "gray_r",
        "hot",
        "hot_r",
        "hsv",
        "hsv_r",
        "inferno",
        "inferno_r",
        "jet",
        "jet_r",
        "magma",
        "magma_r",
        "nipy_spectral",
        "nipy_spectral_r",
        "ocean",
        "ocean_r",
        "pink",
        "pink_r",
        "plasma",
        "plasma_r",
        "prism",
        "prism_r",
        "rainbow",
        "rainbow_r",
        "seismic",
        "seismic_r",
        "spring",
        "spring_r",
        "summer",
        "summer_r",
        "tab10",
        "tab10_r",
        "tab20",
        "tab20_r",
        "tab20b",
        "tab20b_r",
        "tab20c",
        "tab20c_r",
        "terrain",
        "terrain_r",
        "turbo",
        "turbo_r",
        "twilight",
        "twilight_r",
        "twilight_shifted",
        "twilight_shifted_r",
        "viridis",
        "viridis_r",
        "winter",
        "winter_r"
       ],
       "description": "Colormap",
       "index": 116,
       "layout": "IPY_MODEL_1ed7979019114ea7a7c7cc48b8c9e026",
       "style": "IPY_MODEL_6e04d2de93f3496e804ed46fe1cc0a0b"
      }
     },
     "1ed7979019114ea7a7c7cc48b8c9e026": {
      "model_module": "@jupyter-widgets/base",
      "model_module_version": "1.2.0",
      "model_name": "LayoutModel",
      "state": {}
     },
     "207ce128f23a4453b585b1731f51d584": {
      "model_module": "@jupyter-widgets/base",
      "model_module_version": "1.2.0",
      "model_name": "LayoutModel",
      "state": {}
     },
     "2db4ccca39f048f7aa1b94becdf7e414": {
      "model_module": "@jupyter-widgets/controls",
      "model_module_version": "1.5.0",
      "model_name": "ToggleButtonsModel",
      "state": {
       "_options_labels": [
        "7100",
        "10600"
       ],
       "button_style": "",
       "description": "Reynolds No.",
       "icons": [],
       "index": 0,
       "layout": "IPY_MODEL_4062a6543cbd4b22a1b45f837bd9d180",
       "style": "IPY_MODEL_ff68a47d5f5e4b9a980dbae4baba762d",
       "tooltips": []
      }
     },
     "2ff206394df24648b927d24f10abac2a": {
      "model_module": "@jupyter-widgets/output",
      "model_module_version": "1.0.0",
      "model_name": "OutputModel",
      "state": {
       "layout": "IPY_MODEL_80f3839896ad4cfda3c09a03a364a447",
       "outputs": [
        {
         "data": {
          "image/png": "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\n",
          "text/plain": "<Figure size 720x432 with 6 Axes>"
         },
         "metadata": {
          "needs_background": "light"
         },
         "output_type": "display_data"
        }
       ]
      }
     },
     "394f1f1a735f4a82bd3dd58fe8cf2efb": {
      "model_module": "@jupyter-widgets/controls",
      "model_module_version": "1.5.0",
      "model_name": "ToggleButtonsModel",
      "state": {
       "_options_labels": [
        "7100",
        "10600"
       ],
       "button_style": "",
       "description": "Reynolds No.",
       "icons": [],
       "index": 0,
       "layout": "IPY_MODEL_72f12a63ace54fffa783481ff5f4d7cb",
       "style": "IPY_MODEL_e33fad9facfb47d0ab1d0b9bc6c6a85d",
       "tooltips": []
      }
     },
     "401d013950c844818f51cf2de22bd86e": {
      "model_module": "@jupyter-widgets/controls",
      "model_module_version": "1.5.0",
      "model_name": "ToggleButtonsModel",
      "state": {
       "_options_labels": [
        "7100",
        "10600"
       ],
       "button_style": "",
       "description": "Reynolds No.",
       "icons": [],
       "index": 0,
       "layout": "IPY_MODEL_0ee58c09ee6340be8711f07bd161edb3",
       "style": "IPY_MODEL_c19bd013ef09427dabec4218d965831e",
       "tooltips": []
      }
     },
     "4062a6543cbd4b22a1b45f837bd9d180": {
      "model_module": "@jupyter-widgets/base",
      "model_module_version": "1.2.0",
      "model_name": "LayoutModel",
      "state": {}
     },
     "4498f39847e640a7a7070a11cdc5d09c": {
      "model_module": "@jupyter-widgets/controls",
      "model_module_version": "1.5.0",
      "model_name": "DescriptionStyleModel",
      "state": {
       "description_width": ""
      }
     },
     "4733fdac314543a58ce24a55f7443288": {
      "model_module": "@jupyter-widgets/controls",
      "model_module_version": "1.5.0",
      "model_name": "DropdownModel",
      "state": {
       "_options_labels": [
        "Accent",
        "Accent_r",
        "Blues",
        "Blues_r",
        "BrBG",
        "BrBG_r",
        "BuGn",
        "BuGn_r",
        "BuPu",
        "BuPu_r",
        "CMRmap",
        "CMRmap_r",
        "Dark2",
        "Dark2_r",
        "GnBu",
        "GnBu_r",
        "Greens",
        "Greens_r",
        "Greys",
        "Greys_r",
        "OrRd",
        "OrRd_r",
        "Oranges",
        "Oranges_r",
        "PRGn",
        "PRGn_r",
        "Paired",
        "Paired_r",
        "Pastel1",
        "Pastel1_r",
        "Pastel2",
        "Pastel2_r",
        "PiYG",
        "PiYG_r",
        "PuBu",
        "PuBuGn",
        "PuBuGn_r",
        "PuBu_r",
        "PuOr",
        "PuOr_r",
        "PuRd",
        "PuRd_r",
        "Purples",
        "Purples_r",
        "RdBu",
        "RdBu_r",
        "RdGy",
        "RdGy_r",
        "RdPu",
        "RdPu_r",
        "RdYlBu",
        "RdYlBu_r",
        "RdYlGn",
        "RdYlGn_r",
        "Reds",
        "Reds_r",
        "Set1",
        "Set1_r",
        "Set2",
        "Set2_r",
        "Set3",
        "Set3_r",
        "Spectral",
        "Spectral_r",
        "Wistia",
        "Wistia_r",
        "YlGn",
        "YlGnBu",
        "YlGnBu_r",
        "YlGn_r",
        "YlOrBr",
        "YlOrBr_r",
        "YlOrRd",
        "YlOrRd_r",
        "afmhot",
        "afmhot_r",
        "autumn",
        "autumn_r",
        "binary",
        "binary_r",
        "bone",
        "bone_r",
        "brg",
        "brg_r",
        "bwr",
        "bwr_r",
        "cividis",
        "cividis_r",
        "cool",
        "cool_r",
        "coolwarm",
        "coolwarm_r",
        "copper",
        "copper_r",
        "cubehelix",
        "cubehelix_r",
        "flag",
        "flag_r",
        "gist_earth",
        "gist_earth_r",
        "gist_gray",
        "gist_gray_r",
        "gist_heat",
        "gist_heat_r",
        "gist_ncar",
        "gist_ncar_r",
        "gist_rainbow",
        "gist_rainbow_r",
        "gist_stern",
        "gist_stern_r",
        "gist_yarg",
        "gist_yarg_r",
        "gnuplot",
        "gnuplot2",
        "gnuplot2_r",
        "gnuplot_r",
        "gray",
        "gray_r",
        "hot",
        "hot_r",
        "hsv",
        "hsv_r",
        "inferno",
        "inferno_r",
        "jet",
        "jet_r",
        "magma",
        "magma_r",
        "nipy_spectral",
        "nipy_spectral_r",
        "ocean",
        "ocean_r",
        "pink",
        "pink_r",
        "plasma",
        "plasma_r",
        "prism",
        "prism_r",
        "rainbow",
        "rainbow_r",
        "seismic",
        "seismic_r",
        "spring",
        "spring_r",
        "summer",
        "summer_r",
        "tab10",
        "tab10_r",
        "tab20",
        "tab20_r",
        "tab20b",
        "tab20b_r",
        "tab20c",
        "tab20c_r",
        "terrain",
        "terrain_r",
        "turbo",
        "turbo_r",
        "twilight",
        "twilight_r",
        "twilight_shifted",
        "twilight_shifted_r",
        "viridis",
        "viridis_r",
        "winter",
        "winter_r"
       ],
       "description": "Colormap",
       "index": 116,
       "layout": "IPY_MODEL_05db8a66d19a4894b1dad13aace8ca37",
       "style": "IPY_MODEL_4498f39847e640a7a7070a11cdc5d09c"
      }
     },
     "48b58b8ec6374c6e8fdf5a40411778d2": {
      "model_module": "@jupyter-widgets/output",
      "model_module_version": "1.0.0",
      "model_name": "OutputModel",
      "state": {
       "layout": "IPY_MODEL_9c4c8ad28aa74687824919c5fa447a20",
       "outputs": [
        {
         "data": {
          "image/png": "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\n",
          "text/plain": "<Figure size 720x432 with 6 Axes>"
         },
         "metadata": {
          "needs_background": "light"
         },
         "output_type": "display_data"
        }
       ]
      }
     },
     "69823cf306204c44851154eb24b5dffd": {
      "model_module": "@jupyter-widgets/controls",
      "model_module_version": "1.5.0",
      "model_name": "ToggleButtonsStyleModel",
      "state": {
       "button_width": "",
       "description_width": ""
      }
     },
     "6e04d2de93f3496e804ed46fe1cc0a0b": {
      "model_module": "@jupyter-widgets/controls",
      "model_module_version": "1.5.0",
      "model_name": "DescriptionStyleModel",
      "state": {
       "description_width": ""
      }
     },
     "6ec002c9b6314f4c8c27557202c76b2b": {
      "model_module": "@jupyter-widgets/controls",
      "model_module_version": "1.5.0",
      "model_name": "DescriptionStyleModel",
      "state": {
       "description_width": ""
      }
     },
     "72f12a63ace54fffa783481ff5f4d7cb": {
      "model_module": "@jupyter-widgets/base",
      "model_module_version": "1.2.0",
      "model_name": "LayoutModel",
      "state": {}
     },
     "74f83fc1c97842c0812ba4e544f725b7": {
      "model_module": "@jupyter-widgets/base",
      "model_module_version": "1.2.0",
      "model_name": "LayoutModel",
      "state": {}
     },
     "7d45611da6434c92b06ad362245255f3": {
      "model_module": "@jupyter-widgets/controls",
      "model_module_version": "1.5.0",
      "model_name": "VBoxModel",
      "state": {
       "_dom_classes": [
        "widget-interact"
       ],
       "children": [
        "IPY_MODEL_394f1f1a735f4a82bd3dd58fe8cf2efb",
        "IPY_MODEL_4733fdac314543a58ce24a55f7443288",
        "IPY_MODEL_da71b8eb00754e2088a89a28ea6951a3"
       ],
       "layout": "IPY_MODEL_0aa5447c030e4ff78b59ebaba36ab43a"
      }
     },
     "7e9fb4f5e06f424aacb57a137a679ed3": {
      "model_module": "@jupyter-widgets/controls",
      "model_module_version": "1.5.0",
      "model_name": "VBoxModel",
      "state": {
       "_dom_classes": [
        "widget-interact"
       ],
       "children": [
        "IPY_MODEL_2db4ccca39f048f7aa1b94becdf7e414",
        "IPY_MODEL_abee2ae0f04e4e70b81e462b4422dbbc",
        "IPY_MODEL_2ff206394df24648b927d24f10abac2a"
       ],
       "layout": "IPY_MODEL_74f83fc1c97842c0812ba4e544f725b7"
      }
     },
     "80f3839896ad4cfda3c09a03a364a447": {
      "model_module": "@jupyter-widgets/base",
      "model_module_version": "1.2.0",
      "model_name": "LayoutModel",
      "state": {}
     },
     "8107e48e740d4d09b51d615b69751104": {
      "model_module": "@jupyter-widgets/controls",
      "model_module_version": "1.5.0",
      "model_name": "ToggleButtonsModel",
      "state": {
       "_options_labels": [
        "7100",
        "10600"
       ],
       "button_style": "",
       "description": "Reynolds No.",
       "icons": [],
       "index": 0,
       "layout": "IPY_MODEL_f45f84a0a297416e988f9bf5206d189e",
       "style": "IPY_MODEL_69823cf306204c44851154eb24b5dffd",
       "tooltips": []
      }
     },
     "9315dde7ea284127852319a0e7f6cb28": {
      "model_module": "@jupyter-widgets/controls",
      "model_module_version": "1.5.0",
      "model_name": "DropdownModel",
      "state": {
       "_options_labels": [
        "Accent",
        "Accent_r",
        "Blues",
        "Blues_r",
        "BrBG",
        "BrBG_r",
        "BuGn",
        "BuGn_r",
        "BuPu",
        "BuPu_r",
        "CMRmap",
        "CMRmap_r",
        "Dark2",
        "Dark2_r",
        "GnBu",
        "GnBu_r",
        "Greens",
        "Greens_r",
        "Greys",
        "Greys_r",
        "OrRd",
        "OrRd_r",
        "Oranges",
        "Oranges_r",
        "PRGn",
        "PRGn_r",
        "Paired",
        "Paired_r",
        "Pastel1",
        "Pastel1_r",
        "Pastel2",
        "Pastel2_r",
        "PiYG",
        "PiYG_r",
        "PuBu",
        "PuBuGn",
        "PuBuGn_r",
        "PuBu_r",
        "PuOr",
        "PuOr_r",
        "PuRd",
        "PuRd_r",
        "Purples",
        "Purples_r",
        "RdBu",
        "RdBu_r",
        "RdGy",
        "RdGy_r",
        "RdPu",
        "RdPu_r",
        "RdYlBu",
        "RdYlBu_r",
        "RdYlGn",
        "RdYlGn_r",
        "Reds",
        "Reds_r",
        "Set1",
        "Set1_r",
        "Set2",
        "Set2_r",
        "Set3",
        "Set3_r",
        "Spectral",
        "Spectral_r",
        "Wistia",
        "Wistia_r",
        "YlGn",
        "YlGnBu",
        "YlGnBu_r",
        "YlGn_r",
        "YlOrBr",
        "YlOrBr_r",
        "YlOrRd",
        "YlOrRd_r",
        "afmhot",
        "afmhot_r",
        "autumn",
        "autumn_r",
        "binary",
        "binary_r",
        "bone",
        "bone_r",
        "brg",
        "brg_r",
        "bwr",
        "bwr_r",
        "cividis",
        "cividis_r",
        "cool",
        "cool_r",
        "coolwarm",
        "coolwarm_r",
        "copper",
        "copper_r",
        "cubehelix",
        "cubehelix_r",
        "flag",
        "flag_r",
        "gist_earth",
        "gist_earth_r",
        "gist_gray",
        "gist_gray_r",
        "gist_heat",
        "gist_heat_r",
        "gist_ncar",
        "gist_ncar_r",
        "gist_rainbow",
        "gist_rainbow_r",
        "gist_stern",
        "gist_stern_r",
        "gist_yarg",
        "gist_yarg_r",
        "gnuplot",
        "gnuplot2",
        "gnuplot2_r",
        "gnuplot_r",
        "gray",
        "gray_r",
        "hot",
        "hot_r",
        "hsv",
        "hsv_r",
        "inferno",
        "inferno_r",
        "jet",
        "jet_r",
        "magma",
        "magma_r",
        "nipy_spectral",
        "nipy_spectral_r",
        "ocean",
        "ocean_r",
        "pink",
        "pink_r",
        "plasma",
        "plasma_r",
        "prism",
        "prism_r",
        "rainbow",
        "rainbow_r",
        "seismic",
        "seismic_r",
        "spring",
        "spring_r",
        "summer",
        "summer_r",
        "tab10",
        "tab10_r",
        "tab20",
        "tab20_r",
        "tab20b",
        "tab20b_r",
        "tab20c",
        "tab20c_r",
        "terrain",
        "terrain_r",
        "turbo",
        "turbo_r",
        "twilight",
        "twilight_r",
        "twilight_shifted",
        "twilight_shifted_r",
        "viridis",
        "viridis_r",
        "winter",
        "winter_r"
       ],
       "description": "Colormap",
       "index": 2,
       "layout": "IPY_MODEL_02dced28dfd8492e84f02002a15d6c9b",
       "style": "IPY_MODEL_cef36f161c89488bbdb8c3c6d496db07"
      }
     },
     "93610b73bac746fc9edcdc9c13767979": {
      "model_module": "@jupyter-widgets/base",
      "model_module_version": "1.2.0",
      "model_name": "LayoutModel",
      "state": {}
     },
     "9c4c8ad28aa74687824919c5fa447a20": {
      "model_module": "@jupyter-widgets/base",
      "model_module_version": "1.2.0",
      "model_name": "LayoutModel",
      "state": {}
     },
     "aa39942f6cda4d33b5b4928442856e78": {
      "model_module": "@jupyter-widgets/output",
      "model_module_version": "1.0.0",
      "model_name": "OutputModel",
      "state": {
       "layout": "IPY_MODEL_207ce128f23a4453b585b1731f51d584",
       "outputs": [
        {
         "data": {
          "image/png": "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\n",
          "text/plain": "<Figure size 720x432 with 6 Axes>"
         },
         "metadata": {
          "needs_background": "light"
         },
         "output_type": "display_data"
        }
       ]
      }
     },
     "abee2ae0f04e4e70b81e462b4422dbbc": {
      "model_module": "@jupyter-widgets/controls",
      "model_module_version": "1.5.0",
      "model_name": "DropdownModel",
      "state": {
       "_options_labels": [
        "Accent",
        "Accent_r",
        "Blues",
        "Blues_r",
        "BrBG",
        "BrBG_r",
        "BuGn",
        "BuGn_r",
        "BuPu",
        "BuPu_r",
        "CMRmap",
        "CMRmap_r",
        "Dark2",
        "Dark2_r",
        "GnBu",
        "GnBu_r",
        "Greens",
        "Greens_r",
        "Greys",
        "Greys_r",
        "OrRd",
        "OrRd_r",
        "Oranges",
        "Oranges_r",
        "PRGn",
        "PRGn_r",
        "Paired",
        "Paired_r",
        "Pastel1",
        "Pastel1_r",
        "Pastel2",
        "Pastel2_r",
        "PiYG",
        "PiYG_r",
        "PuBu",
        "PuBuGn",
        "PuBuGn_r",
        "PuBu_r",
        "PuOr",
        "PuOr_r",
        "PuRd",
        "PuRd_r",
        "Purples",
        "Purples_r",
        "RdBu",
        "RdBu_r",
        "RdGy",
        "RdGy_r",
        "RdPu",
        "RdPu_r",
        "RdYlBu",
        "RdYlBu_r",
        "RdYlGn",
        "RdYlGn_r",
        "Reds",
        "Reds_r",
        "Set1",
        "Set1_r",
        "Set2",
        "Set2_r",
        "Set3",
        "Set3_r",
        "Spectral",
        "Spectral_r",
        "Wistia",
        "Wistia_r",
        "YlGn",
        "YlGnBu",
        "YlGnBu_r",
        "YlGn_r",
        "YlOrBr",
        "YlOrBr_r",
        "YlOrRd",
        "YlOrRd_r",
        "afmhot",
        "afmhot_r",
        "autumn",
        "autumn_r",
        "binary",
        "binary_r",
        "bone",
        "bone_r",
        "brg",
        "brg_r",
        "bwr",
        "bwr_r",
        "cividis",
        "cividis_r",
        "cool",
        "cool_r",
        "coolwarm",
        "coolwarm_r",
        "copper",
        "copper_r",
        "cubehelix",
        "cubehelix_r",
        "flag",
        "flag_r",
        "gist_earth",
        "gist_earth_r",
        "gist_gray",
        "gist_gray_r",
        "gist_heat",
        "gist_heat_r",
        "gist_ncar",
        "gist_ncar_r",
        "gist_rainbow",
        "gist_rainbow_r",
        "gist_stern",
        "gist_stern_r",
        "gist_yarg",
        "gist_yarg_r",
        "gnuplot",
        "gnuplot2",
        "gnuplot2_r",
        "gnuplot_r",
        "gray",
        "gray_r",
        "hot",
        "hot_r",
        "hsv",
        "hsv_r",
        "inferno",
        "inferno_r",
        "jet",
        "jet_r",
        "magma",
        "magma_r",
        "nipy_spectral",
        "nipy_spectral_r",
        "ocean",
        "ocean_r",
        "pink",
        "pink_r",
        "plasma",
        "plasma_r",
        "prism",
        "prism_r",
        "rainbow",
        "rainbow_r",
        "seismic",
        "seismic_r",
        "spring",
        "spring_r",
        "summer",
        "summer_r",
        "tab10",
        "tab10_r",
        "tab20",
        "tab20_r",
        "tab20b",
        "tab20b_r",
        "tab20c",
        "tab20c_r",
        "terrain",
        "terrain_r",
        "turbo",
        "turbo_r",
        "twilight",
        "twilight_r",
        "twilight_shifted",
        "twilight_shifted_r",
        "viridis",
        "viridis_r",
        "winter",
        "winter_r"
       ],
       "description": "Colormap",
       "index": 2,
       "layout": "IPY_MODEL_93610b73bac746fc9edcdc9c13767979",
       "style": "IPY_MODEL_6ec002c9b6314f4c8c27557202c76b2b"
      }
     },
     "b8fe79c8ded54b1cbc512cc13c12309c": {
      "model_module": "@jupyter-widgets/base",
      "model_module_version": "1.2.0",
      "model_name": "LayoutModel",
      "state": {}
     },
     "c19bd013ef09427dabec4218d965831e": {
      "model_module": "@jupyter-widgets/controls",
      "model_module_version": "1.5.0",
      "model_name": "ToggleButtonsStyleModel",
      "state": {
       "button_width": "",
       "description_width": ""
      }
     },
     "c387c9f4097c42edbf36a7e49e3d30b5": {
      "model_module": "@jupyter-widgets/controls",
      "model_module_version": "1.5.0",
      "model_name": "VBoxModel",
      "state": {
       "_dom_classes": [
        "widget-interact"
       ],
       "children": [
        "IPY_MODEL_8107e48e740d4d09b51d615b69751104",
        "IPY_MODEL_9315dde7ea284127852319a0e7f6cb28",
        "IPY_MODEL_aa39942f6cda4d33b5b4928442856e78"
       ],
       "layout": "IPY_MODEL_b8fe79c8ded54b1cbc512cc13c12309c"
      }
     },
     "cef36f161c89488bbdb8c3c6d496db07": {
      "model_module": "@jupyter-widgets/controls",
      "model_module_version": "1.5.0",
      "model_name": "DescriptionStyleModel",
      "state": {
       "description_width": ""
      }
     },
     "da71b8eb00754e2088a89a28ea6951a3": {
      "model_module": "@jupyter-widgets/output",
      "model_module_version": "1.0.0",
      "model_name": "OutputModel",
      "state": {
       "layout": "IPY_MODEL_01f2a58dd77e48d18b56b26167c8232a",
       "outputs": [
        {
         "data": {
          "image/png": "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\n",
          "text/plain": "<Figure size 720x432 with 6 Axes>"
         },
         "metadata": {
          "needs_background": "light"
         },
         "output_type": "display_data"
        }
       ]
      }
     },
     "e33fad9facfb47d0ab1d0b9bc6c6a85d": {
      "model_module": "@jupyter-widgets/controls",
      "model_module_version": "1.5.0",
      "model_name": "ToggleButtonsStyleModel",
      "state": {
       "button_width": "",
       "description_width": ""
      }
     },
     "eeb248a9fd254657bc3e746eacc6e6ea": {
      "model_module": "@jupyter-widgets/base",
      "model_module_version": "1.2.0",
      "model_name": "LayoutModel",
      "state": {}
     },
     "f45f84a0a297416e988f9bf5206d189e": {
      "model_module": "@jupyter-widgets/base",
      "model_module_version": "1.2.0",
      "model_name": "LayoutModel",
      "state": {}
     },
     "fad4d401058a4528bf55171bb69a6a2d": {
      "model_module": "@jupyter-widgets/controls",
      "model_module_version": "1.5.0",
      "model_name": "VBoxModel",
      "state": {
       "_dom_classes": [
        "widget-interact"
       ],
       "children": [
        "IPY_MODEL_401d013950c844818f51cf2de22bd86e",
        "IPY_MODEL_0f95ef1e0c6b49dab1ed536b7eaf94d2",
        "IPY_MODEL_48b58b8ec6374c6e8fdf5a40411778d2"
       ],
       "layout": "IPY_MODEL_eeb248a9fd254657bc3e746eacc6e6ea"
      }
     },
     "ff68a47d5f5e4b9a980dbae4baba762d": {
      "model_module": "@jupyter-widgets/controls",
      "model_module_version": "1.5.0",
      "model_name": "ToggleButtonsStyleModel",
      "state": {
       "button_width": "",
       "description_width": ""
      }
     }
    },
    "version_major": 2,
    "version_minor": 0
   }
  }
 },
 "nbformat": 4,
 "nbformat_minor": 5
}
