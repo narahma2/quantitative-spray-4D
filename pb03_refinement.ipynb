{
 "cells": [
  {
   "cell_type": "markdown",
   "id": "6bc95dc0-294e-40ed-9ba3-dcf11f24fa52",
   "metadata": {},
   "source": [
    "# Calibration refinement\n",
    "\n",
    "In this notebook, the initially calculated camera calibration parameters are refined through an adaptive tomography routine using particle swarm optimization (PSO).\n",
    "\n",
    "*Note*: this notebook requires a CUDA-capable GPU for 3D tomographic reconstruction using the *ASTRA* toolbox. If none is available, move on to the next step in the workflow ([pb04_reconstruction.ipynb](./pb03_reconstruction.ipynb)) where pre-computed PSO results will be used instead.\n",
    "\n",
    "---"
   ]
  },
  {
   "cell_type": "markdown",
   "id": "9a7ed89e-11da-4055-8c34-ccb0e19aab6e",
   "metadata": {},
   "source": [
    "## Environment setup"
   ]
  },
  {
   "cell_type": "code",
   "execution_count": 1,
   "id": "a1ab3091-781e-4443-aedf-4e6e03932556",
   "metadata": {},
   "outputs": [],
   "source": [
    "import glob\n",
    "import h5py\n",
    "import ipywidgets as widgets\n",
    "import json\n",
    "import numpy as np\n",
    "\n",
    "from ipywidgets import (\n",
    "                        interact,\n",
    "                        fixed\n",
    "                        )\n",
    "from PIL import Image\n",
    "\n",
    "from preproc_utilities import showSprayPB\n",
    "from recon_utilities import (\n",
    "                             loadSpray,\n",
    "                             getSystemMatrix,\n",
    "                             MLOS\n",
    "                             )\n",
    "from refine_utilities import (\n",
    "                              geomVec,\n",
    "                              setupConstraints,\n",
    "                              geomDict,\n",
    "                              showGeom,\n",
    "                              getError,\n",
    "                              compareProj,\n",
    "                              optimize\n",
    "                              )\n",
    "\n",
    "\n",
    "# Data directories\n",
    "inp_fld = 'inputs'\n",
    "out_fld = 'outputs'"
   ]
  },
  {
   "cell_type": "markdown",
   "id": "0c807c95-bbda-4ee9-b222-616831f54c76",
   "metadata": {},
   "source": [
    "### Version information"
   ]
  },
  {
   "cell_type": "code",
   "execution_count": 2,
   "id": "061765e3-3e16-4c0d-b4ae-47da6da10c04",
   "metadata": {
    "tags": []
   },
   "outputs": [
    {
     "name": "stdout",
     "output_type": "stream",
     "text": [
      "h5py 2.10.0\n",
      "ipywidgets 7.6.3\n",
      "json 2.0.9\n",
      "numpy 1.19.5\n",
      "PIL 8.4.0\n",
      "cv2 3.2.0\n",
      "matplotlib 3.1.1\n",
      "pyswarms 1.3.0\n",
      "scipy 1.1.0\n",
      "skimage 0.15.0\n"
     ]
    }
   ],
   "source": [
    "%reload_ext watermark\n",
    "%watermark -p h5py,ipywidgets,json,numpy,PIL\n",
    "%watermark -p cv2,matplotlib,pyswarms,scipy,skimage"
   ]
  },
  {
   "cell_type": "markdown",
   "id": "71229794-8af0-40d6-bc8c-558a96e7d9f9",
   "metadata": {},
   "source": [
    "## Initial geometry setup\n",
    "The experimental geometry parameters required for reconstruction of the polychromatic beam results includes the location of the X-ray anode, the location of the scintillator detector, and the axes defining the orientation of the detection plane. These parameters can be initially constructed using the camera calibration output (see: [pb01_calibration.ipynb](./pb01_calibration.ipynb)). By design, all of these parameters are taken to be relative to an origin point from one of the dot target views used for camera calibration.\n",
    "\n",
    "Let's first load in the camera calibration (`camCal`) and standard deviation (`errCal`) values."
   ]
  },
  {
   "cell_type": "code",
   "execution_count": 3,
   "id": "d2e0e21c-09b9-4aad-ba88-651206589fdf",
   "metadata": {},
   "outputs": [],
   "source": [
    "# Load in camera calibrations\n",
    "cal_c1 = np.load(f'{out_fld}/cam1_calibration.npz')\n",
    "cal_c2 = np.load(f'{out_fld}/cam2_calibration.npz')\n",
    "cal_c3 = np.load(f'{out_fld}/cam3_calibration.npz')\n",
    "camCal = [x['cal'].tolist() for x in [cal_c1, cal_c2, cal_c3]]\n",
    "errCal = [x['err'].tolist() for x in [cal_c1, cal_c2, cal_c3]]"
   ]
  },
  {
   "cell_type": "markdown",
   "id": "7eb9a15d-9c0c-4ed7-8cb9-a5aa345695d1",
   "metadata": {},
   "source": [
    "The next step is to define the detector size in mm/px **on the detector plate**. This was pre-determined by placing an object of known size at the detection plate and roughly counting the number of pixels in length for each camera. Due to general measurement uncertainty, this parameter is also fit during the refinement process."
   ]
  },
  {
   "cell_type": "code",
   "execution_count": 4,
   "id": "0c029c64-6aed-4b47-904e-0dba4156ea5f",
   "metadata": {},
   "outputs": [],
   "source": [
    "det_size = np.array([0.111, 0.111, 0.108])"
   ]
  },
  {
   "cell_type": "markdown",
   "id": "32f77a4d-a3b7-4f29-9eb2-be43dbe60c6e",
   "metadata": {},
   "source": [
    "From the three available calibration plate views, the first one is used to define the origin for the geometry as it has a generally low pixel error across all three cameras."
   ]
  },
  {
   "cell_type": "code",
   "execution_count": 5,
   "id": "c057177a-da17-42bc-8a56-e09d44b024d5",
   "metadata": {},
   "outputs": [],
   "source": [
    "view = 1"
   ]
  },
  {
   "cell_type": "markdown",
   "id": "9cf0d734-bbd0-4cee-8d8c-a5e20bee73ca",
   "metadata": {},
   "source": [
    "The adaptive refinement process used in this notebook (particle swarm optimization, PSO) operates on vectorized inputs, so the camera calibration parameters are first converted into vector form (see: `geomVec()` in [refine_utilities.py](./refine_utilities.py)).\n",
    "\n",
    "The `gVec_init` variable contains the initial geometry parameters that will be used for initializing the PSO routine. It is constructed in the following order: camera rotations, camera translations, camera focal lengths, camera principal points, and detector sizes."
   ]
  },
  {
   "cell_type": "code",
   "execution_count": 6,
   "id": "147f253e-3eda-4268-861e-03990491463f",
   "metadata": {},
   "outputs": [],
   "source": [
    "# Retrieve geometry parameters as a vector\n",
    "gVec_init = geomVec(camCal, det_size, view)"
   ]
  },
  {
   "cell_type": "markdown",
   "id": "5cb6c118-35b1-4243-812a-c65c466bfd8d",
   "metadata": {},
   "source": [
    "We will be doing a constrained PSO routine for a more effective solution strategy. The bounds are calculated using the standard deviations ($\\sigma$) from the camera calibration procedure, defined as 3$\\sigma$. The `constraints` variable is constructed as a tuple, with the first and second elements containing the lower and upper bound vectors, respectively, for the corresponding elements of `gVec_init` (see: `setupConstraints()` in [refine_utilities.py](./refine_utilities.py))."
   ]
  },
  {
   "cell_type": "code",
   "execution_count": 7,
   "id": "5f99fe4c-c337-4e35-9837-fe3e28f9b2bb",
   "metadata": {},
   "outputs": [],
   "source": [
    "# Parameter bounds\n",
    "constraints = setupConstraints(gVec_init, errCal, view)"
   ]
  },
  {
   "cell_type": "markdown",
   "id": "cabbdb69-2b69-483a-b02f-d93c0efe9b0f",
   "metadata": {},
   "source": [
    "The final geometry parameters for the anode locations, detector locations, and detector orientations are contained in the `geom_init` dictionary. The construction is setup such that the camera calibration *extrinsics* ($x$/$y$/$z$ rotations and $x$/$y$/$z$ translations) define the anode location relative to the world origin and the camera calibration *intrinsics* (focal lengths $f_x$ and $f_y$ and principal points $c_x$ and $c_y$) define the detector location relative to the corresponding anode and detector orientation relative to the world origin. This results in 10 parameters per line of sight, or 30 parameters in total that will need to be optimized.\n",
    "\n",
    "The calculations are done in `geomDict()` (see: [refine_utilities.py](./refine_utilities.py)), which is based off of previous works [[1]](#References), [[2]](#References)."
   ]
  },
  {
   "cell_type": "code",
   "execution_count": 8,
   "id": "40562d0a-444d-4dfb-aad8-8fe2c99feded",
   "metadata": {},
   "outputs": [],
   "source": [
    "# Dictionary form of the geometry vector\n",
    "geom_init = geomDict(gVec_init)"
   ]
  },
  {
   "cell_type": "markdown",
   "id": "d1781939-808a-4b4e-9cf3-105b327d346e",
   "metadata": {},
   "source": [
    "A top-down visualization of the initial calibrated locations is shown below. Lines of sight 1, 2, and 3 are shown in red, green, and blue, respectively (corresponding to cameras 1, 2, and 3 and their opposing X-ray sources)."
   ]
  },
  {
   "cell_type": "code",
   "execution_count": 9,
   "id": "21f14a54-ca3d-4d92-9021-9bce8624d202",
   "metadata": {},
   "outputs": [
    {
     "data": {
      "image/png": "[encoded data removed]",
      "text/plain": [
       "<Figure size 432x288 with 1 Axes>"
      ]
     },
     "metadata": {
      "needs_background": "light"
     },
     "output_type": "display_data"
    }
   ],
   "source": [
    "# Top-down perspective of geometry\n",
    "showGeom(geom_init)"
   ]
  },
  {
   "cell_type": "markdown",
   "id": "480d9ace-98f5-47fb-ad0e-5dee88fa5b1a",
   "metadata": {},
   "source": [
    "## Reconstruction setup"
   ]
  },
  {
   "cell_type": "markdown",
   "id": "ae300f76-4cbf-45c0-bf75-c2e27557a1cc",
   "metadata": {},
   "source": [
    "The projected density maps from the preprocessing step (see: [pb02_preprocessing.ipynb](./pb02_preprocessing.ipynb)) will be used for geometry refinement. Only the lower $Re$ case (open rim condition) is used for refinement here, as it is generally cleaner than the higher $Re$ case (impact wave condition). The spray images are used here instead of the calibration plate images to account for any (hopefully slight) changes that might have occurred between the calibration and spray imaging.\n",
    "\n",
    "Let's load in the dataset."
   ]
  },
  {
   "cell_type": "code",
   "execution_count": 10,
   "id": "6fc5a9a7-e3b3-486e-aaed-39a1d2a90419",
   "metadata": {},
   "outputs": [],
   "source": [
    "# Load in spray images\n",
    "projRes, _ = loadSpray(f'{out_fld}/spray_pbDens_frame0.hdf5')"
   ]
  },
  {
   "cell_type": "markdown",
   "id": "c76bba26-24aa-4409-ab5c-8d5f0c8fe0c6",
   "metadata": {},
   "source": [
    "Tomographic reconstruction is an inverse problem of the form\n",
    "\n",
    "$$\n",
    "Wx = p,\n",
    "$$\n",
    "\n",
    "where $x$ is the volume to be reconstructed, $p$ are the initially measured projections, and $W$ is a system matrix that maps the volume onto each of the measured projections. \n",
    "\n",
    "The system matrix defines the experimental geometry, and is constructed here using the *ASTRA* toolbox [[3]](#References), [[4]](#References). Let's retrieve the initial system matrix `W_init` using the initial geometry `geom_init` calculated above."
   ]
  },
  {
   "cell_type": "code",
   "execution_count": 11,
   "id": "007734c4-82af-4bfd-893b-74354609b600",
   "metadata": {},
   "outputs": [],
   "source": [
    "# Retrieve initial system matrix\n",
    "W_init = getSystemMatrix(geom_init)"
   ]
  },
  {
   "cell_type": "markdown",
   "id": "6c56a274-5954-4b86-9b7f-cb0156c5ff10",
   "metadata": {},
   "source": [
    "For the geometry refinement process, instead of going through an entire iterative reconstruction routine, we will employ a single-step multiplicative line of sight (MLOS) routine, which provides an accurate spatial reconstruction of $x$ based on overlapping regions in the measurements $p$ [[5]](#References), [[6]](#References). This is done on the premise that any misalignments in the geometry parameters will cause a resulting misalignment in the reconstructed structural features. Therefore, we only care about accuracy in the reconstruction of the structural features instead of the intensity gradients for this geometry refinement routine.\n",
    "\n",
    "Let's calculate an initial volume using the MLOS routine and our initial system matrix (see: `MLOS()` in [recon_utilities.py](./recon_utilities.py)). The outputs of the function are a reconstructed volume `volMLOS` and the projections of that volume `projMLOS`."
   ]
  },
  {
   "cell_type": "code",
   "execution_count": 12,
   "id": "bb494a20-08d1-4345-a10c-a797e68fb05c",
   "metadata": {},
   "outputs": [],
   "source": [
    "# Initial volume guess using initial system matrix\n",
    "volMLOS, projMLOS = MLOS(W_init, projRes, 'proj', 3)"
   ]
  },
  {
   "cell_type": "markdown",
   "id": "2d5115e2-f7ee-4bff-b39c-8173e3cbaf4b",
   "metadata": {},
   "source": [
    "The cost function utilized in the PSO routine is defined as the number of \"missing pixels\" in the reprojections as compared against the initial measured projections. This is calculated by binarizing the reprojections and projections and counting the number of pixels that are present in the projection data but not in the reprojection data.\n",
    "\n",
    "Let's calculate the initial error based on our initial system matrix (see: `getError()` in [refine_utilities.py](./refine_utilities.py))."
   ]
  },
  {
   "cell_type": "code",
   "execution_count": 13,
   "id": "560e7dcb-f618-4107-8b8a-5389af2cd65c",
   "metadata": {},
   "outputs": [
    {
     "name": "stdout",
     "output_type": "stream",
     "text": [
      "Initial number of missing pixels: 1277\n"
     ]
    }
   ],
   "source": [
    "# Calculate initial \"error\"\n",
    "init_cost = getError(W_init, projRes)\n",
    "\n",
    "print(f'Initial number of missing pixels: {init_cost}')"
   ]
  },
  {
   "cell_type": "markdown",
   "id": "a78b412e-6bcf-4e3c-9f22-197575e39fd1",
   "metadata": {},
   "source": [
    "The ideal set of geometry parameters should result in a missing pixel count approaching zero, with any deviations explained by object pixelation (due to the discretization of the volume) and uncertainties in the geometry parameters. \n",
    "\n",
    "We can visualize the geometry misalignment by mapping the difference between the projection (`projRes`) and reprojection (`projMLOS`) data."
   ]
  },
  {
   "cell_type": "code",
   "execution_count": 14,
   "id": "b42cef35-2f61-4782-8bf8-8f2878c75f19",
   "metadata": {},
   "outputs": [
    {
     "data": {
      "image/png": "[encoded data removed]",
      "text/plain": [
       "<Figure size 720x432 with 3 Axes>"
      ]
     },
     "metadata": {
      "needs_background": "light"
     },
     "output_type": "display_data"
    }
   ],
   "source": [
    "compareProj(projRes, projMLOS, f'Before Refinement (Error = {init_cost} px)')"
   ]
  },
  {
   "cell_type": "markdown",
   "id": "b21159fb-1352-404d-8e59-7720e48f5c64",
   "metadata": {},
   "source": [
    "As shown above, the red region refers to pixels that are missing in the reprojection while the yellow region refers to pixels that are present in the reprojection but not in the projection data. We will assume that we can take care of the extra pixels through smoothing in the final iterative reconstruction routine, however the missing pixels cannot be recovered in the final iterative reconstruction routine due to geometry misalignments inherent in the initial system matrix `W_init`.\n",
    "\n",
    "Some parts of the jets are \"missing\" in the camera 2 and 3 reprojections. The white dashed line refers to the cut-off used in the PSO routine$-$because camera 3 sees more of the spray than camera 1 and 2, only the missing pixels above the white dashed line are considered in the PSO routine.\n",
    "\n",
    "With the problem now setup, let's continue onto the PSO section where we will try to estimate a better `W` system matrix so as to reduce the number of red \"missing\" pixels."
   ]
  },
  {
   "cell_type": "markdown",
   "id": "80c296c3-1b5f-4ecb-8394-5712a318d672",
   "metadata": {},
   "source": [
    "## Particle swarm optimization"
   ]
  },
  {
   "cell_type": "markdown",
   "id": "6b01643b-71b9-404c-a89b-f445d1c943f4",
   "metadata": {},
   "source": [
    "Particle swarm optimization (PSO) is an optimization algorithm that seeks to find the global minimum of an objective function through a randomized set of particles that operate together, much like \"bird flocking\" and \"fish schooling\" [[7]](#References). \n",
    "\n",
    "A set of particles (or workers) are given an initial random state to evaluate the given objective function$-$based on how well their corresponding cost (or error) values are as well as the evaluated cost of the particles around them, their positions are updated and the objective function evaluation is repeated. This optimization routine is an iterative solution, with convergence achieved when the change in particle positions have stalled out. \n",
    "\n",
    "PSO is defined as a metaheuristic as it does not guarantee that the global minimum will be found$-$nonetheless, it is considered to be a sufficient optimization strategy here as the geometry refinement process can be done \"blindly\" (without need of defining a gradient function). The optimization routine is typically defined by three hyper-parameters that control how the particle's positions are updated between iterations: a cognitive parameter (how much bias the particle puts towards its own solution), a social parameter (how much bias the particle puts towards the neighboring solutions), and an inertia parameter (controls the magnitude in change of the particle's positions). For further reference, see previous publications that cover PSO such as [[7]](#References) and [[8]](#References).\n",
    "\n",
    "<img src=\"https://i.imgur.com/IhbKTIE.gif\" alt=\"PSO visualization\" style=\"width: 400px;\"/>\n",
    "(<a href=\"https://pyswarms.readthedocs.io/en/development/examples/visualization.html\">image source</a>)"
   ]
  },
  {
   "cell_type": "markdown",
   "id": "d4903923-3d8c-4bc6-b75e-4dad063c45f2",
   "metadata": {},
   "source": [
    "In this work, the *PySwarms* research toolkit is used to set up the PSO routine [[8]](#References). The initial particle positions are taken to be the initial geometry vector `gVec_init` (see above), and the objective function is taken to be the \"missing pixel\" procedure (see: `getError()` in [refine_utilities.py](./refine_utilities.py)). The function is optimized using the `constraints`, and an adaptive hyper-parameter approach is taken such that the cognitive ($c_1$), social ($c_2$), and inertia ($w$) parameters change at each iteration to discourage particles from stalling out. This is defined in the `start_opts` (hyper-parameter starting values) and `end_opts` (hyper-parameter ending values) variables. A swarm size of 50 particles is used over 50 total iterations$-$a two-stage start/stop routine is also utilized to encourage the particles move quicker towards the (assumedly singular) global minimum. For more documentation on how the PSO algorithm is setup here, refer to `optimize()` in [refine_utilities.py](./refine_utilities.py)."
   ]
  },
  {
   "cell_type": "code",
   "execution_count": 15,
   "id": "39ece965",
   "metadata": {},
   "outputs": [
    {
     "name": "stdout",
     "output_type": "stream",
     "text": [
      "Starting Stage 1\n",
      "Wed Mar 23 00:21:59 2022\n",
      "Iteration: 0 | Options: c1=0.500, c2=4.893, w=0.400 | Cost: 1277.0\n",
      "Elapsed time: 0.72 min | Time left: 35 min | ETA: Wed Mar 23 00:58:00 2022\n",
      "Iteration: 1 | Options: c1=0.548, c2=4.327, w=0.412 | Cost: 1277.0\n",
      "Elapsed time: 1.44 min | Time left: 34 min | ETA: Wed Mar 23 00:57:53 2022\n",
      "Iteration: 2 | Options: c1=0.596, c2=3.932, w=0.424 | Cost: 1184.0\n",
      "Elapsed time: 2.15 min | Time left: 34 min | ETA: Wed Mar 23 00:57:47 2022\n",
      "Iteration: 3 | Options: c1=0.643, c2=3.640, w=0.436 | Cost: 1184.0\n",
      "Elapsed time: 2.87 min | Time left: 33 min | ETA: Wed Mar 23 00:57:51 2022\n",
      "Iteration: 4 | Options: c1=0.690, c2=3.417, w=0.448 | Cost: 1184.0\n",
      "Elapsed time: 3.60 min | Time left: 32 min | ETA: Wed Mar 23 00:57:56 2022\n",
      "Iteration: 5 | Options: c1=0.738, c2=3.241, w=0.459 | Cost: 1184.0\n",
      "Elapsed time: 4.31 min | Time left: 32 min | ETA: Wed Mar 23 00:57:55 2022\n",
      "Iteration: 6 | Options: c1=0.784, c2=3.100, w=0.471 | Cost: 959.0\n",
      "Elapsed time: 5.04 min | Time left: 31 min | ETA: Wed Mar 23 00:57:57 2022\n",
      "Iteration: 7 | Options: c1=0.831, c2=2.983, w=0.483 | Cost: 959.0\n",
      "Elapsed time: 5.75 min | Time left: 30 min | ETA: Wed Mar 23 00:57:55 2022\n",
      "Iteration: 8 | Options: c1=0.878, c2=2.885, w=0.494 | Cost: 959.0\n",
      "Elapsed time: 6.47 min | Time left: 29 min | ETA: Wed Mar 23 00:57:55 2022\n",
      "Iteration: 9 | Options: c1=0.924, c2=2.802, w=0.506 | Cost: 959.0\n",
      "Elapsed time: 7.19 min | Time left: 29 min | ETA: Wed Mar 23 00:57:55 2022\n",
      "Iteration: 10 | Options: c1=0.970, c2=2.730, w=0.517 | Cost: 959.0\n",
      "Elapsed time: 7.91 min | Time left: 28 min | ETA: Wed Mar 23 00:57:55 2022\n",
      "Iteration: 11 | Options: c1=1.016, c2=2.668, w=0.529 | Cost: 734.0\n",
      "Elapsed time: 8.63 min | Time left: 27 min | ETA: Wed Mar 23 00:57:55 2022\n",
      "Iteration: 12 | Options: c1=1.061, c2=2.614, w=0.540 | Cost: 734.0\n",
      "Elapsed time: 9.38 min | Time left: 27 min | ETA: Wed Mar 23 00:58:04 2022\n",
      "Iteration: 13 | Options: c1=1.106, c2=2.566, w=0.552 | Cost: 734.0\n",
      "Elapsed time: 10.13 min | Time left: 26 min | ETA: Wed Mar 23 00:58:11 2022\n",
      "Iteration: 14 | Options: c1=1.152, c2=2.523, w=0.563 | Cost: 734.0\n",
      "Elapsed time: 10.86 min | Time left: 25 min | ETA: Wed Mar 23 00:58:11 2022\n",
      "Iteration: 15 | Options: c1=1.196, c2=2.485, w=0.574 | Cost: 734.0\n",
      "Elapsed time: 11.58 min | Time left: 25 min | ETA: Wed Mar 23 00:58:11 2022\n",
      "Iteration: 16 | Options: c1=1.241, c2=2.451, w=0.585 | Cost: 734.0\n",
      "Elapsed time: 12.30 min | Time left: 24 min | ETA: Wed Mar 23 00:58:09 2022\n",
      "Iteration: 17 | Options: c1=1.285, c2=2.420, w=0.596 | Cost: 734.0\n",
      "Elapsed time: 13.02 min | Time left: 23 min | ETA: Wed Mar 23 00:58:09 2022\n",
      "Iteration: 18 | Options: c1=1.329, c2=2.391, w=0.607 | Cost: 734.0\n",
      "Elapsed time: 13.74 min | Time left: 22 min | ETA: Wed Mar 23 00:58:08 2022\n",
      "Iteration: 19 | Options: c1=1.373, c2=2.366, w=0.618 | Cost: 734.0\n",
      "Elapsed time: 14.45 min | Time left: 22 min | ETA: Wed Mar 23 00:58:07 2022\n",
      "Iteration: 20 | Options: c1=1.417, c2=2.342, w=0.629 | Cost: 734.0\n",
      "Elapsed time: 15.17 min | Time left: 21 min | ETA: Wed Mar 23 00:58:06 2022\n",
      "Iteration: 21 | Options: c1=1.460, c2=2.320, w=0.640 | Cost: 734.0\n",
      "Elapsed time: 15.89 min | Time left: 20 min | ETA: Wed Mar 23 00:58:05 2022\n",
      "Iteration: 22 | Options: c1=1.503, c2=2.300, w=0.651 | Cost: 734.0\n",
      "Elapsed time: 16.61 min | Time left: 19 min | ETA: Wed Mar 23 00:58:05 2022\n",
      "Iteration: 23 | Options: c1=1.545, c2=2.281, w=0.661 | Cost: 734.0\n",
      "Elapsed time: 17.33 min | Time left: 19 min | ETA: Wed Mar 23 00:58:06 2022\n",
      "Iteration: 24 | Options: c1=1.587, c2=2.264, w=0.672 | Cost: 734.0\n",
      "Elapsed time: 18.06 min | Time left: 18 min | ETA: Wed Mar 23 00:58:06 2022\n",
      "Iteration: 25 | Options: c1=1.629, c2=2.248, w=0.682 | Cost: 734.0\n",
      "Elapsed time: 18.78 min | Time left: 17 min | ETA: Wed Mar 23 00:58:05 2022\n",
      "Iteration: 26 | Options: c1=1.671, c2=2.233, w=0.693 | Cost: 734.0\n",
      "Elapsed time: 19.50 min | Time left: 17 min | ETA: Wed Mar 23 00:58:05 2022\n",
      "Iteration: 27 | Options: c1=1.712, c2=2.219, w=0.703 | Cost: 728.0\n",
      "Elapsed time: 20.22 min | Time left: 16 min | ETA: Wed Mar 23 00:58:05 2022\n",
      "Iteration: 28 | Options: c1=1.753, c2=2.206, w=0.713 | Cost: 728.0\n",
      "Elapsed time: 20.94 min | Time left: 15 min | ETA: Wed Mar 23 00:58:05 2022\n",
      "Iteration: 29 | Options: c1=1.794, c2=2.193, w=0.723 | Cost: 728.0\n",
      "Elapsed time: 21.66 min | Time left: 14 min | ETA: Wed Mar 23 00:58:04 2022\n",
      "Iteration: 30 | Options: c1=1.834, c2=2.182, w=0.733 | Cost: 728.0\n",
      "Elapsed time: 22.38 min | Time left: 14 min | ETA: Wed Mar 23 00:58:05 2022\n",
      "Iteration: 31 | Options: c1=1.874, c2=2.171, w=0.743 | Cost: 728.0\n",
      "Elapsed time: 23.10 min | Time left: 13 min | ETA: Wed Mar 23 00:58:04 2022\n",
      "Iteration: 32 | Options: c1=1.913, c2=2.160, w=0.753 | Cost: 728.0\n",
      "Elapsed time: 23.82 min | Time left: 12 min | ETA: Wed Mar 23 00:58:04 2022\n",
      "Iteration: 33 | Options: c1=1.952, c2=2.151, w=0.763 | Cost: 728.0\n",
      "Elapsed time: 24.54 min | Time left: 12 min | ETA: Wed Mar 23 00:58:04 2022\n",
      "Iteration: 34 | Options: c1=1.990, c2=2.141, w=0.773 | Cost: 728.0\n",
      "Elapsed time: 25.27 min | Time left: 11 min | ETA: Wed Mar 23 00:58:04 2022\n",
      "Iteration: 35 | Options: c1=2.028, c2=2.132, w=0.782 | Cost: 728.0\n",
      "Elapsed time: 25.99 min | Time left: 10 min | ETA: Wed Mar 23 00:58:05 2022\n",
      "Iteration: 36 | Options: c1=2.066, c2=2.124, w=0.791 | Cost: 728.0\n",
      "Elapsed time: 26.72 min | Time left: 9 min | ETA: Wed Mar 23 00:58:05 2022\n",
      "Iteration: 37 | Options: c1=2.103, c2=2.116, w=0.801 | Cost: 728.0\n",
      "Elapsed time: 27.45 min | Time left: 9 min | ETA: Wed Mar 23 00:58:06 2022\n",
      "Iteration: 38 | Options: c1=2.139, c2=2.109, w=0.810 | Cost: 728.0\n",
      "Elapsed time: 28.18 min | Time left: 8 min | ETA: Wed Mar 23 00:58:06 2022\n",
      "Iteration: 39 | Options: c1=2.175, c2=2.101, w=0.819 | Cost: 728.0\n",
      "Elapsed time: 28.90 min | Time left: 7 min | ETA: Wed Mar 23 00:58:07 2022\n",
      "Iteration: 40 | Options: c1=2.210, c2=2.094, w=0.828 | Cost: 728.0\n",
      "Elapsed time: 29.63 min | Time left: 7 min | ETA: Wed Mar 23 00:58:07 2022\n",
      "Iteration: 41 | Options: c1=2.245, c2=2.088, w=0.836 | Cost: 728.0\n",
      "Elapsed time: 30.36 min | Time left: 6 min | ETA: Wed Mar 23 00:58:07 2022\n",
      "Iteration: 42 | Options: c1=2.278, c2=2.082, w=0.845 | Cost: 728.0\n",
      "Elapsed time: 31.08 min | Time left: 5 min | ETA: Wed Mar 23 00:58:07 2022\n",
      "Iteration: 43 | Options: c1=2.311, c2=2.076, w=0.853 | Cost: 728.0\n",
      "Elapsed time: 31.80 min | Time left: 4 min | ETA: Wed Mar 23 00:58:07 2022\n",
      "Iteration: 44 | Options: c1=2.343, c2=2.070, w=0.861 | Cost: 728.0\n",
      "Elapsed time: 32.53 min | Time left: 4 min | ETA: Wed Mar 23 00:58:07 2022\n",
      "Iteration: 45 | Options: c1=2.374, c2=2.064, w=0.868 | Cost: 728.0\n",
      "Elapsed time: 33.25 min | Time left: 3 min | ETA: Wed Mar 23 00:58:07 2022\n",
      "Iteration: 46 | Options: c1=2.403, c2=2.059, w=0.876 | Cost: 728.0\n",
      "Elapsed time: 33.97 min | Time left: 2 min | ETA: Wed Mar 23 00:58:07 2022\n",
      "Iteration: 47 | Options: c1=2.432, c2=2.054, w=0.883 | Cost: 728.0\n",
      "Elapsed time: 34.69 min | Time left: 1 min | ETA: Wed Mar 23 00:58:07 2022\n",
      "Iteration: 48 | Options: c1=2.458, c2=2.049, w=0.889 | Cost: 728.0\n",
      "Elapsed time: 35.42 min | Time left: 1 min | ETA: Wed Mar 23 00:58:07 2022\n",
      "Iteration: 49 | Options: c1=2.482, c2=2.044, w=0.895 | Cost: 728.0\n",
      "Elapsed time: 36.15 min | Time left: 0 min | ETA: Wed Mar 23 00:58:08 2022\n",
      "\n",
      "Starting Stage 2\n",
      "Wed Mar 23 00:58:08 2022\n",
      "Iteration: 0 | Options: c1=0.500, c2=4.893, w=0.400 | Cost: 728.0\n",
      "Elapsed time: 0.73 min | Time left: 36 min | ETA: Wed Mar 23 01:34:25 2022\n",
      "Iteration: 1 | Options: c1=0.548, c2=4.327, w=0.412 | Cost: 728.0\n",
      "Elapsed time: 1.44 min | Time left: 35 min | ETA: Wed Mar 23 01:34:13 2022\n",
      "Iteration: 2 | Options: c1=0.596, c2=3.932, w=0.424 | Cost: 728.0\n",
      "Elapsed time: 2.16 min | Time left: 34 min | ETA: Wed Mar 23 01:34:13 2022\n",
      "Iteration: 3 | Options: c1=0.643, c2=3.640, w=0.436 | Cost: 728.0\n",
      "Elapsed time: 2.89 min | Time left: 33 min | ETA: Wed Mar 23 01:34:14 2022\n",
      "Iteration: 4 | Options: c1=0.690, c2=3.417, w=0.448 | Cost: 728.0\n",
      "Elapsed time: 3.60 min | Time left: 32 min | ETA: Wed Mar 23 01:34:11 2022\n",
      "Iteration: 5 | Options: c1=0.738, c2=3.241, w=0.459 | Cost: 728.0\n",
      "Elapsed time: 4.34 min | Time left: 32 min | ETA: Wed Mar 23 01:34:18 2022\n",
      "Iteration: 6 | Options: c1=0.784, c2=3.100, w=0.471 | Cost: 728.0\n",
      "Elapsed time: 5.07 min | Time left: 31 min | ETA: Wed Mar 23 01:34:23 2022\n",
      "Iteration: 7 | Options: c1=0.831, c2=2.983, w=0.483 | Cost: 728.0\n",
      "Elapsed time: 5.80 min | Time left: 30 min | ETA: Wed Mar 23 01:34:24 2022\n",
      "Iteration: 8 | Options: c1=0.878, c2=2.885, w=0.494 | Cost: 728.0\n",
      "Elapsed time: 6.54 min | Time left: 30 min | ETA: Wed Mar 23 01:34:27 2022\n",
      "Iteration: 9 | Options: c1=0.924, c2=2.802, w=0.506 | Cost: 728.0\n",
      "Elapsed time: 7.28 min | Time left: 29 min | ETA: Wed Mar 23 01:34:33 2022\n",
      "Iteration: 10 | Options: c1=0.970, c2=2.730, w=0.517 | Cost: 728.0\n",
      "Elapsed time: 8.02 min | Time left: 28 min | ETA: Wed Mar 23 01:34:34 2022\n",
      "Iteration: 11 | Options: c1=1.016, c2=2.668, w=0.529 | Cost: 653.0\n",
      "Elapsed time: 8.75 min | Time left: 28 min | ETA: Wed Mar 23 01:34:36 2022\n",
      "Iteration: 12 | Options: c1=1.061, c2=2.614, w=0.540 | Cost: 653.0\n",
      "Elapsed time: 9.49 min | Time left: 27 min | ETA: Wed Mar 23 01:34:38 2022\n",
      "Iteration: 13 | Options: c1=1.106, c2=2.566, w=0.552 | Cost: 653.0\n",
      "Elapsed time: 10.21 min | Time left: 26 min | ETA: Wed Mar 23 01:34:36 2022\n",
      "Iteration: 14 | Options: c1=1.152, c2=2.523, w=0.563 | Cost: 616.0\n",
      "Elapsed time: 10.95 min | Time left: 26 min | ETA: Wed Mar 23 01:34:38 2022\n",
      "Iteration: 15 | Options: c1=1.196, c2=2.485, w=0.574 | Cost: 616.0\n",
      "Elapsed time: 11.69 min | Time left: 25 min | ETA: Wed Mar 23 01:34:39 2022\n",
      "Iteration: 16 | Options: c1=1.241, c2=2.451, w=0.585 | Cost: 534.0\n",
      "Elapsed time: 12.42 min | Time left: 24 min | ETA: Wed Mar 23 01:34:39 2022\n",
      "Iteration: 17 | Options: c1=1.285, c2=2.420, w=0.596 | Cost: 534.0\n",
      "Elapsed time: 13.14 min | Time left: 23 min | ETA: Wed Mar 23 01:34:38 2022\n",
      "Iteration: 18 | Options: c1=1.329, c2=2.391, w=0.607 | Cost: 534.0\n",
      "Elapsed time: 13.87 min | Time left: 23 min | ETA: Wed Mar 23 01:34:38 2022\n",
      "Iteration: 19 | Options: c1=1.373, c2=2.366, w=0.618 | Cost: 534.0\n",
      "Elapsed time: 14.60 min | Time left: 22 min | ETA: Wed Mar 23 01:34:37 2022\n",
      "Iteration: 20 | Options: c1=1.417, c2=2.342, w=0.629 | Cost: 534.0\n",
      "Elapsed time: 15.32 min | Time left: 21 min | ETA: Wed Mar 23 01:34:37 2022\n",
      "Iteration: 21 | Options: c1=1.460, c2=2.320, w=0.640 | Cost: 534.0\n",
      "Elapsed time: 16.06 min | Time left: 20 min | ETA: Wed Mar 23 01:34:38 2022\n",
      "Iteration: 22 | Options: c1=1.503, c2=2.300, w=0.651 | Cost: 526.0\n",
      "Elapsed time: 16.78 min | Time left: 20 min | ETA: Wed Mar 23 01:34:37 2022\n",
      "Iteration: 23 | Options: c1=1.545, c2=2.281, w=0.661 | Cost: 526.0\n",
      "Elapsed time: 17.51 min | Time left: 19 min | ETA: Wed Mar 23 01:34:37 2022\n",
      "Iteration: 24 | Options: c1=1.587, c2=2.264, w=0.672 | Cost: 526.0\n",
      "Elapsed time: 18.24 min | Time left: 18 min | ETA: Wed Mar 23 01:34:37 2022\n",
      "Iteration: 25 | Options: c1=1.629, c2=2.248, w=0.682 | Cost: 526.0\n",
      "Elapsed time: 18.97 min | Time left: 18 min | ETA: Wed Mar 23 01:34:37 2022\n",
      "Iteration: 26 | Options: c1=1.671, c2=2.233, w=0.693 | Cost: 526.0\n",
      "Elapsed time: 19.70 min | Time left: 17 min | ETA: Wed Mar 23 01:34:37 2022\n",
      "Iteration: 27 | Options: c1=1.712, c2=2.219, w=0.703 | Cost: 526.0\n",
      "Elapsed time: 20.43 min | Time left: 16 min | ETA: Wed Mar 23 01:34:37 2022\n",
      "Iteration: 28 | Options: c1=1.753, c2=2.206, w=0.713 | Cost: 526.0\n",
      "Elapsed time: 21.16 min | Time left: 15 min | ETA: Wed Mar 23 01:34:37 2022\n",
      "Iteration: 29 | Options: c1=1.794, c2=2.193, w=0.723 | Cost: 493.0\n",
      "Elapsed time: 21.88 min | Time left: 15 min | ETA: Wed Mar 23 01:34:36 2022\n",
      "Iteration: 30 | Options: c1=1.834, c2=2.182, w=0.733 | Cost: 448.0\n",
      "Elapsed time: 22.62 min | Time left: 14 min | ETA: Wed Mar 23 01:34:36 2022\n",
      "Iteration: 31 | Options: c1=1.874, c2=2.171, w=0.743 | Cost: 448.0\n",
      "Elapsed time: 23.32 min | Time left: 13 min | ETA: Wed Mar 23 01:34:34 2022\n",
      "Iteration: 32 | Options: c1=1.913, c2=2.160, w=0.753 | Cost: 447.0\n",
      "Elapsed time: 24.02 min | Time left: 12 min | ETA: Wed Mar 23 01:34:32 2022\n",
      "Iteration: 33 | Options: c1=1.952, c2=2.151, w=0.763 | Cost: 443.0\n",
      "Elapsed time: 24.73 min | Time left: 12 min | ETA: Wed Mar 23 01:34:30 2022\n",
      "Iteration: 34 | Options: c1=1.990, c2=2.141, w=0.773 | Cost: 443.0\n",
      "Elapsed time: 25.43 min | Time left: 11 min | ETA: Wed Mar 23 01:34:27 2022\n",
      "Iteration: 35 | Options: c1=2.028, c2=2.132, w=0.782 | Cost: 443.0\n",
      "Elapsed time: 26.13 min | Time left: 10 min | ETA: Wed Mar 23 01:34:25 2022\n",
      "Iteration: 36 | Options: c1=2.066, c2=2.124, w=0.791 | Cost: 436.0\n",
      "Elapsed time: 26.83 min | Time left: 9 min | ETA: Wed Mar 23 01:34:24 2022\n",
      "Iteration: 37 | Options: c1=2.103, c2=2.116, w=0.801 | Cost: 427.0\n",
      "Elapsed time: 27.54 min | Time left: 9 min | ETA: Wed Mar 23 01:34:22 2022\n",
      "Iteration: 38 | Options: c1=2.139, c2=2.109, w=0.810 | Cost: 412.0\n",
      "Elapsed time: 28.24 min | Time left: 8 min | ETA: Wed Mar 23 01:34:20 2022\n",
      "Iteration: 39 | Options: c1=2.175, c2=2.101, w=0.819 | Cost: 399.0\n",
      "Elapsed time: 28.94 min | Time left: 7 min | ETA: Wed Mar 23 01:34:19 2022\n",
      "Iteration: 40 | Options: c1=2.210, c2=2.094, w=0.828 | Cost: 394.0\n",
      "Elapsed time: 29.65 min | Time left: 7 min | ETA: Wed Mar 23 01:34:17 2022\n",
      "Iteration: 41 | Options: c1=2.245, c2=2.088, w=0.836 | Cost: 394.0\n",
      "Elapsed time: 30.35 min | Time left: 6 min | ETA: Wed Mar 23 01:34:16 2022\n",
      "Iteration: 42 | Options: c1=2.278, c2=2.082, w=0.845 | Cost: 394.0\n",
      "Elapsed time: 31.05 min | Time left: 5 min | ETA: Wed Mar 23 01:34:14 2022\n",
      "Iteration: 43 | Options: c1=2.311, c2=2.076, w=0.853 | Cost: 394.0\n",
      "Elapsed time: 31.76 min | Time left: 4 min | ETA: Wed Mar 23 01:34:14 2022\n",
      "Iteration: 44 | Options: c1=2.343, c2=2.070, w=0.861 | Cost: 394.0\n",
      "Elapsed time: 32.47 min | Time left: 4 min | ETA: Wed Mar 23 01:34:12 2022\n",
      "Iteration: 45 | Options: c1=2.374, c2=2.064, w=0.868 | Cost: 394.0\n",
      "Elapsed time: 33.17 min | Time left: 3 min | ETA: Wed Mar 23 01:34:11 2022\n",
      "Iteration: 46 | Options: c1=2.403, c2=2.059, w=0.876 | Cost: 394.0\n",
      "Elapsed time: 33.87 min | Time left: 2 min | ETA: Wed Mar 23 01:34:10 2022\n",
      "Iteration: 47 | Options: c1=2.432, c2=2.054, w=0.883 | Cost: 394.0\n",
      "Elapsed time: 34.58 min | Time left: 1 min | ETA: Wed Mar 23 01:34:09 2022\n",
      "Iteration: 48 | Options: c1=2.458, c2=2.049, w=0.889 | Cost: 394.0\n",
      "Elapsed time: 35.29 min | Time left: 1 min | ETA: Wed Mar 23 01:34:08 2022\n",
      "Iteration: 49 | Options: c1=2.482, c2=2.044, w=0.895 | Cost: 394.0\n",
      "Elapsed time: 35.99 min | Time left: 0 min | ETA: Wed Mar 23 01:34:07 2022\n",
      "\n",
      "\n",
      "Initial cost = 1277 --> Final cost = 394.0\n"
     ]
    }
   ],
   "source": [
    "init_pos = gVec_init\n",
    "start_opts = {'c1': 0.5, 'c2': 2.5, 'w': 0.4, 'k': 7, 'p': 1}\n",
    "end_opts = {'c1': 2.5, 'c2': 0.5, 'w': 0.9}\n",
    "oh_strategy = {'w': 'nonlin_mod', 'c1': 'nonlin_mod', 'c2': 'exp_decay'}\n",
    "iters = 50\n",
    "swarm_size = 50\n",
    "\n",
    "for i in range(2):\n",
    "    print(f'Starting Stage {i+1}')\n",
    "    cost, joint_vars, optimizer = optimize(\n",
    "                                           projRes,\n",
    "                                           iters, \n",
    "                                           swarm_size, \n",
    "                                           len(init_pos), \n",
    "                                           constraints, \n",
    "                                           init_pos, \n",
    "                                           oh_strategy, \n",
    "                                           start_opts, \n",
    "                                           end_opts\n",
    "                                           )\n",
    "    init_pos = joint_vars\n",
    "    print('')\n",
    "\n",
    "print('')\n",
    "print(f'Initial cost = {init_cost} --> Final cost = {cost}')"
   ]
  },
  {
   "cell_type": "markdown",
   "id": "c5335cce-6a32-4ce0-93ca-7b8ab6fdd4fc",
   "metadata": {},
   "source": [
    "## Results"
   ]
  },
  {
   "cell_type": "markdown",
   "id": "a14712b1-dc49-4aff-9116-87f454de4fb0",
   "metadata": {},
   "source": [
    "Let's visualize the refined geometry's reconstruction."
   ]
  },
  {
   "cell_type": "code",
   "execution_count": 16,
   "id": "7d1bd490-c318-429b-9a1c-96aa6fbbe646",
   "metadata": {},
   "outputs": [],
   "source": [
    "W_pso = getSystemMatrix(geomDict(joint_vars))\n",
    "volPSO, projPSO = MLOS(W_pso, projRes, 'proj', 3, fp='reconInit_lo')"
   ]
  },
  {
   "cell_type": "code",
   "execution_count": 17,
   "id": "1ffe0c2f-ea96-4ded-92ec-258cd2b95e86",
   "metadata": {},
   "outputs": [
    {
     "data": {
      "image/png": "[encoded data removed]",
      "text/plain": [
       "<Figure size 720x432 with 3 Axes>"
      ]
     },
     "metadata": {
      "needs_background": "light"
     },
     "output_type": "display_data"
    }
   ],
   "source": [
    "compareProj(projRes, projPSO, f'After Refinement (Error = {cost} px)')"
   ]
  },
  {
   "cell_type": "markdown",
   "id": "26758317-0aa0-4dd4-ac1e-802028f749aa",
   "metadata": {},
   "source": [
    "We see that we have recovered more of the previously red region from this refinement procedure (less of the jets are red!)."
   ]
  },
  {
   "cell_type": "markdown",
   "id": "c7bd10df-61a0-42f1-956b-257a7f3f616b",
   "metadata": {},
   "source": [
    "## Save refined geometry\n",
    "The final refined geometry is saved in a text file for use in the reconstruction step."
   ]
  },
  {
   "cell_type": "code",
   "execution_count": 18,
   "id": "2723ba7b-2236-4f78-b383-ab9ab702bc75",
   "metadata": {
    "tags": []
   },
   "outputs": [],
   "source": [
    "with open(f'{out_fld}/geom_pso.txt', 'w') as file:\n",
    "     file.write(json.dumps(geomDict(joint_vars), indent=1))"
   ]
  },
  {
   "cell_type": "markdown",
   "id": "6dbeae97-cff8-44b5-b057-a6557bafa3e7",
   "metadata": {},
   "source": [
    "## Next steps\n",
    "After calibration refinement, the next step in the workflow is [pb04_reconstruction.ipynb](./pb03_reconstruction.ipynb)."
   ]
  },
  {
   "cell_type": "markdown",
   "id": "95d4083a-3a1c-42c6-a5ef-022cd5629217",
   "metadata": {},
   "source": [
    "## References"
   ]
  },
  {
   "cell_type": "markdown",
   "id": "eaaaf06f-4828-44ab-be83-d06708282746",
   "metadata": {},
   "source": [
    "1. Albiol, F., Corbi, A. & Albiol, A. Evaluation of modern camera calibration techniques for conventional diagnostic X-ray imaging settings. *Radiol Phys Technol* 10, 68–81 (2017). doi: [10.1007/s12194-016-0369-y](https://doi.org/10.1007/s12194-016-0369-y).\n",
    "\n",
    "\n",
    "2. Li, X., Zhang, D. & Liu, B. A generic geometric calibration method for tomographic imaging systems with flat-panel detectors-A detailed implementation guide: Geometric calibration method for tomographic imaging systems. *Med. Phys.* 37, 3844–3854 (2010). doi: [10.1118/1.3431996](https://doi.org/10.1118/1.3431996).\n",
    "\n",
    "3. van Aarle, W. et al. The ASTRA Toolbox: A platform for advanced algorithm development in electron tomography. *Ultramicroscopy* 157, 35–47 (2015). doi: [10.1016/j.ultramic.2015.05.002](https://doi.org/10.1016/j.ultramic.2015.05.002).\n",
    "\n",
    "4. van Aarle, W. et al. Fast and flexible X-ray tomography using the ASTRA toolbox. *Opt. Express* 24, 25129 (2016). doi: [10.1364/OE.24.025129](https://doi.org/10.1364/OE.24.025129).\n",
    "\n",
    "\n",
    "5. Atkinson, C. & Soria, J. An efficient simultaneous reconstruction technique for tomographic particle image velocimetry. *Exp. Fluids* 47, 553–568 (2009). doi: [10.1007/s00348-009-0728-0](https://doi.org/10.1007/s00348-009-0728-0).\n",
    "\n",
    "6. Worth, N. A. & Nickels, T. B. Acceleration of Tomo-PIV by estimating the initial volume intensity distribution. *Exp. Fluids* 45, 847–856 (2008). doi: [10.1007/s00348-008-0504-6](https://doi.org/10.1007/s00348-008-0504-6).\n",
    "\n",
    "7. Kennedy, J. & Eberhart, R. Particle swarm optimization. in *Proceedings of ICNN’95 - International Conference on Neural Networks* vol. 4 1942–1948 (IEEE, 1995). doi: [10.1109/ICNN.1995.488968](https://doi.org/10.1109/ICNN.1995.488968).\n",
    "\n",
    "8. James V. Miranda, L. PySwarms: a research toolkit for Particle Swarm Optimization in Python. *JOSS* 3, 433 (2018). doi: [10.21105/joss.00433](https://doi.org/10.21105/joss.00433)."
   ]
  },
  {
   "cell_type": "markdown",
   "id": "44d23480-7e17-4a29-960e-ec7fbf88be96",
   "metadata": {},
   "source": [
    "---\n",
    "\n",
    "**Author**: Naveed Rahman, Purdue University, 23 March 2022\n",
    "\n",
    "---"
   ]
  }
 ],
 "metadata": {
  "kernelspec": {
   "display_name": "Python 3 (ipykernel)",
   "language": "python",
   "name": "python3"
  },
  "language_info": {
   "codemirror_mode": {
    "name": "ipython",
    "version": 3
   },
   "file_extension": ".py",
   "mimetype": "text/x-python",
   "name": "python",
   "nbconvert_exporter": "python",
   "pygments_lexer": "ipython3",
   "version": "3.7.7"
  },
  "toc-autonumbering": false,
  "toc-showcode": false,
  "toc-showmarkdowntxt": false,
  "toc-showtags": false,
  "widgets": {
   "application/vnd.jupyter.widget-state+json": {
    "state": {},
    "version_major": 2,
    "version_minor": 0
   }
  }
 },
 "nbformat": 4,
 "nbformat_minor": 5
}
