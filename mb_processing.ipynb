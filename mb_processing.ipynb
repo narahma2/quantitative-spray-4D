{
 "cells": [
  {
   "cell_type": "markdown",
   "id": "08589f5b-7232-4fe3-ad67-0030174b41fb",
   "metadata": {},
   "source": [
    "# Monochromatic beam reconstruction\n",
    "\n",
    "In this notebook, the raw time-averaged scan data from APS is converted into projected density and tomographically reconstructed into 2D slices.\n",
    "\n",
    "---"
   ]
  },
  {
   "cell_type": "markdown",
   "id": "4c1e7bf0-d91d-409c-93ab-169fd234474c",
   "metadata": {},
   "source": [
    "## Environment setup"
   ]
  },
  {
   "cell_type": "code",
   "execution_count": 1,
   "id": "c5d39014",
   "metadata": {
    "execution": {
     "iopub.execute_input": "2022-03-24T05:36:20.835832Z",
     "iopub.status.busy": "2022-03-24T05:36:20.835244Z",
     "iopub.status.idle": "2022-03-24T05:36:40.201514Z",
     "shell.execute_reply": "2022-03-24T05:36:40.200862Z",
     "shell.execute_reply.started": "2022-03-24T05:36:20.835742Z"
    },
    "tags": []
   },
   "outputs": [],
   "source": [
    "import ipywidgets as widgets\n",
    "import numpy as np\n",
    "\n",
    "from ipywidgets import (\n",
    "                        fixed,\n",
    "                        interact\n",
    "                        )\n",
    "\n",
    "from mb_utilities import (\n",
    "                          convertMB,\n",
    "                          showSprayMB,\n",
    "                          scaleTIM,\n",
    "                          rotCenter,\n",
    "                          recon,\n",
    "                          showHistory,\n",
    "                          showComparisonMB,\n",
    "                          showLVF\n",
    "                          )\n",
    "\n",
    "\n",
    "# Data directories\n",
    "inp_fld = 'inputs'\n",
    "out_fld = 'outputs'"
   ]
  },
  {
   "cell_type": "markdown",
   "id": "9da06732-582d-43d2-9eab-da2498ba62a7",
   "metadata": {},
   "source": [
    "### Version information"
   ]
  },
  {
   "cell_type": "code",
   "execution_count": 2,
   "id": "531dc675-fa42-4ec0-af31-e50e4938ae88",
   "metadata": {
    "execution": {
     "iopub.execute_input": "2022-03-24T05:36:40.202397Z",
     "iopub.status.busy": "2022-03-24T05:36:40.202235Z",
     "iopub.status.idle": "2022-03-24T05:36:40.323744Z",
     "shell.execute_reply": "2022-03-24T05:36:40.322730Z",
     "shell.execute_reply.started": "2022-03-24T05:36:40.202377Z"
    }
   },
   "outputs": [
    {
     "name": "stdout",
     "output_type": "stream",
     "text": [
      "ipywidgets: 7.6.5\n",
      "astra     : 2.0.0\n",
      "cv2       : 4.5.1\n",
      "h5py      : 3.6.0\n",
      "numpy     : 1.17.0\n",
      "matplotlib: 3.4.3\n",
      "skimage   : 0.18.1\n",
      "tomopy    : 1.7.1\n",
      "\n"
     ]
    }
   ],
   "source": [
    "%reload_ext watermark\n",
    "%watermark -p ipywidgets,astra,cv2,h5py,numpy,matplotlib,skimage,tomopy"
   ]
  },
  {
   "cell_type": "markdown",
   "id": "0661574c-7406-484f-98de-4d467e97c5e0",
   "metadata": {},
   "source": [
    "## Projected density scans"
   ]
  },
  {
   "cell_type": "markdown",
   "id": "ceb1fe9a-cf61-4e65-86d2-6680a23fe8f6",
   "metadata": {},
   "source": [
    "The raw scans for both $Re$ cases (open rim condition at $Re$ = 6,700; impact wave condition at $Re$ = 10,100) are located in the `<inputs/*monochromatic*.hdf5>` files. For data compression, the temporally-resolved scan datasets were averaged in time. The reconstructions end up being time-averaged due to the single line of sight nature of the technique, so the loss in resolution is considered unimportant here.\n",
    "\n",
    "Let's load in the data and convert the scans to projected density using `convertMB()` (see: [mb_utilities.py](./mb_utilities.py)). The datasets are split up by their corresponding axial locations; at the open rim condition $Re$ = 6,700 three locations of $y/d$ = -2, 0, and 2 were collected, where $y$ is the axial location in mm and $d$ is the jet diameter in mm. These are denoted here as the `jets`, `impingement`, and `near` locations. As the `jets` are considered to be stable regardless of flow rate, only the `impingement` and `near` locations were collected at the impact wave condition $Re$ = 10,100 in an effort to save time while running the experiment at APS."
   ]
  },
  {
   "cell_type": "code",
   "execution_count": 3,
   "id": "83d89006-5dc9-47a2-8fa6-b0b0fc371552",
   "metadata": {
    "execution": {
     "iopub.execute_input": "2022-03-24T05:36:40.326158Z",
     "iopub.status.busy": "2022-03-24T05:36:40.325917Z",
     "iopub.status.idle": "2022-03-24T05:36:40.367345Z",
     "shell.execute_reply": "2022-03-24T05:36:40.366499Z",
     "shell.execute_reply.started": "2022-03-24T05:36:40.326124Z"
    },
    "tags": []
   },
   "outputs": [],
   "source": [
    "# HDF5 files\n",
    "path_lo = 'spray_monochromatic_Re-6700_averaged'\n",
    "path_hi = 'spray_monochromatic_Re-10100_averaged'\n",
    "\n",
    "# Locations\n",
    "loc_lo = ['jets', 'impingement', 'near']\n",
    "loc_hi = ['impingement', 'near']\n",
    "\n",
    "# Offset indices\n",
    "ind_lo = [-2, -7, -3]\n",
    "ind_hi = [-10, -10, -10]\n",
    "\n",
    "# Retrieve data for the Re = 6,700 case\n",
    "mb_lo = np.array([\n",
    "                  convertMB(path_lo, loc, ind)\n",
    "                  for (loc, ind) in zip(loc_lo, ind_lo)\n",
    "                  ], dtype=object)\n",
    "\n",
    "# Retrieve data for the Re = 10,100 case\n",
    "mb_hi = np.array([\n",
    "                  convertMB(path_hi, loc, ind)\n",
    "                  for (loc, ind) in zip(loc_hi, ind_hi)\n",
    "                  ], dtype=object)"
   ]
  },
  {
   "cell_type": "markdown",
   "id": "252e63be-127d-4391-af2a-27a812af5969",
   "metadata": {},
   "source": [
    "The next step is to scale the liquid masses from each view to be consistent. This is done by calculating the total liquid mass in each view and scaling to the mean liquid mass at each axial location. We see that the variation between all views in liquid mass is around ~2%, however after correction the variation reduces down to effectively 0%."
   ]
  },
  {
   "cell_type": "code",
   "execution_count": 4,
   "id": "2aa6ee88-4b64-439f-afdd-a541402f1b36",
   "metadata": {
    "execution": {
     "iopub.execute_input": "2022-03-24T05:36:40.369654Z",
     "iopub.status.busy": "2022-03-24T05:36:40.369277Z",
     "iopub.status.idle": "2022-03-24T05:36:40.385114Z",
     "shell.execute_reply": "2022-03-24T05:36:40.384324Z",
     "shell.execute_reply.started": "2022-03-24T05:36:40.369609Z"
    },
    "tags": []
   },
   "outputs": [
    {
     "name": "stdout",
     "output_type": "stream",
     "text": [
      "Re = 6700 | Variation in liquid masses: [1.26 1.58 2.56]%\n",
      "Re = 6700 | Variation after correction: [0. 0. 0.]%\n",
      "Re = 10100 | Variation in liquid masses: [1.65 1.38]%\n",
      "Re = 10100 | Variation after correction: [0. 0.]%\n"
     ]
    }
   ],
   "source": [
    "scaled_lo, err_lo, corr_lo = zip(*[scaleTIM(x) for x in mb_lo])\n",
    "mb_corr_lo = mb_lo.copy()\n",
    "mb_corr_lo[:,2] = scaled_lo\n",
    "print(f'Re = 6700 | Variation in liquid masses: {np.array(err_lo).round(2)}%')\n",
    "print(f'Re = 6700 | Variation after correction: {np.array(corr_lo).round(2)}%')\n",
    "\n",
    "scaled_hi, err_hi, corr_hi = zip(*[scaleTIM(x) for x in mb_hi])\n",
    "mb_corr_hi = mb_hi.copy()\n",
    "mb_corr_hi[:,2] = scaled_hi\n",
    "print(f'Re = 10100 | Variation in liquid masses: {np.array(err_hi).round(2)}%')\n",
    "print(f'Re = 10100 | Variation after correction: {np.array(corr_hi).round(2)}%')"
   ]
  },
  {
   "cell_type": "markdown",
   "id": "9b1e9e3a-0fb7-4f7f-911d-cea1932242e6",
   "metadata": {},
   "source": [
    "Let's visualize the spray at the different axial locations and rotations next. Due to the focused beam nature, each of the points of the spray was collected by raster scanning the spray geometry across the fixed beam. The angular rotations were achieved by rotating the spray geometry using a rotation stage mount."
   ]
  },
  {
   "cell_type": "code",
   "execution_count": 5,
   "id": "99461ce9-81e8-40b2-bf80-60a4a44ab76c",
   "metadata": {
    "execution": {
     "iopub.execute_input": "2022-03-24T05:36:40.387277Z",
     "iopub.status.busy": "2022-03-24T05:36:40.386284Z",
     "iopub.status.idle": "2022-03-24T05:36:40.798884Z",
     "shell.execute_reply": "2022-03-24T05:36:40.798019Z",
     "shell.execute_reply.started": "2022-03-24T05:36:40.387247Z"
    },
    "tags": []
   },
   "outputs": [
    {
     "data": {
      "application/vnd.jupyter.widget-view+json": {
       "model_id": "c5c5c7d1eec9417ab9a31e56786b0fd7",
       "version_major": 2,
       "version_minor": 0
      },
      "text/plain": [
       "interactive(children=(ToggleButtons(description='y location', options=(('jets', 0), ('impingement', 1), ('near…"
      ]
     },
     "metadata": {},
     "output_type": "display_data"
    },
    {
     "data": {
      "text/plain": [
       "<function mb_utilities.showSprayMB(loc, mb, view, Re)>"
      ]
     },
     "execution_count": 5,
     "metadata": {},
     "output_type": "execute_result"
    }
   ],
   "source": [
    "interact(\n",
    "         showSprayMB,\n",
    "         loc=widgets.ToggleButtons(options=list(zip(loc_lo, [0,1,2])),\n",
    "                                   description='y location',\n",
    "                                   ),\n",
    "         view=widgets.IntSlider(min=0, max=17, step=1),\n",
    "         mb=fixed(mb_corr_lo),\n",
    "         Re=fixed(6700),\n",
    "         )"
   ]
  },
  {
   "cell_type": "code",
   "execution_count": 6,
   "id": "2d88a27f-d546-4476-b967-b45d4da7a0d9",
   "metadata": {
    "execution": {
     "iopub.execute_input": "2022-03-24T05:36:40.800058Z",
     "iopub.status.busy": "2022-03-24T05:36:40.799867Z",
     "iopub.status.idle": "2022-03-24T05:36:40.958191Z",
     "shell.execute_reply": "2022-03-24T05:36:40.957461Z",
     "shell.execute_reply.started": "2022-03-24T05:36:40.800022Z"
    },
    "tags": []
   },
   "outputs": [
    {
     "data": {
      "application/vnd.jupyter.widget-view+json": {
       "model_id": "238ae212450641a8b7e63430a6bf3305",
       "version_major": 2,
       "version_minor": 0
      },
      "text/plain": [
       "interactive(children=(ToggleButtons(description='y location', options=(('impingement', 0), ('near', 1)), value…"
      ]
     },
     "metadata": {},
     "output_type": "display_data"
    },
    {
     "data": {
      "text/plain": [
       "<function mb_utilities.showSprayMB(loc, mb, view, Re)>"
      ]
     },
     "execution_count": 6,
     "metadata": {},
     "output_type": "execute_result"
    }
   ],
   "source": [
    "interact(\n",
    "         showSprayMB,\n",
    "         loc=widgets.ToggleButtons(options=list(zip(loc_hi, [0,1])),\n",
    "                                   description='y location',\n",
    "                                   ),\n",
    "         view=widgets.IntSlider(min=0, max=16, step=1),\n",
    "         mb=fixed(mb_corr_hi),\n",
    "         Re=fixed(10100),\n",
    "         )"
   ]
  },
  {
   "cell_type": "markdown",
   "id": "ce179215-0515-4d27-bae3-4e141c1e36e9",
   "metadata": {},
   "source": [
    "## Time-averaged reconstruction"
   ]
  },
  {
   "cell_type": "markdown",
   "id": "b1e3722d-99e7-4cf9-9c16-983e3c6130fd",
   "metadata": {},
   "source": [
    "As can be seen in the scans above, the rotation center of the scans are not all consistent. This is most likely due to the rotation stage center not being perfectly in-line with the focused beam. However, this offset in rotation center can be accounted for, which is done below using `rotCenter()` (see: [mb_utilities.py](./mb_utilities.py)). The function is a wrapper to TomoPy's `find_center()`."
   ]
  },
  {
   "cell_type": "code",
   "execution_count": 7,
   "id": "1ef0c253-5f43-48b1-9597-55b8e80963b8",
   "metadata": {
    "execution": {
     "iopub.execute_input": "2022-03-24T05:36:40.959342Z",
     "iopub.status.busy": "2022-03-24T05:36:40.959160Z",
     "iopub.status.idle": "2022-03-24T05:36:41.131700Z",
     "shell.execute_reply": "2022-03-24T05:36:41.130834Z",
     "shell.execute_reply.started": "2022-03-24T05:36:40.959306Z"
    },
    "tags": []
   },
   "outputs": [],
   "source": [
    "%%capture\n",
    "\n",
    "c0_lo = [17, 25, 24]\n",
    "c0_hi = [25, 30]\n",
    "\n",
    "center_lo = [rotCenter(mb, c0) for (mb, c0) in zip(mb_lo, c0_lo)]\n",
    "center_hi = [rotCenter(mb, c0) for (mb, c0) in zip(mb_hi, c0_hi)]"
   ]
  },
  {
   "cell_type": "markdown",
   "id": "4a3f1c4b-57d0-4b5d-9616-6d50d8cf1fbc",
   "metadata": {},
   "source": [
    "For reconstruction, we will need to define the grids for each axial location, as done below. These were found through manual iteration."
   ]
  },
  {
   "cell_type": "code",
   "execution_count": 8,
   "id": "952ee142-3cb4-4f9f-99ed-db147425f77a",
   "metadata": {
    "execution": {
     "iopub.execute_input": "2022-03-24T05:36:41.133444Z",
     "iopub.status.busy": "2022-03-24T05:36:41.132988Z",
     "iopub.status.idle": "2022-03-24T05:36:41.141483Z",
     "shell.execute_reply": "2022-03-24T05:36:41.139743Z",
     "shell.execute_reply.started": "2022-03-24T05:36:41.133370Z"
    },
    "tags": []
   },
   "outputs": [],
   "source": [
    "# Reconstruction windows\n",
    "win_lo = [\n",
    "          [(-4,4), (-4,4)],\n",
    "          [(-4,4), (-6,6)],\n",
    "          [(-4,4), (-9,9)],\n",
    "          ]\n",
    "\n",
    "win_hi = [\n",
    "          [(-5,5), (-6,6)],\n",
    "          [(-5,5), (-12,12)]\n",
    "          ]"
   ]
  },
  {
   "cell_type": "markdown",
   "id": "49313663-16a8-4776-9a7a-055b5180da7a",
   "metadata": {},
   "source": [
    "The reconstruction routine is done using a parallel beam assumption with the ASTRA toolbox [[1]](#References), [[2]](#References). An iterative maximum-likelihood expectation-maximization (MLEM) routine is used with an initial volume calculated using a multiplicative line of sight (MLOS) approach [[3]](#References), [[4]](#References), [[5]](#References), [[6]](#References). Smoothing is done between iterations using a Savitzky-Golay 2D filter [[7]](#References). The reconstruction is carried out in `recon()` (see: [mb_utilities.py](./mb_utilities.py))."
   ]
  },
  {
   "cell_type": "code",
   "execution_count": 9,
   "id": "7c24e0b5-c2fd-46e4-b2db-7860faefac09",
   "metadata": {
    "execution": {
     "iopub.execute_input": "2022-03-24T05:36:41.142959Z",
     "iopub.status.busy": "2022-03-24T05:36:41.142647Z",
     "iopub.status.idle": "2022-03-24T05:36:41.800777Z",
     "shell.execute_reply": "2022-03-24T05:36:41.799815Z",
     "shell.execute_reply.started": "2022-03-24T05:36:41.142913Z"
    },
    "tags": []
   },
   "outputs": [],
   "source": [
    "v_lo, reproj_lo, hist_lo = zip(*[\n",
    "                                 recon(mb, win, center)\n",
    "                                 for (mb, win, center) in zip(mb_lo, win_lo, center_lo)\n",
    "                                 ])\n",
    "\n",
    "v_hi, reproj_hi, hist_hi = zip(*[\n",
    "                                 recon(mb, win, center)\n",
    "                                 for (mb, win, center) in zip(mb_hi, win_hi, center_hi)\n",
    "                                 ])"
   ]
  },
  {
   "cell_type": "markdown",
   "id": "956383e6-455c-441c-b3ef-4e2165debec8",
   "metadata": {},
   "source": [
    "We can inspect the solution history per iteration for each of the reconstructions. The errors between the projection and reprojections are tabulated as the NRMSE (normalized root-mean-squared error in intensity), liquid mass, PSNR (peak signal-to-noise ratio), and SSIM (structural similarity index measure). The convergence is tabulated as the change in the $L_2$-norm in the projected views between iterations. The solution is run until all views reach a change in the $L_2$-norm of less than the equivalent of ~0.5 μg or until 1000 iterations is reached, whichever comes first."
   ]
  },
  {
   "cell_type": "code",
   "execution_count": 10,
   "id": "55f7f19e-ceea-4726-a027-5ae1ba3c2289",
   "metadata": {
    "execution": {
     "iopub.execute_input": "2022-03-24T05:36:41.801833Z",
     "iopub.status.busy": "2022-03-24T05:36:41.801668Z",
     "iopub.status.idle": "2022-03-24T05:36:42.061339Z",
     "shell.execute_reply": "2022-03-24T05:36:42.060404Z",
     "shell.execute_reply.started": "2022-03-24T05:36:41.801812Z"
    },
    "tags": []
   },
   "outputs": [
    {
     "data": {
      "application/vnd.jupyter.widget-view+json": {
       "model_id": "8d75d0e533ee4e5ea558345a5b69b058",
       "version_major": 2,
       "version_minor": 0
      },
      "text/plain": [
       "interactive(children=(ToggleButtons(description='y location', options=(('jets', 0), ('impingement', 1), ('near…"
      ]
     },
     "metadata": {},
     "output_type": "display_data"
    },
    {
     "data": {
      "text/plain": [
       "<function mb_utilities.showHistory(hist, loc, Re)>"
      ]
     },
     "execution_count": 10,
     "metadata": {},
     "output_type": "execute_result"
    }
   ],
   "source": [
    "interact(\n",
    "         showHistory,\n",
    "         loc=widgets.ToggleButtons(options=list(zip(loc_lo, [0,1,2])),\n",
    "                                   description='y location',\n",
    "                                   ),\n",
    "         hist=fixed(hist_lo),\n",
    "         Re=fixed(6700),\n",
    "         )"
   ]
  },
  {
   "cell_type": "code",
   "execution_count": 11,
   "id": "749d79ff-379b-480d-9056-97d7e0e4413f",
   "metadata": {
    "execution": {
     "iopub.execute_input": "2022-03-24T05:36:42.062972Z",
     "iopub.status.busy": "2022-03-24T05:36:42.062466Z",
     "iopub.status.idle": "2022-03-24T05:36:42.354404Z",
     "shell.execute_reply": "2022-03-24T05:36:42.353715Z",
     "shell.execute_reply.started": "2022-03-24T05:36:42.062948Z"
    },
    "tags": []
   },
   "outputs": [
    {
     "data": {
      "application/vnd.jupyter.widget-view+json": {
       "model_id": "6f7fd4d362d14da2bc406a4d60807b24",
       "version_major": 2,
       "version_minor": 0
      },
      "text/plain": [
       "interactive(children=(ToggleButtons(description='y location', options=(('impingement', 0), ('near', 1)), value…"
      ]
     },
     "metadata": {},
     "output_type": "display_data"
    },
    {
     "data": {
      "text/plain": [
       "<function mb_utilities.showHistory(hist, loc, Re)>"
      ]
     },
     "execution_count": 11,
     "metadata": {},
     "output_type": "execute_result"
    }
   ],
   "source": [
    "interact(\n",
    "         showHistory,\n",
    "         loc=widgets.ToggleButtons(options=list(zip(loc_hi, [0,1])),\n",
    "                                   description='y location',\n",
    "                                   ),\n",
    "         hist=fixed(hist_lo),\n",
    "         Re=fixed(10100),\n",
    "         )"
   ]
  },
  {
   "cell_type": "markdown",
   "id": "9a0fcedf-50ac-4390-a1ac-09f607fd7302",
   "metadata": {},
   "source": [
    "## Visualization"
   ]
  },
  {
   "cell_type": "markdown",
   "id": "a31a4f7a-7102-4b75-b142-49b3745b93d1",
   "metadata": {},
   "source": [
    "We can visualize our results by overlaying the reconstructed slice's reprojection scans over the measured projections. This is done through the `showComparisonMB()` function below (see: [mb_utilities.py](./mb_utilities.py)). We see that the reprojections generally follows the shape of the measured projection scans, however they are smoother in shape which is to be expected due to the per-iteration Savitzky-Golay smoothing used to aid in convergence."
   ]
  },
  {
   "cell_type": "code",
   "execution_count": 12,
   "id": "3c9ea30f-a829-4503-87c0-77f73614f042",
   "metadata": {
    "execution": {
     "iopub.execute_input": "2022-03-24T05:36:42.357034Z",
     "iopub.status.busy": "2022-03-24T05:36:42.356831Z",
     "iopub.status.idle": "2022-03-24T05:36:42.562157Z",
     "shell.execute_reply": "2022-03-24T05:36:42.561180Z",
     "shell.execute_reply.started": "2022-03-24T05:36:42.357011Z"
    },
    "tags": []
   },
   "outputs": [
    {
     "data": {
      "application/vnd.jupyter.widget-view+json": {
       "model_id": "194414263fb84bb8be86b45d585bb482",
       "version_major": 2,
       "version_minor": 0
      },
      "text/plain": [
       "interactive(children=(ToggleButtons(description='y location', options=(('jets', 0), ('impingement', 1), ('near…"
      ]
     },
     "metadata": {},
     "output_type": "display_data"
    },
    {
     "data": {
      "text/plain": [
       "<function mb_utilities.showComparisonMB(mb, reproj, loc, view, Re)>"
      ]
     },
     "execution_count": 12,
     "metadata": {},
     "output_type": "execute_result"
    }
   ],
   "source": [
    "interact(\n",
    "         showComparisonMB,\n",
    "         loc=widgets.ToggleButtons(options=list(zip(loc_lo, [0,1,2])),\n",
    "                                   description='y location',\n",
    "                                   ),\n",
    "         view=widgets.IntSlider(min=0, max=17, step=1),\n",
    "         mb=fixed(mb_corr_lo),\n",
    "         reproj=fixed(reproj_lo),\n",
    "         Re=fixed(6700),\n",
    "         )"
   ]
  },
  {
   "cell_type": "code",
   "execution_count": 13,
   "id": "1a53adf4-7852-47a7-a7dc-046be77f7921",
   "metadata": {
    "execution": {
     "iopub.execute_input": "2022-03-24T05:36:42.563370Z",
     "iopub.status.busy": "2022-03-24T05:36:42.563144Z",
     "iopub.status.idle": "2022-03-24T05:36:42.739640Z",
     "shell.execute_reply": "2022-03-24T05:36:42.738806Z",
     "shell.execute_reply.started": "2022-03-24T05:36:42.563333Z"
    },
    "tags": []
   },
   "outputs": [
    {
     "data": {
      "application/vnd.jupyter.widget-view+json": {
       "model_id": "21e1d92080bd49a6b4ff247ef4d247b2",
       "version_major": 2,
       "version_minor": 0
      },
      "text/plain": [
       "interactive(children=(ToggleButtons(description='y location', options=(('impingement', 0), ('near', 1)), value…"
      ]
     },
     "metadata": {},
     "output_type": "display_data"
    },
    {
     "data": {
      "text/plain": [
       "<function mb_utilities.showComparisonMB(mb, reproj, loc, view, Re)>"
      ]
     },
     "execution_count": 13,
     "metadata": {},
     "output_type": "execute_result"
    }
   ],
   "source": [
    "interact(\n",
    "         showComparisonMB,\n",
    "         loc=widgets.ToggleButtons(options=list(zip(loc_hi, [0,1])),\n",
    "                                   description='y location',\n",
    "                                   ),\n",
    "         view=widgets.IntSlider(min=0, max=16, step=1),\n",
    "         mb=fixed(mb_corr_hi),\n",
    "         reproj=fixed(reproj_hi),\n",
    "         Re=fixed(10100),\n",
    "         )"
   ]
  },
  {
   "cell_type": "markdown",
   "id": "538793d9-d8ce-40f4-99db-b23bb8cb8be2",
   "metadata": {},
   "source": [
    "The reconstructed slices from `recon()` give slice arrays that have units of reconstructed liquid density ($\\rho$ = 997 µg/mm$^3$). These are converted into liquid volume fraction (LVF) by dividing by the bulk liquid density and shown below through `showLVF()` (see: [mb_utilities.py](./mb_utilities.py)). These LVF values give a statistical indication of where the liquid is most likely expected to be distributed$-$due to the time-averaged nature of the measurement, a range of LVF values from 0 (no liquid is expected to be present) up to 1 (liquid is always expected to be present) can exist at these spray conditions. As can be expected, there is a liquid core structure (higher LVF) towards the center of the domain where the impingement point is located."
   ]
  },
  {
   "cell_type": "code",
   "execution_count": 14,
   "id": "0f13352e-a1ea-4ab8-904d-16840a4f9917",
   "metadata": {
    "execution": {
     "iopub.execute_input": "2022-03-24T05:36:42.741021Z",
     "iopub.status.busy": "2022-03-24T05:36:42.740803Z",
     "iopub.status.idle": "2022-03-24T05:36:42.938095Z",
     "shell.execute_reply": "2022-03-24T05:36:42.937185Z",
     "shell.execute_reply.started": "2022-03-24T05:36:42.740985Z"
    },
    "tags": []
   },
   "outputs": [
    {
     "data": {
      "application/vnd.jupyter.widget-view+json": {
       "model_id": "85b040cb3a104be987a131c002fe9339",
       "version_major": 2,
       "version_minor": 0
      },
      "text/plain": [
       "interactive(children=(ToggleButtons(description='y location', options=(('jets', 0), ('impingement', 1), ('near…"
      ]
     },
     "metadata": {},
     "output_type": "display_data"
    },
    {
     "data": {
      "text/plain": [
       "<function mb_utilities.showLVF(v, win, loc, Re)>"
      ]
     },
     "execution_count": 14,
     "metadata": {},
     "output_type": "execute_result"
    }
   ],
   "source": [
    "interact(\n",
    "         showLVF,\n",
    "         loc=widgets.ToggleButtons(options=list(zip(loc_lo, [0,1,2])),\n",
    "                                   description='y location',\n",
    "                                   ),\n",
    "         v=fixed(v_lo),\n",
    "         win=fixed(win_lo),\n",
    "         Re=fixed(6700),\n",
    "         )"
   ]
  },
  {
   "cell_type": "code",
   "execution_count": 15,
   "id": "a5da19a5-66f4-4e32-a707-53fb06f3c710",
   "metadata": {
    "execution": {
     "iopub.execute_input": "2022-03-24T05:36:42.939223Z",
     "iopub.status.busy": "2022-03-24T05:36:42.939024Z",
     "iopub.status.idle": "2022-03-24T05:36:43.127901Z",
     "shell.execute_reply": "2022-03-24T05:36:43.127003Z",
     "shell.execute_reply.started": "2022-03-24T05:36:42.939200Z"
    },
    "tags": []
   },
   "outputs": [
    {
     "data": {
      "application/vnd.jupyter.widget-view+json": {
       "model_id": "231d36bf36194defa2cb1e17a18879d0",
       "version_major": 2,
       "version_minor": 0
      },
      "text/plain": [
       "interactive(children=(ToggleButtons(description='y location', options=(('impingement', 0), ('near', 1)), value…"
      ]
     },
     "metadata": {},
     "output_type": "display_data"
    },
    {
     "data": {
      "text/plain": [
       "<function mb_utilities.showLVF(v, win, loc, Re)>"
      ]
     },
     "execution_count": 15,
     "metadata": {},
     "output_type": "execute_result"
    }
   ],
   "source": [
    "interact(\n",
    "         showLVF,\n",
    "         loc=widgets.ToggleButtons(options=list(zip(loc_hi, [0,1])),\n",
    "                                   description='y location',\n",
    "                                   ),\n",
    "         v=fixed(v_hi),\n",
    "         win=fixed(win_hi),\n",
    "         Re=fixed(10100),\n",
    "         )"
   ]
  },
  {
   "cell_type": "markdown",
   "id": "f56c71f6-c280-46c3-9b95-156b927158ca",
   "metadata": {},
   "source": [
    "## Next steps"
   ]
  },
  {
   "cell_type": "markdown",
   "id": "d2addd3f-fd6b-45c8-9cff-179cc012ceb2",
   "metadata": {},
   "source": [
    "This concludes the monochromatic beam reconstruction workflow! Further data analysis on the slice datasets can be done on the NumPy arrays (`v_lo`, `v_hi`), with visualization of the slices and projections through a tool like Matplotlib directly in Python."
   ]
  },
  {
   "cell_type": "markdown",
   "id": "09072c9b-2001-4cc8-8fb8-be515be278dd",
   "metadata": {},
   "source": [
    "## References"
   ]
  },
  {
   "cell_type": "markdown",
   "id": "9e4b6424-e195-455f-9365-2e617d5edcb0",
   "metadata": {},
   "source": [
    "1. van Aarle, W. et al. The ASTRA Toolbox: A platform for advanced algorithm development in electron tomography. *Ultramicroscopy* 157, 35–47 (2015). doi: [10.1016/j.ultramic.2015.05.002](https://doi.org/10.1016/j.ultramic.2015.05.002).\n",
    "\n",
    "2. van Aarle, W. et al. Fast and flexible X-ray tomography using the ASTRA toolbox. *Opt. Express* 24, 25129 (2016). doi: [10.1364/OE.24.025129](https://doi.org/10.1364/OE.24.025129).\n",
    "\n",
    "3. Jingyu Cui, Pratx, G., Bowen Meng & Levin, C. S. Distributed MLEM: An Iterative Tomographic Image Reconstruction Algorithm for Distributed Memory Architectures. *IEEE Trans. Med. Imaging* 32, 957–967 (2013). doi: [10.1109/TMI.2013.2252913](https://doi.org/10.1109/TMI.2013.2252913).\n",
    "\n",
    "4. Slomski, A. et al. 3D PET image reconstruction based on the maximum likelihood estimation method (MLEM) algorithm. *Bio-Algorithms and Med-Systems* 10, 1–7 (2014). doi: [10.1515/bams-2013-0106](https://doi.org/10.1515/bams-2013-0106).\n",
    "\n",
    "5. Atkinson, C. & Soria, J. An efficient simultaneous reconstruction technique for tomographic particle image velocimetry. *Exp. Fluids* 47, 553–568 (2009). doi: [10.1007/s00348-009-0728-0](https://doi.org/10.1007/s00348-009-0728-0).\n",
    "\n",
    "6. Worth, N. A. & Nickels, T. B. Acceleration of Tomo-PIV by estimating the initial volume intensity distribution. *Exp. Fluids* 45, 847–856 (2008). doi: [10.1007/s00348-008-0504-6](https://doi.org/10.1007/s00348-008-0504-6).\n",
    "\n",
    "7. Shekhar, C. On simplified application of multidimensional Savitzky-Golay filters and differentiators. in *AIP Conference Proceedings* 020014 (2016). doi: [10.1063/1.4940262](https://doi.org/10.1063/1.4940262)."
   ]
  },
  {
   "cell_type": "markdown",
   "id": "0d9d6c1a-de53-4dcb-bdb8-3fe987b7ecbf",
   "metadata": {},
   "source": [
    "---\n",
    "\n",
    "**Author**: Naveed Rahman, Purdue University, 23 March 2022\n",
    "\n",
    "---"
   ]
  }
 ],
 "metadata": {
  "kernelspec": {
   "display_name": "Python 3 (ipykernel)",
   "language": "python",
   "name": "python3"
  },
  "language_info": {
   "codemirror_mode": {
    "name": "ipython",
    "version": 3
   },
   "file_extension": ".py",
   "mimetype": "text/x-python",
   "name": "python",
   "nbconvert_exporter": "python",
   "pygments_lexer": "ipython3",
   "version": "3.7.7"
  },
  "widgets": {
   "application/vnd.jupyter.widget-state+json": {
    "state": {
     "048edc8f69b54ce8be0af12fa387269d": {
      "model_module": "@jupyter-widgets/base",
      "model_module_version": "1.2.0",
      "model_name": "LayoutModel",
      "state": {}
     },
     "0537f01d231b4f1a9b1e8850c6e31049": {
      "model_module": "@jupyter-widgets/base",
      "model_module_version": "1.2.0",
      "model_name": "LayoutModel",
      "state": {}
     },
     "05e18b9de584473a86e306d6dbc96704": {
      "model_module": "@jupyter-widgets/controls",
      "model_module_version": "1.5.0",
      "model_name": "ToggleButtonsModel",
      "state": {
       "_options_labels": [
        "impingement",
        "near"
       ],
       "button_style": "",
       "description": "y location",
       "icons": [],
       "index": 0,
       "layout": "IPY_MODEL_a7f4120e40dd40b2a884edb5d179bf44",
       "style": "IPY_MODEL_55cb026e9f3d4c54bd1a1dda8ddd75be",
       "tooltips": []
      }
     },
     "071a1c9af1d64df9b77b40f995ba3ca0": {
      "model_module": "@jupyter-widgets/controls",
      "model_module_version": "1.5.0",
      "model_name": "ToggleButtonsStyleModel",
      "state": {
       "button_width": "",
       "description_width": ""
      }
     },
     "0db6e3e2317e4492b047b5fbbe15e867": {
      "model_module": "@jupyter-widgets/base",
      "model_module_version": "1.2.0",
      "model_name": "LayoutModel",
      "state": {}
     },
     "107f290b2a544485b32ed59d812c80db": {
      "model_module": "@jupyter-widgets/controls",
      "model_module_version": "1.5.0",
      "model_name": "ToggleButtonsModel",
      "state": {
       "_options_labels": [
        "impingement",
        "near"
       ],
       "button_style": "",
       "description": "y location",
       "icons": [],
       "index": 0,
       "layout": "IPY_MODEL_ae354006a95247c2ac1608361dbe8532",
       "style": "IPY_MODEL_5483c47126b0402b976d687f2460631d",
       "tooltips": []
      }
     },
     "114a018ac6e04af9bec839e877d20751": {
      "model_module": "@jupyter-widgets/base",
      "model_module_version": "1.2.0",
      "model_name": "LayoutModel",
      "state": {}
     },
     "13da52aa4fcb4f478257f4d8d27a031c": {
      "model_module": "@jupyter-widgets/base",
      "model_module_version": "1.2.0",
      "model_name": "LayoutModel",
      "state": {}
     },
     "15bc1832c4f249f4a6d70c088cce7aad": {
      "model_module": "@jupyter-widgets/base",
      "model_module_version": "1.2.0",
      "model_name": "LayoutModel",
      "state": {}
     },
     "163b45366bf84ee5b2578987b03d692b": {
      "model_module": "@jupyter-widgets/base",
      "model_module_version": "1.2.0",
      "model_name": "LayoutModel",
      "state": {}
     },
     "194414263fb84bb8be86b45d585bb482": {
      "model_module": "@jupyter-widgets/controls",
      "model_module_version": "1.5.0",
      "model_name": "VBoxModel",
      "state": {
       "_dom_classes": [
        "widget-interact"
       ],
       "children": [
        "IPY_MODEL_bf71b75897204370803640f6b5f72a7d",
        "IPY_MODEL_e99d7a58f7404c5dbba1dd5db7ff2132",
        "IPY_MODEL_a32501d795154aa190cac2a939e795fc"
       ],
       "layout": "IPY_MODEL_9f3981d38a1d46459f47a9249b9dc669"
      }
     },
     "1e6e50de361044f1a7a58e9ad42d3a22": {
      "model_module": "@jupyter-widgets/controls",
      "model_module_version": "1.5.0",
      "model_name": "ToggleButtonsModel",
      "state": {
       "_options_labels": [
        "impingement",
        "near"
       ],
       "button_style": "",
       "description": "y location",
       "icons": [],
       "index": 0,
       "layout": "IPY_MODEL_5429b3d1636a45c59e92172b802f204a",
       "style": "IPY_MODEL_abf4cb9f7fae4bfc9c625254dd32fdf4",
       "tooltips": []
      }
     },
     "21e1d92080bd49a6b4ff247ef4d247b2": {
      "model_module": "@jupyter-widgets/controls",
      "model_module_version": "1.5.0",
      "model_name": "VBoxModel",
      "state": {
       "_dom_classes": [
        "widget-interact"
       ],
       "children": [
        "IPY_MODEL_107f290b2a544485b32ed59d812c80db",
        "IPY_MODEL_651e09c9376d49d8979881a6a28cc69b",
        "IPY_MODEL_3da0fa8877da4b698af04a9225a08744"
       ],
       "layout": "IPY_MODEL_0db6e3e2317e4492b047b5fbbe15e867"
      }
     },
     "220baa9e22e44eb98479059f3a7a7443": {
      "model_module": "@jupyter-widgets/controls",
      "model_module_version": "1.5.0",
      "model_name": "SliderStyleModel",
      "state": {
       "description_width": ""
      }
     },
     "231d36bf36194defa2cb1e17a18879d0": {
      "model_module": "@jupyter-widgets/controls",
      "model_module_version": "1.5.0",
      "model_name": "VBoxModel",
      "state": {
       "_dom_classes": [
        "widget-interact"
       ],
       "children": [
        "IPY_MODEL_1e6e50de361044f1a7a58e9ad42d3a22",
        "IPY_MODEL_24758737318a4727ab6197504afb9830"
       ],
       "layout": "IPY_MODEL_7e4638f76c1841ce81b19d4103ddd065"
      }
     },
     "238ae212450641a8b7e63430a6bf3305": {
      "model_module": "@jupyter-widgets/controls",
      "model_module_version": "1.5.0",
      "model_name": "VBoxModel",
      "state": {
       "_dom_classes": [
        "widget-interact"
       ],
       "children": [
        "IPY_MODEL_05e18b9de584473a86e306d6dbc96704",
        "IPY_MODEL_8034e6bc38594a148cab63514215b6e3",
        "IPY_MODEL_6757b8b4b21a499f89a776b54fd73501"
       ],
       "layout": "IPY_MODEL_638d25e559914aa6a6ca00643f5ab743"
      }
     },
     "24758737318a4727ab6197504afb9830": {
      "model_module": "@jupyter-widgets/output",
      "model_module_version": "1.0.0",
      "model_name": "OutputModel",
      "state": {
       "layout": "IPY_MODEL_048edc8f69b54ce8be0af12fa387269d",
       "outputs": [
        {
         "data": {
          "image/png": "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\n",
          "text/plain": "<Figure size 432x288 with 2 Axes>"
         },
         "metadata": {
          "needs_background": "light"
         },
         "output_type": "display_data"
        }
       ]
      }
     },
     "2b21e57b857746a69c80c74f111c09c0": {
      "model_module": "@jupyter-widgets/base",
      "model_module_version": "1.2.0",
      "model_name": "LayoutModel",
      "state": {}
     },
     "3da0fa8877da4b698af04a9225a08744": {
      "model_module": "@jupyter-widgets/output",
      "model_module_version": "1.0.0",
      "model_name": "OutputModel",
      "state": {
       "layout": "IPY_MODEL_b48cda7738e54585bcd94d80a041526a",
       "outputs": [
        {
         "data": {
          "image/png": "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\n",
          "text/plain": "<Figure size 432x288 with 1 Axes>"
         },
         "metadata": {
          "needs_background": "light"
         },
         "output_type": "display_data"
        }
       ]
      }
     },
     "478eb81c741847e3a2c31bddde43a6ad": {
      "model_module": "@jupyter-widgets/controls",
      "model_module_version": "1.5.0",
      "model_name": "ToggleButtonsModel",
      "state": {
       "_options_labels": [
        "impingement",
        "near"
       ],
       "button_style": "",
       "description": "y location",
       "icons": [],
       "index": 0,
       "layout": "IPY_MODEL_f179fd7895314c988a66a5ca0b43132a",
       "style": "IPY_MODEL_a6a8eff5db3e459bb32593da3b00e3ac",
       "tooltips": []
      }
     },
     "4c87cbb0019d409dbceebea0b1ea8d33": {
      "model_module": "@jupyter-widgets/base",
      "model_module_version": "1.2.0",
      "model_name": "LayoutModel",
      "state": {}
     },
     "4eea06f63f4044938942eb7b1d8de03e": {
      "model_module": "@jupyter-widgets/base",
      "model_module_version": "1.2.0",
      "model_name": "LayoutModel",
      "state": {}
     },
     "50a4697598254251a5bb6ef49730d40e": {
      "model_module": "@jupyter-widgets/output",
      "model_module_version": "1.0.0",
      "model_name": "OutputModel",
      "state": {
       "layout": "IPY_MODEL_581a71be13374643aabb7aba470e19db",
       "outputs": [
        {
         "data": {
          "image/png": "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\n",
          "text/plain": "<Figure size 432x288 with 1 Axes>"
         },
         "metadata": {
          "needs_background": "light"
         },
         "output_type": "display_data"
        }
       ]
      }
     },
     "5429b3d1636a45c59e92172b802f204a": {
      "model_module": "@jupyter-widgets/base",
      "model_module_version": "1.2.0",
      "model_name": "LayoutModel",
      "state": {}
     },
     "5483c47126b0402b976d687f2460631d": {
      "model_module": "@jupyter-widgets/controls",
      "model_module_version": "1.5.0",
      "model_name": "ToggleButtonsStyleModel",
      "state": {
       "button_width": "",
       "description_width": ""
      }
     },
     "55cb026e9f3d4c54bd1a1dda8ddd75be": {
      "model_module": "@jupyter-widgets/controls",
      "model_module_version": "1.5.0",
      "model_name": "ToggleButtonsStyleModel",
      "state": {
       "button_width": "",
       "description_width": ""
      }
     },
     "57f11a4418d841b0b919d24da3d300bf": {
      "model_module": "@jupyter-widgets/output",
      "model_module_version": "1.0.0",
      "model_name": "OutputModel",
      "state": {
       "layout": "IPY_MODEL_4c87cbb0019d409dbceebea0b1ea8d33",
       "outputs": [
        {
         "data": {
          "image/png": "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\n",
          "text/plain": "<Figure size 432x288 with 2 Axes>"
         },
         "metadata": {
          "needs_background": "light"
         },
         "output_type": "display_data"
        }
       ]
      }
     },
     "581a71be13374643aabb7aba470e19db": {
      "model_module": "@jupyter-widgets/base",
      "model_module_version": "1.2.0",
      "model_name": "LayoutModel",
      "state": {}
     },
     "5c616e2680d54f20ac04516654d523f8": {
      "model_module": "@jupyter-widgets/controls",
      "model_module_version": "1.5.0",
      "model_name": "SliderStyleModel",
      "state": {
       "description_width": ""
      }
     },
     "5d6470f7be1b4113ba8cab87df46f5e3": {
      "model_module": "@jupyter-widgets/base",
      "model_module_version": "1.2.0",
      "model_name": "LayoutModel",
      "state": {}
     },
     "5f972a85ff2643ccb8977274edf44e9d": {
      "model_module": "@jupyter-widgets/controls",
      "model_module_version": "1.5.0",
      "model_name": "ToggleButtonsStyleModel",
      "state": {
       "button_width": "",
       "description_width": ""
      }
     },
     "638d25e559914aa6a6ca00643f5ab743": {
      "model_module": "@jupyter-widgets/base",
      "model_module_version": "1.2.0",
      "model_name": "LayoutModel",
      "state": {}
     },
     "651e09c9376d49d8979881a6a28cc69b": {
      "model_module": "@jupyter-widgets/controls",
      "model_module_version": "1.5.0",
      "model_name": "IntSliderModel",
      "state": {
       "description": "view",
       "layout": "IPY_MODEL_4eea06f63f4044938942eb7b1d8de03e",
       "max": 16,
       "style": "IPY_MODEL_5c616e2680d54f20ac04516654d523f8"
      }
     },
     "6757b8b4b21a499f89a776b54fd73501": {
      "model_module": "@jupyter-widgets/output",
      "model_module_version": "1.0.0",
      "model_name": "OutputModel",
      "state": {
       "layout": "IPY_MODEL_15bc1832c4f249f4a6d70c088cce7aad",
       "outputs": [
        {
         "data": {
          "image/png": "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\n",
          "text/plain": "<Figure size 432x288 with 1 Axes>"
         },
         "metadata": {
          "needs_background": "light"
         },
         "output_type": "display_data"
        }
       ]
      }
     },
     "6c86c39f9b114a0c8afb3bdc19aa2b8c": {
      "model_module": "@jupyter-widgets/controls",
      "model_module_version": "1.5.0",
      "model_name": "SliderStyleModel",
      "state": {
       "description_width": ""
      }
     },
     "6f7fd4d362d14da2bc406a4d60807b24": {
      "model_module": "@jupyter-widgets/controls",
      "model_module_version": "1.5.0",
      "model_name": "VBoxModel",
      "state": {
       "_dom_classes": [
        "widget-interact"
       ],
       "children": [
        "IPY_MODEL_478eb81c741847e3a2c31bddde43a6ad",
        "IPY_MODEL_57f11a4418d841b0b919d24da3d300bf"
       ],
       "layout": "IPY_MODEL_c44f7385adeb4d8b9bc912569c7fd907"
      }
     },
     "7e4638f76c1841ce81b19d4103ddd065": {
      "model_module": "@jupyter-widgets/base",
      "model_module_version": "1.2.0",
      "model_name": "LayoutModel",
      "state": {}
     },
     "8034e6bc38594a148cab63514215b6e3": {
      "model_module": "@jupyter-widgets/controls",
      "model_module_version": "1.5.0",
      "model_name": "IntSliderModel",
      "state": {
       "description": "view",
       "layout": "IPY_MODEL_2b21e57b857746a69c80c74f111c09c0",
       "max": 16,
       "style": "IPY_MODEL_f0226f3f2bc04b28a1e132ddcfa45238"
      }
     },
     "81d2053db4314792931432196dbda9e6": {
      "model_module": "@jupyter-widgets/controls",
      "model_module_version": "1.5.0",
      "model_name": "ToggleButtonsStyleModel",
      "state": {
       "button_width": "",
       "description_width": ""
      }
     },
     "85b040cb3a104be987a131c002fe9339": {
      "model_module": "@jupyter-widgets/controls",
      "model_module_version": "1.5.0",
      "model_name": "VBoxModel",
      "state": {
       "_dom_classes": [
        "widget-interact"
       ],
       "children": [
        "IPY_MODEL_b1807f5f56fb4ac082cbbda151710b14",
        "IPY_MODEL_b6ab229d062b461bb51d3294eddcfa55"
       ],
       "layout": "IPY_MODEL_5d6470f7be1b4113ba8cab87df46f5e3"
      }
     },
     "8c6bd6bae38b48b793201a69d0aea57b": {
      "model_module": "@jupyter-widgets/base",
      "model_module_version": "1.2.0",
      "model_name": "LayoutModel",
      "state": {}
     },
     "8d75d0e533ee4e5ea558345a5b69b058": {
      "model_module": "@jupyter-widgets/controls",
      "model_module_version": "1.5.0",
      "model_name": "VBoxModel",
      "state": {
       "_dom_classes": [
        "widget-interact"
       ],
       "children": [
        "IPY_MODEL_c682c303c7f34bdaa9d917d992a4297b",
        "IPY_MODEL_c14d37bee4a34299abbf09889e298da4"
       ],
       "layout": "IPY_MODEL_114a018ac6e04af9bec839e877d20751"
      }
     },
     "8f01305bb63945d593c1008e89b4fee1": {
      "model_module": "@jupyter-widgets/controls",
      "model_module_version": "1.5.0",
      "model_name": "IntSliderModel",
      "state": {
       "description": "view",
       "layout": "IPY_MODEL_93fee7712a324fddbcdadaa8773f683a",
       "max": 17,
       "style": "IPY_MODEL_220baa9e22e44eb98479059f3a7a7443"
      }
     },
     "93fee7712a324fddbcdadaa8773f683a": {
      "model_module": "@jupyter-widgets/base",
      "model_module_version": "1.2.0",
      "model_name": "LayoutModel",
      "state": {}
     },
     "9413f0f9d2764de8815cc6634d5e0a4d": {
      "model_module": "@jupyter-widgets/base",
      "model_module_version": "1.2.0",
      "model_name": "LayoutModel",
      "state": {}
     },
     "953e25561d49419a892f5237ac7cbc42": {
      "model_module": "@jupyter-widgets/controls",
      "model_module_version": "1.5.0",
      "model_name": "ToggleButtonsModel",
      "state": {
       "_options_labels": [
        "jets",
        "impingement",
        "near"
       ],
       "button_style": "",
       "description": "y location",
       "icons": [],
       "index": 0,
       "layout": "IPY_MODEL_9413f0f9d2764de8815cc6634d5e0a4d",
       "style": "IPY_MODEL_5f972a85ff2643ccb8977274edf44e9d",
       "tooltips": []
      }
     },
     "9665bb07c4554061b35c5d53cde21b15": {
      "model_module": "@jupyter-widgets/base",
      "model_module_version": "1.2.0",
      "model_name": "LayoutModel",
      "state": {}
     },
     "9f3981d38a1d46459f47a9249b9dc669": {
      "model_module": "@jupyter-widgets/base",
      "model_module_version": "1.2.0",
      "model_name": "LayoutModel",
      "state": {}
     },
     "a32501d795154aa190cac2a939e795fc": {
      "model_module": "@jupyter-widgets/output",
      "model_module_version": "1.0.0",
      "model_name": "OutputModel",
      "state": {
       "layout": "IPY_MODEL_13da52aa4fcb4f478257f4d8d27a031c",
       "outputs": [
        {
         "data": {
          "image/png": "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\n",
          "text/plain": "<Figure size 432x288 with 1 Axes>"
         },
         "metadata": {
          "needs_background": "light"
         },
         "output_type": "display_data"
        }
       ]
      }
     },
     "a6a8eff5db3e459bb32593da3b00e3ac": {
      "model_module": "@jupyter-widgets/controls",
      "model_module_version": "1.5.0",
      "model_name": "ToggleButtonsStyleModel",
      "state": {
       "button_width": "",
       "description_width": ""
      }
     },
     "a7f4120e40dd40b2a884edb5d179bf44": {
      "model_module": "@jupyter-widgets/base",
      "model_module_version": "1.2.0",
      "model_name": "LayoutModel",
      "state": {}
     },
     "abf4cb9f7fae4bfc9c625254dd32fdf4": {
      "model_module": "@jupyter-widgets/controls",
      "model_module_version": "1.5.0",
      "model_name": "ToggleButtonsStyleModel",
      "state": {
       "button_width": "",
       "description_width": ""
      }
     },
     "ae354006a95247c2ac1608361dbe8532": {
      "model_module": "@jupyter-widgets/base",
      "model_module_version": "1.2.0",
      "model_name": "LayoutModel",
      "state": {}
     },
     "ae872d5612914b08b310aabf4abb5402": {
      "model_module": "@jupyter-widgets/controls",
      "model_module_version": "1.5.0",
      "model_name": "ToggleButtonsStyleModel",
      "state": {
       "button_width": "",
       "description_width": ""
      }
     },
     "b1807f5f56fb4ac082cbbda151710b14": {
      "model_module": "@jupyter-widgets/controls",
      "model_module_version": "1.5.0",
      "model_name": "ToggleButtonsModel",
      "state": {
       "_options_labels": [
        "jets",
        "impingement",
        "near"
       ],
       "button_style": "",
       "description": "y location",
       "icons": [],
       "index": 0,
       "layout": "IPY_MODEL_8c6bd6bae38b48b793201a69d0aea57b",
       "style": "IPY_MODEL_ae872d5612914b08b310aabf4abb5402",
       "tooltips": []
      }
     },
     "b48cda7738e54585bcd94d80a041526a": {
      "model_module": "@jupyter-widgets/base",
      "model_module_version": "1.2.0",
      "model_name": "LayoutModel",
      "state": {}
     },
     "b6ab229d062b461bb51d3294eddcfa55": {
      "model_module": "@jupyter-widgets/output",
      "model_module_version": "1.0.0",
      "model_name": "OutputModel",
      "state": {
       "layout": "IPY_MODEL_f7cc71fb1c19445ea3e6f01df62b3902",
       "outputs": [
        {
         "data": {
          "image/png": "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\n",
          "text/plain": "<Figure size 432x288 with 2 Axes>"
         },
         "metadata": {
          "needs_background": "light"
         },
         "output_type": "display_data"
        }
       ]
      }
     },
     "bf71b75897204370803640f6b5f72a7d": {
      "model_module": "@jupyter-widgets/controls",
      "model_module_version": "1.5.0",
      "model_name": "ToggleButtonsModel",
      "state": {
       "_options_labels": [
        "jets",
        "impingement",
        "near"
       ],
       "button_style": "",
       "description": "y location",
       "icons": [],
       "index": 0,
       "layout": "IPY_MODEL_0537f01d231b4f1a9b1e8850c6e31049",
       "style": "IPY_MODEL_071a1c9af1d64df9b77b40f995ba3ca0",
       "tooltips": []
      }
     },
     "c14d37bee4a34299abbf09889e298da4": {
      "model_module": "@jupyter-widgets/output",
      "model_module_version": "1.0.0",
      "model_name": "OutputModel",
      "state": {
       "layout": "IPY_MODEL_de61a29d089643488d4267b8dae602fc",
       "outputs": [
        {
         "data": {
          "image/png": "iVBORw0KGgoAAAANSUhEUgAAAY4AAAEjCAYAAAAlhuZMAAAAOXRFWHRTb2Z0d2FyZQBNYXRwbG90bGliIHZlcnNpb24zLjQuMywgaHR0cHM6Ly9tYXRwbG90bGliLm9yZy/MnkTPAAAACXBIWXMAAAsTAAALEwEAmpwYAAA3UUlEQVR4nO3dd3xkdb3/8ddnZtKTTc/2bLYvsMAuLE0pC4guiqLYKAoKV8SCBbs/rt6rV0XvxXq5XlG4gAX1Ur2IgICAgJRtbGErW7MtPZs+mZnP749zJplkJ8lMMieT8nk+Hnlk5tTPLCHvfM/3nO9XVBVjjDEmUb50F2CMMWZ8seAwxhiTFAsOY4wxSbHgMMYYkxQLDmOMMUmx4DDGGJMUCw5jjDFJseAwxhiTFAsOk3IiskdE3jKC/TeLyMrUVdRz3EHr8uq8xkw0FhxmQCJytoi8KCLNItIgIi+IyGkpPscxv8xV9QRVfSaV50lEIucdaSimmogUi4iKSKuItIvIXhG5Lk21XC4iW0SkTUTeEJFz3OWt/b7CIvKzmP1KRORBd7+9InJlv+MOut6MvkC6CzBjk4hMAR4BPgH8EcgEzgG60lnXeCYiAVUNpfiwy4A6VS13z3ElcI+IPKyqdSk+14BE5CLg+8AHgVeA6dF1qpofs10ecAT435jdbwOCwFScz/NnEXlNVTcnuN6MNlW1L/s65gtYATQNsv444BmgCdgMvCtm3R7gLTHvFVgQ8/4u4N+AXwMRoANoBb7cf//BzhOz7ReBDUAz8Acge4CaB92233m/AhwAWoBtwIWD1DvUv8VX3HN2AV8C7u9X18+AHw/zv9Pngcdj3s90/70X9tvuY8Dr7uf+C1CR4p+XF4HrEtjuGmAXIO77PJxQWBSzza+BWxJZb1/p+bJLVWYg24GwiNwtIheLSHF0hYhkAP8HPAFUADcCvxWRxcmcQFU/DOwD3qmq+ar6g9j1SZznA8AqYC5wEvCRQU475Lbu8T8NnKaqBcDbgD3x6k2wxiuAdwBFwG+AVSJS5J4rgPNX+q8HqXkwy4E17rGKgO+573fGfJ6vAzcA7wLKcQLx3+IdTEQeEZGmAb4eGWAfP84fGuUislNEqkXkP0UkJ87m1wD3qJsAwCIgrKrbY7Z5DTghwfUmDSw4TFyqehQ4G+ev118CtSLyJxGZCpwJ5OP81RdU1adxLmtdkeIyEj3PT1X1oKo24PwSXzbIMRPZNgxkAceLSIaq7lHVN0ZQ409Vdb+qdqjqIeA54P3uulU4l5rWDFLzYJYBnxWRo0AjTnitiv5iFpEK4GbgClXdqapB4A4gbl+Vql6iqkUDfF0yQA1TgQzgfTiXM5fhBNrNsRuJSCVwHnB3zOJ8nFZQrGagIMH1Jg0sOMyAVHWLqn5EVWcBS4EZwI/d7/tVNRKz+V6cyySplOh5Dse8bsf5ZTOQIbdV1Z3A54B/AWpE5PciMmMENe7vt8/dwIfc1x9igNaGiFwV06H8lzjrs3Auk52kqlNwfnGfCXTHbHYhTv/UK9GWA/AYx/4yHokO9/vPVPWQOn0rPwTe3m+7q4HnVXV3zLJWYEq/7abgXCJMZL1JAwsOkxBV3YrTN7EUOAjMFpHYn59KnEsg8bQDuTHvp8UeepDTJnuelFHV36nq2cAcnBq/H101jBr77/MQcJKILAUuAX47QA2/dS+J5avqxXE2WYrTb7LL3f5+nEtp743ZpgR4sF/LoVBVV8Y7p4j8Jc5dUAOGl3veRqA6zufs72r6tjbAuSQaEJGFMctOxukrSmS9SQMLDhOXiCwRkS+IyCz3/Wycyy8vAS8DbcCXRSTDffbhncDvBzjceuBKEfGLyCqcyxVRR4B5A+yX7HlSQkQWi8gF7l/0nTh/UYcHqDfpGlW1E7gP+B3wiqruG2apy4FNMf0FAI/i9GVErQXOF5FT3M82RUQuFREZoLaLY8Kq/1e88Ir6H+BGEalw+8M+h3PJDve8b8JphcXeTYWqtgEPAN8SkTwReTNwKW4rbKj1Jj0sOMxAWoAzgJdFpA0nMDYBX3Cvk78LuBioA/4LuNptlcTzWZxfpk3AVTh/cUd9D7jZvYzyxdidhnGeVMkCbnHPeRin3+Dr8eodQY13Aycysl+Ay3Du1or1GHCRiGQDqOo/gG8B94tIK86dVav6hU0qfBt4FaeFsAVYB3wnZv01wAOqGu8S0yeBHKAGuBf4hPa91Xao9WaUSep/fowxQ3E7ircC09wbEYwZN6zFYcwoc/tDbgJ+b6FhxiN7ctyYURTz5PRenFtxjRl37FKVMcaYpNilKmOMMUmx4DDGGJMUCw5jjDFJseAwxhiTFAsOY4wxSbHgMMYYkxQLDmOMMUmx4DDGGJMUCw5jjDFJseAwxhiTFAsOY4wxSbHgMMYYk5QJPzpuWVmZVlVVpbsMY4wZV9asWVOnquXx1k344KiqqmL16tXpLsMYY8YVEdk70Dq7VGWMMSYpFhzGGGOSYsExCJvkyhhjjmXBMYijHSFaOrvTXYYxxowpFhyDiKiyo6aVUDiS7lKMMWbMsOAYQld3hDdq29JdhjHGjBkWHAloaAtyqLkj3WUYY8yYYMGRoH317bR2hdJdhjHGpJ0FR4IiCjuOtFh/hzFm0rPgSEJnd4RdddbfYYyZ3Cw4klTfGuRwc2e6yzDGmLSx4BiGvfVttFl/hzFmkrLgGIaIwvYjLYQj9mS5MWbyseAYps7uCLtqW9NdhjHGjDoLjhGoaw1y5Kj1dxhjJhcLjhHaU2f9HcaYycWCY4QiCjtqWq2/wxgzaVhwpEBHMMzuOuvvMMZMDhYcg9hb35ZwS6K2JUiN9XcYYyYBC44BVDe2c/kvX+L3r+5LeJ899e20B62/wxgzsVlwDGBWcS7vOnkGj2w4xItv1CW0Tzii7Dhi/R3GmInNgmMQX3zrYpZMK+AXz+5iT31iY1S1B8PstvGsjDETmKfBISJnichtIrJBRGpFZJ+IPCoinxKRQi/PnQoZfh+fvXAh+dkBfvjEdo4mOI1sbUsXNS3W32GMmZg8Cw4R+QvwT8DjwCpgOnA8cDOQDTwsIu/y6vypUpSbyU0XLaKpI8hPn9qR8GWoPXXtdATDHldnjDGjz8sWx4dV9TpV/ZOqHlTVkKq2qupaVb1VVVcCL3p4/pSZX57PdWfPY/PBo/zulcQ6y8MRZfuRFiLW32GMmWA8Cw5VPaZHWUQuFJF3ikjGQNuMVectKmfVCdN4dOMh/r6jNqF92oNhdifYN2KMMePFqHWOi8itwFuAM4GHR+u8qXTVmZUcN72AX/59V8Id4DVHu6ht6fK4MmOMGT1e9nH8R78O8Erg6zh9HJVenddLAZ+Pz124iMKcDG59YhvNHYl1lu+ua7P+DmPMhOFli+NB4A8icqOI+IF7gJeA9cDtHp7XU1NyMrjposUc7ezmJ09tJxQZeg7ycETZUWP9HcaYicHLPo4XVHUV0AQ85i47Q1VPVtWfenXe0TC3LI+PnTOPLYda+O1LiXWWt3WFE34WxBhjxjIvL1UFROQdwBHgPcByEfmTiJyU4P53ikiNiGyKWfYvInJARNa7X2/3qPwhnbOwnLcvncZjmw/z7PaahPY5crSLulbr7zDGjG8BD4/9EM5lqVzgKlW9RkRmAN8SEVXVjw2x/13Af+Jc4or1I1X9jxTXOixXnjGHvQ3t3PH8bmYV5zK/PH/IfXbXtZGfFSA7wz8KFRpjTOp52ccxR1VvBr4KnAjgPs/xT8BtQ+2sqs8BDR7WN2J+n/CZCxdSmJPBD/+6nab24JD7hMLOeFbW32GMGa+8DI7bRWQ98DLww9gVqrp+BMf9tDuEyZ0iUjyC46TElOwMvvDWxbR2hvjxkzsIhYfuLG/tCrG3oX0UqjPGmNTzsnP8Z6q6TFWXq+pvUnTYnwPzgWXAIeDWeBuJyPUislpEVtfWJvaw3khUlebx8fPmse1IC/e8tDehfQ43d1Jv/R3GmHHIy87xmwdrEYjIBSJySTLHVNUjqhpW1QjwS+D0Aba7XVVXqOqK8vLy5AofpjfNL+OSk6bz19eP8LetiXWW76pro7Pbnu8wxowvXnaObwQeEZFOYC1QizO44UKcFsOTwHeTOaCITFfVQ+7b9wCbBtt+pDIDPkRAE+yOuOK0SvbVt3PnC7uZVZzDwqkFg24f7e84YcYUfD5JQcXGGOM9Ly9VPayqbwZuADYDfuAo8BvgdFX9vKoOeB1JRO4F/gEsFpFqEbkO+IGIbBSRDcD5wOe9qh8gLyvAvLK8hLf3+YQbL1hISV4mP3pyO40JdJa3doXYZ/0dxphxRDTRP6fHqRUrVujq1atHdIx99e0caOpIfPuGdr7x8CYqS3L550uOJ8M/dD4vnlZASV7mSMo0xpiUEZE1qroi3jqbATABlaW5lOUn/ku9siSXG86bz46aVu5+cU9C+7xR22r9HcaYccGCI0Hzy/MpyE68S+jMeaVcumwGT22t4cktR4bcPhRWNh5oZn9De0K39BpjTLpYcCTI5xMWTysgJzPxJ74/cOpsls0u4q4X97DtcMuQ24fCSnVjB+v3N1Hd2J7wbIPGGDOavLwd948xr7/fb90TXp3XSxl+H0umFZDhT+wOKJ9P+NT5CyjPz+LHT26noW3oznKA7rCyv6GDdfsaOdjUYU+ZG2PGFC9bHAtjXl/Ub93oPFzhgewMP4unFZDo3bP5WQFuumgRnaEwP3pyO91JXIbqDit769tZt7+RQ80WIMaYscHL4Bjst9y4/g1YkJ3Bgop8JMHwmF2SyyfOW8DOmlbufH43yd7JFgwpe+raWbe/icPNnRYgxpi08vIBwFwRWY4TTjnua3G/cjw876gozc+iKxRhb31iz2CcPreE9yyfyYPrDjC3PI+3Hj8t6XMGQxF217VxsLmDmUU5VBRkIYmmlzHGpIiXwXGY3sENY19H3497M4py6ApFONzcmdD27zt1Fnvr27jnxb1UFueyZPqUYZ23qzvCrto2DjR1MKs4h/J8CxBjzOixBwBHSFXZdqSFxrbE5h9vD4a4+aFNtAXDfPfdSynNzxpxDdkZPmYVO8+aWIAYY1IhLQ8AishpIjIt5v3VIvKwiPxUREq8Ou9oExEWVhSQn5VY4y03M8AXLlpMdyjCD/+6nWBo5M9sdHZH2FnTymvVzTbDoDHGc152jv8CCAKIyLnALTiz+TUDt3t43lHnd5/xyMpI7J9zZnEOnzx/Prvq2rjj+V1Jd5YPpCMYZseRVl7b35Twrb/GGJMsL4PDr6rRGfw+CNyuqver6j8DCzw8b1pkBpxnPAIJPuOxYk4J7z1lFs/tqOPxzUM/WZ6M9mCYbYdb2FjdTKMFiDEmxTwNDhGJXr+5EHg6Zp2XnfJpk5sZYNHUgoRv073slJmsmFPMr1/aw+sHm1NeT2tXiK2HW9h0oDmhaW2NMSYRXgbHvcCzIvIw0AH8HUBEFuBcrpqQCnMymFee2FDsPhE+sXI+0wqz+fFTO6ht8aZ/oqUzxJZDToA0tyfWiW+MMQPxcj6O7wBfAO4CztbeC/k+4EavzjsWVBRkM6s4sUdVop3lobBy6xPbqG70bm6Ols4Qrx86yuaDzRzttAAxxgyPZ7fjDnXnVEz/h6e8vh13MDtrWhNuRazf38iPn9xBMBThzPmlXLZ8JrOKcz2tLyvDR26mn9yMALlZfnIz/eRk+O2WXmPMoLfjehkcEaAaCEUXxaxWVZ3nyYn7SWdwqCpbDrXQ3JHYX/dHO7t5dOMhHt98mK7uCGfOK+U9y2cyu8TbAInlE8jJ9JObGSA3009ephMqiUxGZYyZONIVHD8BVgIv4PR3PK9peNowncEBEApH2HzwKO3BxCdpGgsB0l9mQMjJCJCX5SfHDZScDL/NlW7MBJWW4HBPLDjhcQVwOvAE8HNV3e3ZSftJd3AAdHaH2XywmWAouX/rFjdAHhtDARJLBHIynEtcuVkBcjP85Gb5yQokPmeJMWZsSltwxBRQBFwOfBv4uqr+0vOTusZCcIBza+zrB48Oa3Km/gFyxrwSLls+a8wESH8Zfum53JWX6e957bfWiTHjRrouVeUBl+I8/FcOPAD8QVX3e3LCAYyV4ABobAuy7UgLw/0nH28B0p/fJ/jEmeDKL4LfJ4g4y/0iPct9Ivh8fZf7JPo6ehx3mU8skIzxQLqCow3YgdO/sZN+c3Co6gOenLifsRQcAEeOdrKrtm1Ex3AC5DCPbT40LgPEC06AOGOHRUMpSgQEJ6T6vHbXEfPe2V561kW37TlOzDp3z959+y2LLorepdZ/P2KPG3PueNvG3ujW5xh93sduI32W9X4GC1mTmHQFx10MPGGTquq1npy4n7EWHAB769s42JTYUOyDiQbI45sP09Ed5oy5zjAmkzlATGL6h01P0ByzvM9ex+x/7Jpjw6l/VPUJwX5rh5Nrg+3T//jDOdewahrkvKmQaE3zy/OH3SJPex9HOo3F4ADYfqSF+tbUDANiAWKMiWdFVfGwb6UfLDg8HTNKRPxAsarWue8zgY8An1fV47w891i3oDyfYOgoLZ2hoTceQkF2Bh88bTbvOHE6j246xGObDvPy7gYLEGOMJ7ycj+NyoAHYICLPisj5wC7gYuAqr847XvjcodizExyKPRH52QE+sGI2P718Oe9ZPpMN1c18+f4N/PjJ7exr8G4oE2PM5OJli+Nm4FRV3SkipwD/AC5X1Qc9POe4kuH3cdz0KWw60Ex3OHWXDKMB8val0/nLpkP8JaYFctkps6i0FogxZgS8DI6gqu4EUNW1IrLbQuNY2Rl+Fk0rYMvBowzjEY9B5WcHeP+K2VxsAWKMSSEvg6NCRG6KeZ8f+15VfzjYziJyJ3AJUKOqS91lJcAfgCpgD/ABVW1Mcd2jbkp2BvMr8tlxpNWT4w8UIMdNL2B+eT5zy/KYW5rH1MJsfHa7pjFmCF7ejvvNwdar6r8Osf+5QCtwT0xw/ABoUNVbROSrOB3vXxnsOGP1rqp46lu72NfQTmf3yOchH0xrV4jHNh1i3b4m9jW0E3KbOtkZPqpK85yvsjzmluUxsyjHHrAzZpzy6q6qMX07rohUAY/EBMc2YKWqHhKR6cAzqrp4sGOMp+AAZ0TdutYgB5s6khoYcbhCkQgHGjvYXdfG7ro29tS3sbe+na6QE14ZfqGyJJe5ZW6YlOYxuyTXRss1ZhwYd7fjisg3BlmtqvrtYRx2qqoecg9wSEQqBjj39cD1AJWVlcM4TfqICOUFWZQXZFHf2sWBpg7aurwLkIDPx5zSPOaU5rHSjeBIRDnU3MnuejdM6tp48Y16ntxSA4BfhFklOcwtzesJlMqSXLIzbHBDYyYDLy9VfSHO4jzgOqBUVfMTOEYVfVscTapaFLO+UVWLBzvGeGtxxNPQFuRAYwetXSN/5mO4VJWali721LX1BMruurae51BEYEZhTk+rZG5ZLlVleeRmTsjp5Y0ZF8Zdi0NVb40poAD4LPBR4PfArQPtN4QjIjI95lJVzcgrHftK8jIpycukqT1IdWNHSh4aTJaIMHVKNlOnZHPGvFLACZOGtiC7651Wye66drYcOsoLO+t69ps6Jaunz6Q0L7NnxNy8LHeiqKwAWQGfjaFkzDji9ZPjJcBNOA/83Q2cMsK7oP4EXAPc4n5/eMRFjiNFuZkU5WbS3N5NdVM7RzvS1wIBJ0xK87Mozc9ixZzemYKbO7p7WiZ73JbJy7sHninYL0JuljM5VF5W7+yD+W645GYF+qzL77dNwPpbjBlVXvZx/DtwGXA7cKKqJnWvqYjcizMJVJmIVAPfxAmMP4rIdcA+4P0pLXqcKMzNoDC3kOaObg40diQ8Ne1oKczJ4OTZRZw8u6hnWXswxNGOEG3BEG1dIdqDYdq6QrQFw7QHQ7R1hWkLhmh319W3dtHmbhMa4gGXTL8vbvBk+H0EfOJ89wsBn48MvxDoWe68jm4X8AsZx2wTXXfscrvbzExWXs853oUz53jsSQSnc3yKJyfuZyL0cQylpbObA00dNLaNrQBJlWAo4oZKeJDgcV/HLOsOK6GIEgpH6A5HCIV1wOGah0MEMnzRUHLmDQn4+s4T0jPPSMwcJM68I+D3+fD7OGb7nm1i3vtjj+vOaeLMSeLsL+5cJbHL+r8WX7zl7nd3rhSJs190uQi9r+ldFvvaF2f4el+c7WKHmzfeGY99HHb9YJQUZGewZFoGrV0hDjR20NCWmlF3x4rMgI/MQCbFKXjQPRzRnhAJRSJOuIQjhKLLY9Z3R6LbRZdF+oWRc4zoscIRiKgSjrhfqkQifd+HI0p3d6R3O4VwJEIkQp9twhE95lhj+M75YYnOYRIvbKKvIWa+krjL3BDrWT/4nCYDHTe6TU9tscPL95/bpM8+0e1j9o3Zn5j18WJysCHm+68fzn7HT5/Cv7//5PgHGQG75WUCyc8KsHhaAW1dIQ40OQEy0X7ZjJTz17sfMtJdSfIi2hsmkUjv+4i6ryPOa41dFmd9xA2hPusj/bbts41zTFVQou+d1xqzzrmiGH99BHq3ZaB9ouvo3cZZ3fPefev+XPeGaf9l0R/7eMdQd3vcGunZt/dYJLBeYzaMraNnaUy9xFtPn43j7E9cse1m1b7v++/XHfbmYWILjgkoLyvAoqkFdATDHGhqp67VAmQiiF46Clhb3iRoRdWgTysMm/0ITmA5mX4WVBSwbHYR5QVZw5rJzBhj+rPgmASyM/wsqMhn2ewipk7Jwm4GMsaMhAXHJJKd4WdeeT7LKouYVphNwG8JYoxJnvVxTEJZAb8zlHpZHh3BMK1dIVq73Ftau0IpnxfEGDOxWHBMcjmZfnIy/ZQXZAHOnSDRB+9aOp0g6egOW+e6MaaHBYfpQ0TIzwqQnxVgqvuIZjiifVolLZ0hgiFv5wwxxoxdFhxmSH6fUJiTQWFO78MPwVCkT5C0BUOEUjhvujFm7LLgMMOSGfBREnBG7Y2y/hJjJgcLDpMyA/WXtHY6YRIMuWNGuUN9WL+JMeOTBYfxTGx/STyxY0J1h5xxooLu91A4QjC63h1DyoLGmLHBgsOkTYbfR4Yfchh6ylnV3sEGowMTdoej7yNx1xljvGHBYcYFEWf+jGSGiI4dYTY6YF9YFY3gjFwbM/BfuOf1sYMChnuW977XmNfGTDYWHGbC8vsEP0LG0A2aEYkNnN4RYd1RaOkdjbZ3RNje5dFRW2NHo43u3zsSrQ4y8mzva+i3jr4jztJnef91xiTOgsOYEfL5BF/c2RbGj95h0/sPbx5nWPGeIcKPHU68Zxjz2H3iHKf/MOnRdX2GCI87VHns6kGGRI89/kDDk8c51kDr+x879vgDrY9/7vjFDDyE+sASGXbd59HIphYcxpiemfncd+ksxYwDNsihMcaYpFhwGGOMSYoFhzHGmKRI/w6eiUZEaoG9IzhEGVCXonLGGvts49dE/nz22caGOapaHm/FhA+OkRKR1aq6It11eME+2/g1kT+ffbaxzy5VGWOMSYoFhzHGmKRYcAzt9nQX4CH7bOPXRP589tnGOOvjMMYYkxRrcRhjjEmKBYcxxpikWHAYY4xJigWHMcaYpFhwGGOMSYoFhzHGmKRYcBhjjEmKBYcxxpikWHAYY4xJigWHMcaYpFhwGGOMSYoFhzHGmKRYcBhjjEmKBYcxxpikBNJdgNfKysq0qqoq3WUYY8y4smbNmrqB5hyf8MFRVVXF6tWr012GMcaMKyKyd6B1CV+qEpH3i0iB+/pmEXlARE5JRYHGGGPGj2T6OP5ZVVtE5GzgbcDdwM+9KWtseGzTYVo6u9NdhjHGjCnJBEfY/f4O4Oeq+jCQmfqSxob9De3ceO9abvjNGrpC4aF3MMaYSSKZ4DggIr8APgg8KiJZSe4/rswuyeX77z2JF3bW84U/vkYkYnOzG2MMJNc5/gFgFfAfqtokItOBL3lT1thw2SmzqGvt4ruPbqUsP4tvvvN4RCTdZRljTFol02LoAPKAK9z3GUBTqgsaa64/dz7/dPZc7npxDz9/9o10l2OMMWmXTHD8F3AmvcHRAtyW8orGoK+//TjevWwGP3hsG39cvT/d5RhjTFolc6nqDFU9RUTWAahqo4hM2M7xWD6f8IP3nUx9W5CvPbCR0rxMLjxuarrLMsaYtEimxdEtIn5AAUSkHIh4UtUYlBnw8d8fOpUTZkzhU79by5q9jekuyRhj0iKZ4Pgp8CBQISLfAZ4HvudJVWNUXlaAOz9yGtMLc7ju7lfZWdOS7pKMMWbUJRwcqvpb4Ms4YXEIeLeq/tGrwsaqsvws7rn2dDL8Pq6+4xUONXekuyRjjBlVyQw5cjdwWFVvU9X/BA6LyJ3elTZ2zS7J5a6PnkZLZ4hr7nyF5nZ7utwYM3kkc6nqJFVtir5R1UZgecorGidOmFHI7VevYE9dO/90z6t0dtvT5caYySGZ4PCJSHH0jYiUMAlG1x3MWfNL+fHly1i9t5FP/24dofCkuVfAGDOJJRMctwL/EJFvi8i3gReBf/emrPHj7SdO51vvOoEntxzh5oc2oWpDkxhjJraEWwyqeo+IrAYucBddpqqve1PW+PLhs6qoaeniZ0/vpKIgi5veujjdJRljjGcSDg53UMNlwBR3v/eJCKr6LY9qG1duumgRtS1d/PTpnZQXZPHhs6rSXZIxxngimT6Kh4FmYA3Q5U0545eI8G/vXkpda5Bv/GkzpflZvP3E6ekuyxhjUi6Z4Jilqqs8q2QCCPh9/OeVy/nwHS/zud+vpyg3gzfNL0t3WcYYk1LJdI6/KCInelbJBJGd4edXV59GVVkuH79nDa8fPJrukowxJqWSCY6zgTUisk1ENojIRhHZ4FVh41lhbgZ3X3s6BdkBrvmfV9jf0J7ukowxJmWSCY6LgYXAW4F3Ape430eViMwTkTtE5L7RPncyphfmcM91p9MdjnD1na9Q32rdQsaYiSGZsar2xvtKRREicqeI1IjIpn7LV7ktnJ0i8lW3jl2qel0qzuu1BRUF3HHNaRxq7uCjd71KW1co3SUZY8yIJTNWlYjIh0TkG+77ShE5PUV13IUzLW3s+fw4E0VdDBwPXCEix6fofKPm1DnF3HblKWw+eJQbfrOGYMieLjfGjG/JzgB4Fh7MAKiqzwEN/RafDux0WxhB4PfApak432i78LipfO+yE/n7jjq+fN9rRCL2dLkxZvxKJjjOUNVPAZ3QM8ihlzMAzgRi52mtBmaKSKmI/DewXES+Fm9HEbleRFaLyOra2loPS0zcB1bM5ktvW8xD6w/y3Ue3pLscY4wZtmSe4xjtGQAlzjJV1XrghsF2VNXbgdsBVqxYMWb+vP/kyvnUtnTxq+d3UzEli+vPnZ/ukowxJmnJBEf/GQDfB9zsSVWOamB2zPtZwEEPz+c5EeEblxxPXWsX3310K2X5WVx2yqx0l2WMMUlJKDhERIDncIYbuRCnNfBuVfXymsurwEIRmQscAC4HrvTwfKPC5xNu/cDJNLYH+fJ9GyjJy2Tl4op0l2WMMQlLqI9DnbHCH1LVrdEZAFMZGiJyL/APYLGIVIvIdaoaAj4NPA5sAf6oqptTdc50ygr4+e8PncriaQV84jdrWbevMd0lGWNMwpLpHH9JRE7zoghVvUJVp6tqhqrOUtU73OWPquoiVZ2vqt/x4tzpUpCdwV0fPZ2KKVlce9ervFHbmu6SjDEmIckEx/k44fGGDTmSGuUFWdxz7en4fcLVd7zCkaOd6S7JGGOGlOyQI/NwJnJK25AjE82c0jzu+ujpNLUHuepXL/OHV/dRYwFijBnDkrmrah9wFTBPVb8lIpXANCAlw45MZktnFvLLq1fwpfs28JX7NwJw0qxCzl9cwYXHVbB0RiE+X7y7k40xZvRJonNki8jPcZ7buEBVjxORYuAJVfWk3yNVVqxYoatXr053GQlRVbYebuHprTU8vbWGtfsaUXUuaV2wuILzl1RwzsIy8rKSyXtjjEmeiKxR1RXx1iXzG+gMVT1FRNaB8+S4iHj55PikIyIcN30Kx02fwqfOX0B9axfPbq/l6a01PLrpEH9YvZ9Mv48z5pVw4ZIKLlgylcrS3HSXbYyZZJJpcbwMvAl41Q2QcpwWx3IvCxyp8dTiGEx3OMLqPY08vfUIT2+t4Y3aNgAWVOS7IVLBqXOKCfiT6bYyxpj4BmtxJBMcVwEfBE4B7sZ9clxV/zdVhXphogRHf3vq2nouab28u57usDIlO8B5iyu4cEkF5y0qpzjPGoTGmOEZUXCIyK9V9cMi8lmch/GiT44/5fGT4ykxUYMjVmtXiOd31PLUlhr+tq2GutYgPnGGdD9/SQUXLpnKoqn5OAMAGGPM0EYaHK/j3Ir7J2Al/QYfVNX+w6GPKZMhOGJFIsrGA808tbWGp7ceYdMBZ87zmUU5XHic08F+1rxSsjP8aa7UGDOWjTQ4PgN8AucZjgOxq3BGI5mXqkK9MNmCo7/DzZ38bZtzSev5HXV0dIfJyfDz5gVlnLOwjFMqi1kyvYAM6xsxxsRIVR/Hz1X1EymtbBRM9uCI1dkd5qVd9fxtaw1Pba2hurEDgKyAjxNnFrK8sohls4tZXlnE9MJsu7RlzCSWsj4OVf2JJxV6yIIjPlXlYHMn6/Y1sn5fE+v2N7HxQHPP1LYVBVksryxieWUxy2YXcdKsQnIz7fkRYyaLkT7HcaqIzAGuFZF7GGd9HCY+EWFmUQ4zi3K45KQZAARDEbYePsq6fU1OoOxv4vHNRwDw+4RFUwucMJldxPLKIuaV5dsT7cZMQsPp44j9TWF9HBNcQ1uQ1/Y7QbJufxPr9zfR0hkCoCA7wLLZTpAscy9zldgtwMZMCNbHYcGRMpGIsquulbX7nBBZt6+JbYePEnF/jKpKc50wqXT6SpZMm0JmwDrejRlvUhIc45UFh/faukJsPNDMun1NrN/fyNp9TdS2dAGQGe14n13E5afPZkFFQZqrNcYkYqSd48+r6tki0gIox16qmpK6UlPPgmP0RTve1+/rvcS18UAzkYjysXPnceMFC6yj3ZgxzlocFhxpV9faxS1/2cp9a6qZWZTDN955PG89fqrd8mvMGDXSFsdNg61X1R+OoDbPWXCMLa/sbuCfH9rEtiMtXLCkgn955wk2wq8xY9BgwZFIr2WB+7UC5+6qme7XDcDxqSrSTA6nzy3hkc+czf97+3G8vKuei370LD97agddoXC6SzPGJCiZu6qeAN6rqi3u+wLgf1V1lYf1jZi1OMauQ80d/NsjW/jzxkPMK8vjW5cu5eyFZekuyxjDyFscUZVAMOZ9EKgaQV1mkptemMNtV53C3deeTkSVD93xMp/+3VqO2Jzrxoxpydza8mvgFRF5EOfuqvfgzMthzIict6icxz53Lr94dhe3PbOTZ7bV8vmLFnHNWXNsYipjxqCk7qoSkVOAc9y3z6nqOk+qSiG7VDW+7K1v4xsPb+bZ7bUsmVbAd96zlFPnlKS7LGMmHbsd14JjXFFVHt98mH/9v9c51NzJB1fM5isXL7HhTIwZRanq4zBmVIgIq5ZO58mbzuPj587j/rXVXHDrM/z+lX1EIhP7Dx1jxgMLDjNm5WUF+Nrbj+PPnzmHRRUFfPWBjbz3v19k88HmdJdmzKRmwWHGvMXTCvjDx8/k1vefzL76dt75s+f51//bTEtnd7pLM2ZSSjg4RGSFiDwoImtFZIOIbBSRDV4WZ0yUiPDeU2fx9BdWcuUZldz14h4uuPVZHl5/gIneT2fMWJPMA4DbgC8BG4FIdLmq7vWmtNSwzvGJ6bX9Tdz80CY2HmjmTfNL+dalS1lQkZ/usoyZMFI1H8fzqnp2SisbBRYcE1c4ovzu5b384PFtdHaHuf7ceXz6/IXkZPrTXZox416qguNC4ArgKaArulxVH0hFkV6x4Jj4alu6+N6jW3hg3QFmFuXwr+86gbccPzXdZRkzrqUqOH4DLAE203upSlX12pRU6RELjsnjpV31/PNDm9hR08r5i8t59/KZnLuwnGJ7/sOYpKUqODaq6okprWwUWHBMLsFQhDtf2M0vnn2DxvZuRODkWUWsXFzOysUVnDizEL/P5gAxZiipCo5fAj9S1ddTWZzXLDgmp3BE2VDdxDPbanlmey0bqptQheLcDM5dVM55i8o5d1E5ZflZ6S7VmDEpVcGxBZgP7Mbp4xCcS1UnparQBOuYB/w/oFBV3zfU9hYcBqChLcjfd9Ty7LZant1eS32bM9DzSbMKOW9ROSsXl3PyrCIbVNEY14iDQ5z5Pc8Bjrn1NpnbcUXkTuASoEZVl8YsXwX8BPADv1LVWxI41n0WHGY4IhFl88GjPLOthme217JuXyMRhcKcDM5eWMZKt0VSMSU73aUakzapanGsUdVTR1jIuUArcE80OETED2wHLgKqgVdx7t7yA9/rd4hrVbXG3c+Cw6REc3s3f9/Z2xqpaXFuGjx++hTOW1zOykXlnDKnmAxrjZhJJFXBcRtwl6q+OsJiqoBHYoLjLOBfVPVt7vuvAahq/9Dof5wBg0NErgeuB6isrDx1794x/YyiGUNUlS2HWnhmew3PbKtl7d5GQhGlICvAmxeUsXJxOectLmd6YU66SzXGU4MFRzITOZ0P3CAie4A2UtfHMRPYH/O+GjhjoI1FpBT4DrBcRL4WL2BU9XbgdnBaHCOsz0wiIsLxM6Zw/IwpfHLlAo52dvPizjqe3V7LM9tqeWzzYQAWTy1wQmRROSuqSsgMWGvETB7JBMfFHtUQ797IAX/Zq2o9cINHtRjTx5TsDFYtnc6qpdNRVXbUtDp9I9tqndt+n9tFXqafk2cXMac0jzmluVSWOF9zSnMpyM5I90cwJuUSDg5V3SsiJ9M7A+DfVfW1FNRQDcyOeT8LOJiC4xqTUiLCoqkFLJpawPXnzqetK8SLb9TzzLYaNh88yhObD/fcrRVVnJtBZWkec9wwqSzNdV6X5jK1IBufPVNixqGEg0NEPgt8DIgOMfIbEbldVX82whpeBRaKyFzgAHA5cOUIj2mM5/KyAlx0/FQuihnepKWzm30N7eyrb2dfQzt73dfr9zfx542HCMdMRJUV8DG7pG8LJfp9VnEu2Rk25pYZm5K5VHUdcIaqtgGIyPeBfwAJB4eI3AusBMpEpBr4pqreISKfBh7HuZPqTlXdnERdxowZBdkZnDCjkBNmFB6zrjsc4WBTB3vdUNnX0M7e+jb2NXTw8q562oLhPttPm5Ld20KJtlZK86gsyaU4NwPnLnljRl8ywSFA7E92mPj9EwNS1SsGWP4o8GgyxzJmvMnw+9x+kLxj1qkq9W1B9ta3s7+hnb317extaGN/Q3ufW4SjMv0+SvMzna+8LErzMynPz+rzvizmvXXem1RKJjj+B3hZRB50378buCPlFRkzCYkIZflZlOVnceqc4mPWdwTD7G9s72mt1LR0Ut8apL61i/q2IDtrWqlt7SIYisQ5OkzJDvQJkmiwlOVnUpqfRWme870sP5PCHGvNmMEl0zn+QxF5Bjgbp6XxUVVd51VhxpheOZn+no75gagqrV0hJ1DauqhrDVLfGqSutYv61i7q2pygeaO2lVf2BGlsDxLvMa6AT45tubjB4rzvu876YiafZFocqOpaYK1HtRhjRkBEKMjOoCA7g6qyYy+H9RcKR2hoD7otl96wiQZNfWuQurYgu2rbqG/rorM7fmsmL9PfEyqledFWzLGXzEryMinJzbTxwCaAZO6qygLeC1TF7qeq30p9WcYYrwX8PioKsqkoSGxMrvZgKKYF07dVU9/mLKtubOe16iYa2oJ97iCLEoGinIyey2PHXj7LZHphDvPK8+wZmDEsmRbHw0AzsIaYGQCNMZNDbmaA3JIAs0tyh9w2ElGaO7qPCZe61iANbsjUtwbZcvgo9a1Bmju6jznG1ClZLKjIZ0F5PvNjvlcUZFkfTJolExyzVHWVZ5UYYyYMn08ozsukOC+TBRVDbx8MRWhsD1Lb0sWBpg521rTyRm0rb9S0cv/aA7R2hXq2LcgOML88n/nl+SyoyGd+eR4LKvKpLMm1y2CjJJngeFFETlTVjZ5VY4yZlDIDPqZOyWbqlGyWzizkbSf0rlNVjhzt6gmT6Pe/76jl/rXVPdtl+IWqUidEnEBxvs8rzyM3M6nuXDOEZP41zwY+IiJpncjJGDO5iAjTCrOZVpjN2QvL+qxr7uhmV0+YtLGzppVth1t44vUjffpYZhblMD+mdRINldK8TLvsNQzDHeRwBjaelDEmzQpzMlheWczyyr7PvnSFwuytb+eNmt4Wys7aVl7d3UBHd+9zzEW5GcwpcYZ4mVWSw6ziXGYXO99nFefYrcYDSGqQw+hrEXlQVU/xpiRjjBmZrED8514iEeXQ0c6eQNlZ28r+hnZeP3SUv75+hGC47y3H5QVZPUEyuydYnFCZUZQzaZ/IH+6FP2vbGWPGHZ9PmFmUw8yiHM5dVN5nXSSi1LR0Ud3Yzv7GdqobOqhu7GB/ozNI5aMbDxGKufwl4ownFg2SWSXO9+j76YXZE7azfrjB8cuUVmGMMWnm8/X2payoKjlmfSgc4UhLF/sb2p1AiX5vbOfl3Q08tP4AsY+u+H3C9MLeYJld4rRa5pTmUVWaN64HqhxWcKjqf6W6EGOMGcsCfl9PayWeYCjC4eZOp7XS2M7+hg639dLBcztqOXK07+NvBdkB5pbluUHijHw8t8z5PtY77ZMODhG5CPgAcJuqrheR692pWo0xZtLKDPioLHWGv4+nsztMdWMH+xra2FPXzp76NvbUt7Oh2rkMFnsXWEFWgDluiFSV5lJVmkdVmTPDZHl++h+AHE6L45PAR4GbRaQEWJbSiowxZgLKzvD3PGPSXzAU4UBThxMmdW3srXeCZfOBZh7bdLhPqORl+p1AKXMDxZ2yeG5ZHuWj9FT9cIKjVlWbgC+KyC3AaaktyRhjJpfMgI+5ZXnMLcuDxX3XRScA2x0TKHvq2th6qIUnNh/p02Gfk+FnTkwLZfG0fN6zfFbK6x1OcPw5+kJVvyoiN6awHmOMMTEGmwAsFI5wsKmTPfVt7K1vY3edM6vkjpoWnt5aw8KpYyQ4VPXh6GsReUFV35zakowxxiQi4I/tV+l7e3HYHWjSCyO9yXhGSqowxhiTUn6fUJKX6cmxh2xxiMjPgI3u1yZVbYlZHWf+MGOMMRNZIpeqNgInAVcBS0XkKL1BMvA8lsYYYyYk0XiTDg+2g8gsnCA5EThRVT/kRWGpIiK1wN4hNxxYGVCXonLGGvts49dE/nz22caGOapaHm9F0sEx2YjIalVdke46vGCfbfyayJ/PPtvYNzFH4DLGGOMZCw5jjDFJseAY2kQeh8s+2/g1kT+ffbYxzvo4jDHGJMVaHMYYY5JiwTEAEVklIttEZKeIfDXd9aSSiMwWkb+JyBYR2Swin013TakmIn4RWScij6S7llQSkSIRuU9Etrr//c5Kd02pJCKfd38mN4nIvSKSne6ahktE7hSRGhHZFLOsRET+KiI73O/Fgx1jrLLgiENE/MBtwMXA8cAVInJ8eqtKqRDwBVU9DjgT+NQE+3wAnwW2pLsID/wEeExVlwAnM4E+o4jMBD4DrFDVpYAfuDy9VY3IXcCqfsu+CjylqguBp9z3444FR3ynAztVdZeqBoHfA5emuaaUUdVDqrrWfd2C88tnZnqrSh33IdV3AL9Kdy2pJCJTgHOBOwBUNehOcTCRBIAcEQkAucDBNNczbKr6HNDQb/GlwN3u67uBd49mTaliwRHfTGB/zPtqJtAv1lgiUgUsB15Ocymp9GPgy0AkzXWk2jygFvgf9zLcr0Tk2LG2xylVPQD8B7APOAQ0q+oT6a0q5aaq6iFw/oADKtJcz7BYcMQXbwqtCXf7mYjkA/cDn1PVo+muJxVE5BKgRlXXpLsWDwSAU4Cfq+pyoI1xeqkjHvd6/6XAXJyRt/NEZEwPaTRZWXDEVw3Mjnk/i3HcZI5HRDJwQuO3qvpAuutJoTcD7xKRPTiXGC8Qkd+kt6SUqQaqVTXaOrwPJ0gmircAu1W1VlW7gQeAN6W5plQ7IiLTAdzvNWmuZ1gsOOJ7FVgoInNFJBOng+5Paa4pZcSZlPgOYIuq/jDd9aSSqn5NVWepahXOf7enx/pAnIlS1cPAfhGJTi56IfB6GktKtX3AmSKS6/6MXsgE6vx3/Qm4xn19DfDwINuOWcOZOnbCU9WQiHwaeBznzo47VXVzmstKpTcDHwY2ish6d9nXVfXR9JVkEnQj8Fv3D5pdwEfTXE/KqOrLInIfsBbnzr91jOMnrUXkXmAlUCYi1cA3gVuAP4rIdThB+f70VTh89uS4McaYpNilKmOMMUmx4DDGGJMUCw5jjDFJseAwxhiTFAsOY4wxSbHgMCYJItLqfq8SkStTfOyv93v/YiqPb0yqWHAYMzxVQFLB4Y66PJg+waGqE+2paTNBWHAYMzy3AOeIyHp3Dgm/iPy7iLwqIhtE5OMAIrLSnfvkd8BGd9lDIrLGnXfienfZLTijwq4Xkd+6y6KtG3GPvUlENorIB2OO/UzM/By/dZ+4NsZT9uS4McPzVeCLqnoJgBsAzap6mohkAS+ISHRk19OBpaq6231/rao2iEgO8KqI3K+qXxWRT6vqsjjnugxYhjP/Rpm7z3PuuuXACThjqb2AMyrA86n+sMbEshaHManxVuBqdwiXl4FSYKG77pWY0AD4jIi8BryEM5jmQgZ3NnCvqoZV9QjwLHBazLGrVTUCrMe5hGaMp6zFYUxqCHCjqj7eZ6HISpzhz2PfvwU4S1XbReQZYKjpUQe7/NQV8zqM/T9tRoG1OIwZnhagIOb948An3OHqEZFFA0yyVAg0uqGxBGfq3qju6P79PAd80O1HKceZBfCVlHwKY4bB/joxZng2ACH3ktNdOHOBVwFr3Q7qWuJPC/oYcIOIbAC24Vyuirod2CAia1X1qpjlDwJnAa/hTCj2ZVU97AaPMaPORsc1xhiTFLtUZYwxJikWHMYYY5JiwWGMMSYpFhzGGGOSYsFhjDEmKRYcxhhjkmLBYYwxJikWHMYYY5Ly/wHZg66StbXfhAAAAABJRU5ErkJggg==\n",
          "text/plain": "<Figure size 432x288 with 2 Axes>"
         },
         "metadata": {
          "needs_background": "light"
         },
         "output_type": "display_data"
        }
       ]
      }
     },
     "c44f7385adeb4d8b9bc912569c7fd907": {
      "model_module": "@jupyter-widgets/base",
      "model_module_version": "1.2.0",
      "model_name": "LayoutModel",
      "state": {}
     },
     "c5c5c7d1eec9417ab9a31e56786b0fd7": {
      "model_module": "@jupyter-widgets/controls",
      "model_module_version": "1.5.0",
      "model_name": "VBoxModel",
      "state": {
       "_dom_classes": [
        "widget-interact"
       ],
       "children": [
        "IPY_MODEL_953e25561d49419a892f5237ac7cbc42",
        "IPY_MODEL_8f01305bb63945d593c1008e89b4fee1",
        "IPY_MODEL_50a4697598254251a5bb6ef49730d40e"
       ],
       "layout": "IPY_MODEL_dbe22e8b5009423d9f9e8b1cfecb2201"
      }
     },
     "c682c303c7f34bdaa9d917d992a4297b": {
      "model_module": "@jupyter-widgets/controls",
      "model_module_version": "1.5.0",
      "model_name": "ToggleButtonsModel",
      "state": {
       "_options_labels": [
        "jets",
        "impingement",
        "near"
       ],
       "button_style": "",
       "description": "y location",
       "icons": [],
       "index": 0,
       "layout": "IPY_MODEL_9665bb07c4554061b35c5d53cde21b15",
       "style": "IPY_MODEL_81d2053db4314792931432196dbda9e6",
       "tooltips": []
      }
     },
     "dbe22e8b5009423d9f9e8b1cfecb2201": {
      "model_module": "@jupyter-widgets/base",
      "model_module_version": "1.2.0",
      "model_name": "LayoutModel",
      "state": {}
     },
     "de61a29d089643488d4267b8dae602fc": {
      "model_module": "@jupyter-widgets/base",
      "model_module_version": "1.2.0",
      "model_name": "LayoutModel",
      "state": {}
     },
     "e99d7a58f7404c5dbba1dd5db7ff2132": {
      "model_module": "@jupyter-widgets/controls",
      "model_module_version": "1.5.0",
      "model_name": "IntSliderModel",
      "state": {
       "description": "view",
       "layout": "IPY_MODEL_163b45366bf84ee5b2578987b03d692b",
       "max": 17,
       "style": "IPY_MODEL_6c86c39f9b114a0c8afb3bdc19aa2b8c"
      }
     },
     "f0226f3f2bc04b28a1e132ddcfa45238": {
      "model_module": "@jupyter-widgets/controls",
      "model_module_version": "1.5.0",
      "model_name": "SliderStyleModel",
      "state": {
       "description_width": ""
      }
     },
     "f179fd7895314c988a66a5ca0b43132a": {
      "model_module": "@jupyter-widgets/base",
      "model_module_version": "1.2.0",
      "model_name": "LayoutModel",
      "state": {}
     },
     "f7cc71fb1c19445ea3e6f01df62b3902": {
      "model_module": "@jupyter-widgets/base",
      "model_module_version": "1.2.0",
      "model_name": "LayoutModel",
      "state": {}
     }
    },
    "version_major": 2,
    "version_minor": 0
   }
  }
 },
 "nbformat": 4,
 "nbformat_minor": 5
}
