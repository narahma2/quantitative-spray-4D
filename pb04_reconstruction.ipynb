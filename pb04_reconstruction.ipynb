{
 "cells": [
  {
   "cell_type": "markdown",
   "id": "842d9b92-4c4a-42d5-8803-6cc92c96c070",
   "metadata": {},
   "source": [
    "# Polychromatic beam reconstruction\n",
    "\n",
    "In this notebook, the pre-processed spray projected density images will be tomographically reconstructed into 3D volumes using the refined geometry parameters.\n",
    "\n",
    "*Note*: this notebook requires a CUDA-capable GPU for 3D tomographic reconstruction using the *ASTRA* toolbox. For demonstration purposes, if no GPU is present (or the CUDA version is outdated), then the notebook will fall back to loading pre-computed results from the `/inputs` folder.\n",
    "\n",
    "---"
   ]
  },
  {
   "cell_type": "markdown",
   "id": "d9309ddc-2b2d-4095-b48f-e1daafb6a99d",
   "metadata": {},
   "source": [
    "## Environment setup"
   ]
  },
  {
   "cell_type": "code",
   "execution_count": 1,
   "id": "a69dc820-15d7-4f89-bf38-034ee3b648d0",
   "metadata": {
    "tags": []
   },
   "outputs": [],
   "source": [
    "import ipywidgets as widgets\n",
    "import json\n",
    "import numpy as np\n",
    "\n",
    "from ipywidgets import (\n",
    "                        fixed,\n",
    "                        interact\n",
    "                        )\n",
    "from matplotlib import pyplot as plt\n",
    "\n",
    "from recon_utilities import (\n",
    "                             loadSpray,\n",
    "                             getSystemMatrix,\n",
    "                             MLOS,\n",
    "                             scalarCF,\n",
    "                             massCheck,\n",
    "                             recon,\n",
    "                             spatialCF,\n",
    "                             showHistory,\n",
    "                             compareProj,\n",
    "                             convertVTK,\n",
    "                             showVolume\n",
    "                             )\n",
    "\n",
    "\n",
    "# Data directories\n",
    "inp_fld = 'inputs'\n",
    "out_fld = 'outputs'"
   ]
  },
  {
   "cell_type": "markdown",
   "id": "262f1465-43ca-4766-b49e-ddda4468e999",
   "metadata": {},
   "source": [
    "### Version information"
   ]
  },
  {
   "cell_type": "code",
   "execution_count": 2,
   "id": "ffbab46c-7c86-4e9d-b9df-2c7e60b15fae",
   "metadata": {},
   "outputs": [
    {
     "name": "stdout",
     "output_type": "stream",
     "text": [
      "ipywidgets 7.6.3\n",
      "json 2.0.9\n",
      "numpy 1.19.5\n",
      "matplotlib 3.1.1\n",
      "astra 1.8.3\n",
      "h5py 2.10.0\n",
      "pyvista 0.33.3\n",
      "pyevtk 1.2.0\n",
      "scipy 1.1.0\n",
      "skimage 0.15.0\n"
     ]
    }
   ],
   "source": [
    "%reload_ext watermark\n",
    "%watermark -p ipywidgets,json,numpy,matplotlib,astra,h5py,pyvista\n",
    "%watermark -p pyevtk,scipy,skimage"
   ]
  },
  {
   "cell_type": "markdown",
   "id": "cfe6f663-3a86-4f74-8d09-24225c018045",
   "metadata": {},
   "source": [
    "## Reconstruction setup\n",
    "Let's load in the pre-processed spray projected density images. For brevity we are only reconstructing the first frame of the spray, however the workflow remains unchanged for the other time steps. The rest of the frames are also made available in their raw format (they'll need to be [pre-processed](./pb02_preprocessing.ipynb)) [[1]](#References)."
   ]
  },
  {
   "cell_type": "code",
   "execution_count": 3,
   "id": "c342e194-fe25-445f-906a-9864c02a459f",
   "metadata": {},
   "outputs": [],
   "source": [
    "projRes_lo, projRes_hi = loadSpray(f'{out_fld}/spray_pbDens_frame0.hdf5')"
   ]
  },
  {
   "cell_type": "markdown",
   "id": "4814c298-3f92-4cba-b843-744fbef6b25b",
   "metadata": {},
   "source": [
    "We'll also be loading in time-averaged projected density maps for each of the Reynolds number conditions. These images will be used as a beam hardening correction for the time-resolved case."
   ]
  },
  {
   "cell_type": "code",
   "execution_count": 4,
   "id": "05ced3f3-d290-435e-a373-c24fc7e00875",
   "metadata": {},
   "outputs": [],
   "source": [
    "projAvg_lo, projAvg_hi = loadSpray(f'{out_fld}/spray_pbDens_averaged.hdf5')"
   ]
  },
  {
   "cell_type": "markdown",
   "id": "935a0604-9a88-478f-a199-7cda8c90b861",
   "metadata": {},
   "source": [
    "For reproducibility of the results in this work's corresponding paper, the geometry parameters utilized in the data processing for that work's results is used here instead of the outputs from [pb03_refinement.ipynb](pb03_refinement.ipynb). Due to the non-deterministic nature of the particle swarm optimization routine (it's a metaheuristic [[2]](#References)), the refined geometry parameters found in the previous step in this workflow might end up converging to a slightly different solution to within the defined constraints, however the improvement in the reconstructions is expected to be on a similar scale."
   ]
  },
  {
   "cell_type": "code",
   "execution_count": 5,
   "id": "c3435937-b1ee-4573-9fab-ae803fe7ad6d",
   "metadata": {
    "tags": []
   },
   "outputs": [],
   "source": [
    "with open(f'{inp_fld}/geom_pso_paper.txt', 'r') as file:\n",
    "     geom = json.load(file)"
   ]
  },
  {
   "cell_type": "markdown",
   "id": "c8546660-ad15-45d2-9ea8-aad790034954",
   "metadata": {},
   "source": [
    "We'll be reconstructing the polychromatic beam data with a cone beam approach, as opposed to the monochromatic beam data which assumes a parallel beam. Let's start by loading in the system matrix using the refined geometry parameters, again constructed using the ASTRA toolbox [[3]](#References), [[4]](#References)."
   ]
  },
  {
   "cell_type": "code",
   "execution_count": 6,
   "id": "446e5bbf-3dfb-4410-82df-0ba146dcc59e",
   "metadata": {},
   "outputs": [],
   "source": [
    "W = getSystemMatrix(geom)"
   ]
  },
  {
   "cell_type": "markdown",
   "id": "983a8db0-abe2-4eee-8308-50f290861f9f",
   "metadata": {},
   "source": [
    "As we will be utilizing an iterative reconstruction algorithm, we need to start out with a good initial volume guess. We'll be using the MLOS approach before that was introduced in the [refinement step](pb03_refinement.ipynb) [[5]](#References), [[6]](#References). This initial volume guess changes for each frame due to the dynamic nature of the spray$-$since we are only looking at the first time step (frame0) in this notebook, we only need to create one initial volume guess for the time-resolved case.\n",
    "\n",
    "The constructed initial volumes are either binary (returned as floats) of 1s (liquid is expected to be present) or 0s (no liquid is expected to be present). This provides initial step only provides a structural guess of where liquid is expected to be present$-$the final reconstruction routine will refine the actual intensities."
   ]
  },
  {
   "cell_type": "code",
   "execution_count": 7,
   "id": "6090a0cb-74d6-45da-b399-0a5669082f97",
   "metadata": {},
   "outputs": [],
   "source": [
    "# Initial volume for time-resolved case\n",
    "volInit_lo, projInit_lo = MLOS(W, projRes_lo, 'proj', 3, fp='reconInit_lo')\n",
    "volInit_hi, projInit_hi = MLOS(W, projRes_hi, 'proj', 3, fp='reconInit_hi')\n",
    "\n",
    "# Initial volume for time-averaged case\n",
    "volInitAvg_lo, projInitAvg_lo = MLOS(W, projAvg_lo, 'proj', 3, fp='reconAvgInit_lo')\n",
    "volInitAvg_hi, projInitAvg_hi = MLOS(W, projAvg_hi, 'proj', 3, fp='reconAvgInit_hi')"
   ]
  },
  {
   "cell_type": "markdown",
   "id": "7d58245c-1228-4680-8bd2-27eee2b22649",
   "metadata": {},
   "source": [
    "We'll next want to create a \"mask\" volume that removes any extraneous regions on the exterior boundaries of the volume. This is still done through the `MLOS()` function, except now we will be constructing the volume by backprojecting arrays of 1s as opposed to backprojecting the initially measured spray images."
   ]
  },
  {
   "cell_type": "code",
   "execution_count": 8,
   "id": "da1f8936-d724-4df9-88fe-1290757d8a8e",
   "metadata": {},
   "outputs": [],
   "source": [
    "# Mask for time-resolved case\n",
    "volMask_lo, _ = MLOS(W, projRes_lo, 'ones', 3, fp='reconMask_lo')\n",
    "volMask_hi, _ = MLOS(W, projRes_hi, 'ones', 3, fp='reconMask_hi')\n",
    "\n",
    "# Mask for time-averaged case\n",
    "volMaskAvg_lo, _ = MLOS(W, projAvg_lo, 'ones', 3, fp='reconMaskAvg_lo')\n",
    "volMaskAvg_hi, _ = MLOS(W, projAvg_hi, 'ones', 3, fp='reconMaskAvg_hi')"
   ]
  },
  {
   "cell_type": "markdown",
   "id": "7b0f5fc2-0f64-41f8-85fa-25a71b6fc034",
   "metadata": {},
   "source": [
    "## Mass conservation check"
   ]
  },
  {
   "cell_type": "markdown",
   "id": "1e0571e7-684e-4a69-b3d8-6ca7d0880a1e",
   "metadata": {},
   "source": [
    "Although a theoretical EPL calibration curve was used to convert the X-ray radiograph transmission values into quantitative path length values, further correction still needs to be made so that all views from the different X-ray tube sources give physically consistent values.\n",
    "\n",
    "The first step will be to do an initial quick scalar correction. The jets before impingement are known to have a 2000 µm, so they are used to correct each of the three views. This correction is carried out in `scalarCF()` (see: [recon_utilities.py](./recon_utilities.py))."
   ]
  },
  {
   "cell_type": "code",
   "execution_count": 9,
   "id": "0438aa9c-4512-48cd-80f5-194f4d05dda8",
   "metadata": {},
   "outputs": [],
   "source": [
    "# Correct the time-resolved case\n",
    "projRes_lo = scalarCF(volInit_lo, projRes_lo, W, fp='scalarRes_lo')\n",
    "projRes_hi = scalarCF(volInit_hi, projRes_hi, W, fp='scalarRes_hi')\n",
    "\n",
    "# Correct the time-averaged case\n",
    "projAvg_lo = scalarCF(volInitAvg_lo, projAvg_lo, W, fp='scalarAvg_lo')\n",
    "projAvg_hi = scalarCF(volInitAvg_hi, projAvg_hi, W, fp='scalarAvg_hi')"
   ]
  },
  {
   "cell_type": "markdown",
   "id": "68a98351-dbdd-4945-a9a4-4079d683c060",
   "metadata": {},
   "source": [
    "The next step is to calculate the liquid masses captured from each of the views. As the images from the three lines of sight are synchronized and temporally resolved, the calculated masses should be consistent between all views. The mass is calculated by the summation of the projected density maps multiplied by the detector size squared, which is done in `massCheck()` (see: [recon_utilities.py](./recon_utilities.py)).\n",
    "\n",
    "The first step is to mask off the projections to ensure all lines of sight are looking at the same parts of the spray. This is done by using the reprojections from the MLOS initialization routine as the mask."
   ]
  },
  {
   "cell_type": "code",
   "execution_count": 10,
   "id": "64fe1ad8-946f-4b70-ae37-ba2aeacd9a1b",
   "metadata": {},
   "outputs": [],
   "source": [
    "# Mask off the time-resolved case\n",
    "projRes_lo *= (projInit_lo > 0).astype(projRes_lo.dtype)\n",
    "projRes_hi *= (projInit_hi > 0).astype(projRes_hi.dtype)\n",
    "\n",
    "# Mask off the time-averaged case\n",
    "projAvg_lo *= (projInitAvg_lo > 0).astype(projInitAvg_lo.dtype)\n",
    "projAvg_hi *= (projInitAvg_hi > 0).astype(projInitAvg_hi.dtype)"
   ]
  },
  {
   "cell_type": "markdown",
   "id": "3b953f1a-c8e6-45bd-8f42-47a63404ae52",
   "metadata": {},
   "source": [
    "Next, calculate the total liquid mass for each view."
   ]
  },
  {
   "cell_type": "code",
   "execution_count": 11,
   "id": "03c2b8b7-2b5f-4563-8511-e30824ca3f6f",
   "metadata": {},
   "outputs": [
    {
     "name": "stdout",
     "output_type": "stream",
     "text": [
      "Measured liquid masses for each view (time-resolved, Re = 7,100): [ 681031.  325636.  953151.] μg\n",
      "Variation in liquid mass between views (time-resolved, Re = 7,100): 39.33%\n",
      "\n",
      "Measured liquid masses for each view (time-resolved, Re = 10,600): [ 699175.  419010.  999509.] μg\n",
      "Variation in liquid mass between views (time-resolved, Re = 10,600): 33.58%\n",
      "\n",
      "Measured liquid masses for each view (time-averaged, Re = 7,100): [ 655070.  335199.  929322.] μg\n",
      "Variation in liquid mass between views (time-averaged, Re = 7,100): 37.94%\n",
      "\n",
      "Measured liquid masses for each view (time-averaged, Re = 10,600): [ 581376.  413203.  911318.] μg\n",
      "Variation in liquid mass between views (time-averaged, Re = 10,600): 32.57%\n",
      "\n"
     ]
    }
   ],
   "source": [
    "# Calculate the mass and coefficient of variations for the time-resolved case\n",
    "initMass_lo, cv_lo = massCheck(projRes_lo, geom, 'time-resolved, Re = 7,100')\n",
    "initMass_hi, cv_hi = massCheck(projRes_hi, geom, 'time-resolved, Re = 10,600')\n",
    "\n",
    "# Calculate the mass and coefficient of variations for the time-averaged case\n",
    "initMassAvg_lo, cvAvg_lo = massCheck(\n",
    "                                     projAvg_lo,\n",
    "                                     geom,\n",
    "                                     'time-averaged, Re = 7,100'\n",
    "                                     )\n",
    "initMassAvg_hi, cvAvg_hi = massCheck(\n",
    "                                     projAvg_hi,\n",
    "                                     geom,\n",
    "                                     'time-averaged, Re = 10,600'\n",
    "                                     )"
   ]
  },
  {
   "cell_type": "markdown",
   "id": "7cfd60eb-e3be-48d6-82bc-1b723bd9344f",
   "metadata": {},
   "source": [
    "This large variation in measured liquid masses between views (>30%) is attributed to the spatial beam hardening variation in the images in each view. Although a scalar correction was made based on the jets, a more rigorous spatial correction still needs to be done, i.e. an additional correction factor based on vertical (row) location in the image. Due to the polychromatic cone beam nature of the X-ray sources used here, as well as source-to-source variation, a spatial correction factor is to be expected. Here, an *ad hoc* approach is used where we will use reconstructions of the time-averaged projections to calculate the spatial correction factors for each view.\n",
    "\n",
    "Let's start the correction by reconstructing the time-averaged projection data. We will use the `recon()` function (see: [recon_utilities.py](./recon_utilities.py)), which takes as inputs the system matrix `W`, the initial volume guess `initVol`, projection data `proj`, volume to be used for masking `mask`, lower and upper threshold bounds on the reconstructed volume intensities `bounds`, and maximum number of iterations `iters` and stopping criteria threshold `stop` that determine convergence. The iterative reconstruction algorithm used here is the maximum-likelihood expectation-maximization (MLEM) routine [[7]](#References), [[8]](#References). The function output is a tuple containing the reconstructed volume, reprojections of that volume, and history statistics that track the progression of the iterative reconstruction algorithm. For the mass conservation correction, only the reprojections are required here."
   ]
  },
  {
   "cell_type": "code",
   "execution_count": 12,
   "id": "f59859c2-e0e6-45e5-af1b-a9a356757c39",
   "metadata": {},
   "outputs": [
    {
     "name": "stdout",
     "output_type": "stream",
     "text": [
      "Wall time: 2min 25s\n"
     ]
    }
   ],
   "source": [
    "%%time\n",
    "\n",
    "# Maximum ideal value in the reconstructed liquid density volumes [μg/mm^3]\n",
    "maxVal = 1.314 * 1000\n",
    "\n",
    "# Bounds to  use for thresholding the volume\n",
    "# Lower threshold set to 2% of the maximum value (remove any noise) between \n",
    "# iterations, upper threshold set to the maximum value between iterations, \n",
    "# final lower threshold value set to 5% of the maximum value after iterations\n",
    "bounds = (0.02*maxVal, maxVal, 0.05*maxVal)\n",
    "\n",
    "# Maximum number of iterations\n",
    "iters = 1000\n",
    "\n",
    "# Stopping criteria: solution is stopped early if this threshold is met\n",
    "# Chosen such that the change in total mass between iterations is <0.5 μg \n",
    "stop = 1E-4\n",
    "\n",
    "# Reconstruct time-averaged projections\n",
    "_, reprojAvg_lo, _ = recon(\n",
    "                           W,\n",
    "                           volInitAvg_lo,\n",
    "                           projAvg_lo,\n",
    "                           volMaskAvg_lo,\n",
    "                           bounds,\n",
    "                           iters,\n",
    "                           stop,\n",
    "                           fp='reconAvg_lo'\n",
    "                           )\n",
    "_, reprojAvg_hi, _ = recon(\n",
    "                           W,\n",
    "                           volInitAvg_hi,\n",
    "                           projAvg_hi,\n",
    "                           volMaskAvg_hi,\n",
    "                           bounds,\n",
    "                           iters,\n",
    "                           stop,\n",
    "                           fp='reconAvg_hi'\n",
    "                           )"
   ]
  },
  {
   "cell_type": "markdown",
   "id": "73486a49-f42c-456c-bb1d-8ade6dca044b",
   "metadata": {},
   "source": [
    "Next, the spatial correction factor mappings are calculated by taking the ratio between the time-averaged reprojection and projection datasets. After ratio calculation, a vertical profile is calculated by finding the mean ratio value for each row in the image. This is done so that any differences between the time-resolved and time-averaged case does not negatively bias the time-resolved reconstructions (e.g. an isolated droplet on the edge that shows up in the time-resolved case may not be present in the time-averaged case and could be zeroed out). Refer to `spatialCF()` for further detail (see: [recon_utilities.py](./recon_utilities.py)).\n",
    "\n",
    "The spatial corrections are calculated for each Reynolds number case separately to account for any differences in path length distributions."
   ]
  },
  {
   "cell_type": "code",
   "execution_count": 13,
   "id": "abb4adaf-8c80-4ac2-82dd-9b555de0d4fe",
   "metadata": {},
   "outputs": [],
   "source": [
    "# Calculate spatial correction factors using the time-averaged projections\n",
    "spatialCF_lo = spatialCF(projAvg_lo, reprojAvg_lo)\n",
    "spatialCF_hi = spatialCF(projAvg_hi, reprojAvg_hi)"
   ]
  },
  {
   "cell_type": "markdown",
   "id": "adf32691-dd22-4b77-a8c0-2ccab2529f40",
   "metadata": {},
   "source": [
    "Now let's apply the spatial correction to the time-resolved case."
   ]
  },
  {
   "cell_type": "code",
   "execution_count": 14,
   "id": "47dc81a3-b772-4864-935b-0c00f4f833e3",
   "metadata": {},
   "outputs": [],
   "source": [
    "# Apply spatial correction factors\n",
    "projCorr_lo = projRes_lo * spatialCF_lo\n",
    "projCorr_hi = projRes_hi * spatialCF_hi"
   ]
  },
  {
   "cell_type": "markdown",
   "id": "ee6381ef-9a50-452e-9a69-7b740397b915",
   "metadata": {},
   "source": [
    "Let's verify the effectiveness by calculating mass conservation checks again on the corrected datasets."
   ]
  },
  {
   "cell_type": "code",
   "execution_count": 15,
   "id": "fe66fa3d-6562-4950-879d-adfb553a8043",
   "metadata": {},
   "outputs": [
    {
     "name": "stdout",
     "output_type": "stream",
     "text": [
      "Measured liquid masses for each view (time-resolved, Re = 7,100): [ 553107.  599733.  739043.] μg\n",
      "Variation in liquid mass between views (time-resolved, Re = 7,100): 12.53%\n",
      "\n",
      "Measured liquid masses for each view (time-resolved, Re = 10,600): [ 631041.  574185.  737155.] μg\n",
      "Variation in liquid mass between views (time-resolved, Re = 10,600): 10.43%\n",
      "\n"
     ]
    }
   ],
   "source": [
    "# Calculate the mass and coefficient of variations for the time-resolved case\n",
    "corrMass_lo, cvCorr_lo = massCheck(\n",
    "                                   projCorr_lo,\n",
    "                                   geom,\n",
    "                                   'time-resolved, Re = 7,100'\n",
    "                                   )\n",
    "corrMass_hi, cvCorr_hi = massCheck(\n",
    "                                   projCorr_hi,\n",
    "                                   geom,\n",
    "                                   'time-resolved, Re = 10,600'\n",
    "                                   )"
   ]
  },
  {
   "cell_type": "markdown",
   "id": "41852e76-f72b-4147-9e1a-c2af9e8a45a3",
   "metadata": {},
   "source": [
    "## Time-resolved reconstruction"
   ]
  },
  {
   "cell_type": "code",
   "execution_count": 16,
   "id": "cfe0eba0-2f8d-4995-b240-b90ce865db78",
   "metadata": {},
   "outputs": [
    {
     "name": "stdout",
     "output_type": "stream",
     "text": [
      "Wall time: 1min 16s\n"
     ]
    }
   ],
   "source": [
    "%%time\n",
    "\n",
    "# Reconstruct time-averaged projections\n",
    "[volRes_lo, reprojRes_lo, histRes_lo] = recon(\n",
    "                                              W,\n",
    "                                              volInit_lo,\n",
    "                                              projCorr_lo,\n",
    "                                              volMask_lo,\n",
    "                                              bounds,\n",
    "                                              iters,\n",
    "                                              stop,\n",
    "                                              fp='reconRes_lo'\n",
    "                                              )\n",
    "[volRes_hi, reprojRes_hi, histRes_hi] = recon(\n",
    "                                              W,\n",
    "                                              volInit_hi,\n",
    "                                              projCorr_hi,\n",
    "                                              volMask_hi,\n",
    "                                              bounds,\n",
    "                                              iters,\n",
    "                                              stop,\n",
    "                                              fp='reconRes_hi'\n",
    "                                              )"
   ]
  },
  {
   "cell_type": "markdown",
   "id": "1a53c225-4dec-44c8-976c-18e408e553ca",
   "metadata": {},
   "source": [
    "Let's run the mass conservation check again on these final reconstructions just to be safe."
   ]
  },
  {
   "cell_type": "code",
   "execution_count": 17,
   "id": "9918c9f6-a20a-4a96-9bc6-2b8bf0a688df",
   "metadata": {},
   "outputs": [
    {
     "name": "stdout",
     "output_type": "stream",
     "text": [
      "Measured liquid masses for each view (time-resolved, Re = 7,100): [ 528643.  586911.  718456.] μg\n",
      "Variation in liquid mass between views (time-resolved, Re = 7,100): 12.99%\n",
      "\n",
      "Measured liquid masses for each view (time-resolved, Re = 10,600): [ 534814.  594588.  726013.] μg\n",
      "Variation in liquid mass between views (time-resolved, Re = 10,600): 12.91%\n",
      "\n"
     ]
    }
   ],
   "source": [
    "# Calculate the mass and coefficient of variations for the time-resolved case\n",
    "reconMass_lo, cvRecon_lo = massCheck(\n",
    "                                     reprojRes_lo,\n",
    "                                     geom,\n",
    "                                     'time-resolved, Re = 7,100'\n",
    "                                     )\n",
    "reconMass_hi, cvRecon_hi = massCheck(\n",
    "                                     reprojRes_hi,\n",
    "                                     geom,\n",
    "                                     'time-resolved, Re = 10,600'\n",
    "                                     )"
   ]
  },
  {
   "cell_type": "markdown",
   "id": "7f2fb4f7-0bbd-4270-9b6f-c9154a5386df",
   "metadata": {},
   "source": [
    "We can also inspect the solution history per iteration for each of the reconstructions. The errors between the projection and reprojections are tabulated as the NRMSE (normalized root-mean-squared error in intensity), liquid mass, PSNR (peak signal-to-noise ratio), and SSIM (structural similarity index measure). The convergence is tabulated as the change in the $L_2$-norm in the projected views between iterations. The solution is run until all views reach a change in the $L_2$-norm of less than the equivalent of ~0.5 μg or until 1000 iterations is reached, whichever comes first. There is a small jump at the last iteration due to the final, slightly more aggressive thresholding done on the entire volume."
   ]
  },
  {
   "cell_type": "code",
   "execution_count": 18,
   "id": "43dda69c-9514-4046-a54d-e91e109e3fde",
   "metadata": {},
   "outputs": [
    {
     "data": {
      "application/vnd.jupyter.widget-view+json": {
       "model_id": "5dbeb0fc594e4f0a801b45716c4f6190",
       "version_major": 2,
       "version_minor": 0
      },
      "text/plain": [
       "interactive(children=(ToggleButtons(description='Reynolds No.', options=((7100, 0), (10600, 1)), value=0), Out…"
      ]
     },
     "metadata": {},
     "output_type": "display_data"
    }
   ],
   "source": [
    "interact(\n",
    "         showHistory, \n",
    "         state=widgets.ToggleButtons(options=[(7100, 0), (10600, 1)], \n",
    "                                     description='Reynolds No.',\n",
    "                                     ),\n",
    "         hist=fixed((histRes_lo, histRes_hi)),\n",
    "         Re=fixed((7100, 10600)),\n",
    "         );"
   ]
  },
  {
   "cell_type": "markdown",
   "id": "71b09c18-eb76-4af7-ae9e-308c199441f1",
   "metadata": {},
   "source": [
    "## Visualization"
   ]
  },
  {
   "cell_type": "markdown",
   "id": "8247ac79",
   "metadata": {},
   "source": [
    "We can visualize our results by first viewing the (mass-corrected) measured projections against the reconstructed volume's reprojections for each camera. This is done through the `compareProj()` function below (see: [recon_utilities.py](./recon_utilities.py)). We see that the reprojections on the right-hand side closely matches the left-hand side measured projections, with the main differences being that the reprojections seem slightly more \"blurrier\", which is to be expected as a smoothing filter was used between iterations to aid in convergence."
   ]
  },
  {
   "cell_type": "code",
   "execution_count": 19,
   "id": "68a28e92-81c9-4ace-b70e-8beb3892f6e6",
   "metadata": {
    "tags": []
   },
   "outputs": [
    {
     "data": {
      "application/vnd.jupyter.widget-view+json": {
       "model_id": "ff9e06d50a49494cb4f6262da0a222d9",
       "version_major": 2,
       "version_minor": 0
      },
      "text/plain": [
       "interactive(children=(ToggleButtons(description='Reynolds No.', options=((7100, 0), (10600, 1)), value=0), Dro…"
      ]
     },
     "metadata": {},
     "output_type": "display_data"
    }
   ],
   "source": [
    "interact(\n",
    "         compareProj, \n",
    "         state=widgets.ToggleButtons(options=[(7100, 0), (10600, 1)], \n",
    "                                     description='Reynolds No.',\n",
    "                                     ),\n",
    "         proj=fixed((projCorr_lo, projCorr_hi)),\n",
    "         reproj=fixed((reprojRes_lo, reprojRes_hi)),\n",
    "         Re=fixed((7100, 10600)),\n",
    "         view=widgets.Dropdown(options=[(1,0), (2,1), (3,2)],\n",
    "                               description='Camera',\n",
    "                               ),\n",
    "         cmap=widgets.Dropdown(options=plt.colormaps(),\n",
    "                               description='Colormap', \n",
    "                               value='Blues')\n",
    "         );"
   ]
  },
  {
   "cell_type": "markdown",
   "id": "c98dd46d-05e0-4740-86af-80739e969a99",
   "metadata": {},
   "source": [
    "The accompanying paper to this work utilizes *ParaView* [[9]](#References) for volume visualization. We first need to output the volumes as a VTI file using the Visualization Toolkit (VTK) standard [[10]](#References). This is an open-source software that allows for 3D visualization through a multitude of tools, including *ParaView* which is developed with VTK in mind. The processing is done in `convertVTK()` (see: [recon_utilities.py](./recon_utilities.py)), which crops down the volume, centers the data on the impingement point, and converts the values into liquid volume fraction (LVF) scaled to the range 0-1000. The impingement point was manually found by axially slicing through the volume in *ParaView* to locate the point at which the two jets fully intersect."
   ]
  },
  {
   "cell_type": "code",
   "execution_count": 20,
   "id": "8ec8d61e-f447-4136-98e1-13216c3578d3",
   "metadata": {},
   "outputs": [],
   "source": [
    "# Convert and save volumes\n",
    "convertVTK(volRes_lo, W, 'volume_Re-7100')\n",
    "convertVTK(volRes_hi, W, 'volume_Re-10600')"
   ]
  },
  {
   "cell_type": "markdown",
   "id": "8c236e13",
   "metadata": {},
   "source": [
    "These files can now be imported directly into *ParaView*, where more advanced visualization can be done."
   ]
  },
  {
   "cell_type": "markdown",
   "id": "7dd095a9",
   "metadata": {},
   "source": [
    "We can also visualize the volume as well in Jupyter using the `pyvista` library. As a quick demonstration of the reconstruction results, let's interactively visualize some selected isosurfaces here using `showVolume()` (see: [recon_utilities.py](./recon_utilities.py)). The figure can be manipulated through zooming (hold right-click and drag or scroll in/out), panning (hold shift and drag left-click), and rotating (drag left-click). For further visualization, such as slicing through the volumes, refer to the [pyvista documentation](https://docs.pyvista.org) for some inspiration (or use *ParaView*!). \n",
    "\n",
    "*Note*: this figure may not be viewable in Jupyter Lab$-$I would recommend using Jupyter Notebook instead."
   ]
  },
  {
   "cell_type": "code",
   "execution_count": 21,
   "id": "1734faa0",
   "metadata": {},
   "outputs": [
    {
     "data": {
      "application/vnd.jupyter.widget-view+json": {
       "model_id": "48ae9e1f772a4f8ba69b3126dc90a632",
       "version_major": 2,
       "version_minor": 0
      },
      "text/plain": [
       "interactive(children=(ToggleButtons(description='Reynolds No.', options=((7100, 0), (10600, 1)), value=0), Out…"
      ]
     },
     "metadata": {},
     "output_type": "display_data"
    }
   ],
   "source": [
    "interact(\n",
    "         showVolume, \n",
    "         state=widgets.ToggleButtons(options=[(7100, 0), (10600, 1)], \n",
    "                                     description='Reynolds No.',\n",
    "                                     ),\n",
    "         vol=fixed(('volume_Re-7100', 'volume_Re-10600')),\n",
    "         Re=fixed((7100, 10600)),\n",
    "         );"
   ]
  },
  {
   "cell_type": "markdown",
   "id": "aa0e5d46",
   "metadata": {},
   "source": [
    "## Next steps"
   ]
  },
  {
   "cell_type": "markdown",
   "id": "bdf0e108",
   "metadata": {},
   "source": [
    "This concludes the polychromatic beam reconstruction workflow! Further data analysis on the volume datasets can be done on the NumPy arrays (`volRes_lo`, `volRes_hi`) directly in Python, with simple visualization of the volume done through software such as `pyvista` in Python or through more advanced external tools such as *ParaView* (recommended)."
   ]
  },
  {
   "cell_type": "markdown",
   "id": "e5b09740-bae8-41e6-b1dc-48f8d8413aa2",
   "metadata": {},
   "source": [
    "## References"
   ]
  },
  {
   "cell_type": "markdown",
   "id": "ba786b67-136c-4df0-9e17-a1b6c351f515",
   "metadata": {},
   "source": [
    "1. Rahman, N., Meyer, T. Quantitative polychromatic 4D and monochromatic 2D X-ray tomography of liquid jet breakup dynamics. *Purdue University Research Repository* (2022). doi: [10.4231/G20X-4Z27](https://doi.org/10.4231/G20X-4Z27).\n",
    "\n",
    "2. Abdel-Basset, M., Abdel-Fatah, L. & Sangaiah, A. K. Metaheuristic Algorithms: A Comprehensive Review. in *Computational Intelligence for Multimedia Big Data on the Cloud with Engineering Applications* 185–231 (Elsevier, 2018). doi: [10.1016/B978-0-12-813314-9.00010-4](https://doi.org/10.1016/B978-0-12-813314-9.00010-4).\n",
    "\n",
    "3. van Aarle, W. et al. The ASTRA Toolbox: A platform for advanced algorithm development in electron tomography. *Ultramicroscopy* 157, 35–47 (2015). doi: [10.1016/j.ultramic.2015.05.002](https://doi.org/10.1016/j.ultramic.2015.05.002).\n",
    "\n",
    "4. van Aarle, W. et al. Fast and flexible X-ray tomography using the ASTRA toolbox. *Opt. Express* 24, 25129 (2016). doi: [10.1364/OE.24.025129](https://doi.org/10.1364/OE.24.025129).\n",
    "\n",
    "5. Atkinson, C. & Soria, J. An efficient simultaneous reconstruction technique for tomographic particle image velocimetry. *Exp. Fluids* 47, 553–568 (2009). doi: [10.1007/s00348-009-0728-0](https://doi.org/10.1007/s00348-009-0728-0).\n",
    "\n",
    "6. Worth, N. A. & Nickels, T. B. Acceleration of Tomo-PIV by estimating the initial volume intensity distribution. *Exp. Fluids* 45, 847–856 (2008). doi: [10.1007/s00348-008-0504-6](https://doi.org/10.1007/s00348-008-0504-6).\n",
    "\n",
    "7. Jingyu Cui, Pratx, G., Bowen Meng & Levin, C. S. Distributed MLEM: An Iterative Tomographic Image Reconstruction Algorithm for Distributed Memory Architectures. *IEEE Trans. Med. Imaging* 32, 957–967 (2013). doi: [10.1109/TMI.2013.2252913](https://doi.org/10.1109/TMI.2013.2252913).\n",
    "\n",
    "8. Slomski, A. et al. 3D PET image reconstruction based on the maximum likelihood estimation method (MLEM) algorithm. *Bio-Algorithms and Med-Systems* 10, 1–7 (2014). doi: [10.1515/bams-2013-0106](https://doi.org/10.1515/bams-2013-0106).\n",
    "\n",
    "7. *ParaView*. Available at: http://www.paraview.org/.  \n",
    "\n",
    "8. Schroeder, W., Martin, K. & Lorensen, B. *The Visualization Toolkit*. (Kitware, Inc, 2006)."
   ]
  },
  {
   "cell_type": "markdown",
   "id": "24ddd629-bb92-453a-b30f-2352068a18dd",
   "metadata": {},
   "source": [
    "---\n",
    "\n",
    "**Author**: Naveed Rahman, Purdue University, 23 March 2022\n",
    "\n",
    "---"
   ]
  }
 ],
 "metadata": {
  "kernelspec": {
   "display_name": "Python 3",
   "language": "python",
   "name": "python3"
  },
  "language_info": {
   "codemirror_mode": {
    "name": "ipython",
    "version": 3
   },
   "file_extension": ".py",
   "mimetype": "text/x-python",
   "name": "python",
   "nbconvert_exporter": "python",
   "pygments_lexer": "ipython3",
   "version": "3.6.5"
  },
  "widgets": {
   "application/vnd.jupyter.widget-state+json": {
    "state": {
     "22de5ec979b345859ddffb2608143850": {
      "model_module": "@jupyter-widgets/controls",
      "model_module_version": "1.5.0",
      "model_name": "DropdownModel",
      "state": {
       "_options_labels": [
        "Accent",
        "Accent_r",
        "Blues",
        "Blues_r",
        "BrBG",
        "BrBG_r",
        "BuGn",
        "BuGn_r",
        "BuPu",
        "BuPu_r",
        "CMRmap",
        "CMRmap_r",
        "Dark2",
        "Dark2_r",
        "GnBu",
        "GnBu_r",
        "Greens",
        "Greens_r",
        "Greys",
        "Greys_r",
        "OrRd",
        "OrRd_r",
        "Oranges",
        "Oranges_r",
        "PRGn",
        "PRGn_r",
        "Paired",
        "Paired_r",
        "Pastel1",
        "Pastel1_r",
        "Pastel2",
        "Pastel2_r",
        "PiYG",
        "PiYG_r",
        "PuBu",
        "PuBuGn",
        "PuBuGn_r",
        "PuBu_r",
        "PuOr",
        "PuOr_r",
        "PuRd",
        "PuRd_r",
        "Purples",
        "Purples_r",
        "RdBu",
        "RdBu_r",
        "RdGy",
        "RdGy_r",
        "RdPu",
        "RdPu_r",
        "RdYlBu",
        "RdYlBu_r",
        "RdYlGn",
        "RdYlGn_r",
        "Reds",
        "Reds_r",
        "Set1",
        "Set1_r",
        "Set2",
        "Set2_r",
        "Set3",
        "Set3_r",
        "Spectral",
        "Spectral_r",
        "Wistia",
        "Wistia_r",
        "YlGn",
        "YlGnBu",
        "YlGnBu_r",
        "YlGn_r",
        "YlOrBr",
        "YlOrBr_r",
        "YlOrRd",
        "YlOrRd_r",
        "afmhot",
        "afmhot_r",
        "autumn",
        "autumn_r",
        "binary",
        "binary_r",
        "bone",
        "bone_r",
        "brg",
        "brg_r",
        "bwr",
        "bwr_r",
        "cividis",
        "cividis_r",
        "cool",
        "cool_r",
        "coolwarm",
        "coolwarm_r",
        "copper",
        "copper_r",
        "cubehelix",
        "cubehelix_r",
        "flag",
        "flag_r",
        "gist_earth",
        "gist_earth_r",
        "gist_gray",
        "gist_gray_r",
        "gist_heat",
        "gist_heat_r",
        "gist_ncar",
        "gist_ncar_r",
        "gist_rainbow",
        "gist_rainbow_r",
        "gist_stern",
        "gist_stern_r",
        "gist_yarg",
        "gist_yarg_r",
        "gnuplot",
        "gnuplot2",
        "gnuplot2_r",
        "gnuplot_r",
        "gray",
        "gray_r",
        "hot",
        "hot_r",
        "hsv",
        "hsv_r",
        "inferno",
        "inferno_r",
        "jet",
        "jet_r",
        "magma",
        "magma_r",
        "nipy_spectral",
        "nipy_spectral_r",
        "ocean",
        "ocean_r",
        "pink",
        "pink_r",
        "plasma",
        "plasma_r",
        "prism",
        "prism_r",
        "rainbow",
        "rainbow_r",
        "seismic",
        "seismic_r",
        "spring",
        "spring_r",
        "summer",
        "summer_r",
        "tab10",
        "tab10_r",
        "tab20",
        "tab20_r",
        "tab20b",
        "tab20b_r",
        "tab20c",
        "tab20c_r",
        "terrain",
        "terrain_r",
        "twilight",
        "twilight_r",
        "twilight_shifted",
        "twilight_shifted_r",
        "viridis",
        "viridis_r",
        "winter",
        "winter_r"
       ],
       "description": "Colormap",
       "index": 2,
       "layout": "IPY_MODEL_e3e75b119b054d4ea4d47ec31404d210",
       "style": "IPY_MODEL_d7994845acae467fbdef59940be58bcb"
      }
     },
     "32229b8d269a473c9a636f921dc42720": {
      "model_module": "@jupyter-widgets/controls",
      "model_module_version": "1.5.0",
      "model_name": "ToggleButtonsModel",
      "state": {
       "_options_labels": [
        "7100",
        "10600"
       ],
       "button_style": "",
       "description": "Reynolds No.",
       "icons": [],
       "index": 0,
       "layout": "IPY_MODEL_ceeee132b03d4379a5fac416dd362d4a",
       "style": "IPY_MODEL_4c4fe920afca425abf5e1dcc7da39962",
       "tooltips": []
      }
     },
     "3b8a1c21c28e4adaaccf2390c9d703da": {
      "model_module": "@jupyter-widgets/controls",
      "model_module_version": "1.5.0",
      "model_name": "ToggleButtonsStyleModel",
      "state": {
       "button_width": "",
       "description_width": ""
      }
     },
     "48ae9e1f772a4f8ba69b3126dc90a632": {
      "model_module": "@jupyter-widgets/controls",
      "model_module_version": "1.5.0",
      "model_name": "VBoxModel",
      "state": {
       "_dom_classes": [
        "widget-interact"
       ],
       "children": [
        "IPY_MODEL_32229b8d269a473c9a636f921dc42720",
        "IPY_MODEL_e480821b38614799aa15693a6215f3e1"
       ],
       "layout": "IPY_MODEL_84edf910942944158738fd2bfbea887c"
      }
     },
     "4c4fe920afca425abf5e1dcc7da39962": {
      "model_module": "@jupyter-widgets/controls",
      "model_module_version": "1.5.0",
      "model_name": "ToggleButtonsStyleModel",
      "state": {
       "button_width": "",
       "description_width": ""
      }
     },
     "5142795fd5ff47a1999a2446b967cd99": {
      "model_module": "@jupyter-widgets/base",
      "model_module_version": "1.2.0",
      "model_name": "LayoutModel",
      "state": {}
     },
     "5d90c2f914bf48799fc238593250303d": {
      "model_module": "ipyevents",
      "model_module_version": "2.0.1",
      "model_name": "EventModel",
      "state": {
       "_supported_key_events": [
        "keydown",
        "keyup"
       ],
       "_supported_mouse_events": [
        "click",
        "auxclick",
        "dblclick",
        "mouseenter",
        "mouseleave",
        "mousedown",
        "mouseup",
        "mousemove",
        "wheel",
        "contextmenu",
        "dragstart",
        "drag",
        "dragend",
        "dragenter",
        "dragover",
        "dragleave",
        "drop"
       ],
       "_supported_touch_events": [
        "touchstart",
        "touchend",
        "touchmove",
        "touchcancel"
       ],
       "_view_module": "@jupyter-widgets/controls",
       "_view_module_version": "1.5.0",
       "prevent_default_action": true,
       "source": "IPY_MODEL_74ab272e58c240ceb19dc61b7a559900",
       "throttle_or_debounce": "throttle",
       "wait": 100,
       "watched_events": [
        "dragstart",
        "mouseenter",
        "mouseleave",
        "mousedown",
        "mouseup",
        "mousemove",
        "keyup",
        "keydown",
        "contextmenu",
        "wheel"
       ],
       "xy_coordinate_system": ""
      }
     },
     "5dbeb0fc594e4f0a801b45716c4f6190": {
      "model_module": "@jupyter-widgets/controls",
      "model_module_version": "1.5.0",
      "model_name": "VBoxModel",
      "state": {
       "_dom_classes": [
        "widget-interact"
       ],
       "children": [
        "IPY_MODEL_deb4cc060ea9421e909d3b52289ec363",
        "IPY_MODEL_edf30631c2274e9b8deab65d309016e1"
       ],
       "layout": "IPY_MODEL_fc8e405ecf894c05bdd86e07978ab042"
      }
     },
     "6069ac488abf421c9bc8afa6e5042675": {
      "model_module": "@jupyter-widgets/output",
      "model_module_version": "1.0.0",
      "model_name": "OutputModel",
      "state": {
       "layout": "IPY_MODEL_a2e9dacf22ce4978a07a299c9e0d241c",
       "outputs": [
        {
         "data": {
          "image/png": "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\n",
          "text/plain": "<Figure size 432x216 with 2 Axes>"
         },
         "metadata": {
          "needs_background": "light"
         },
         "output_type": "display_data"
        }
       ]
      }
     },
     "74ab272e58c240ceb19dc61b7a559900": {
      "model_module": "ipycanvas",
      "model_module_version": "^0.11.0",
      "model_name": "CanvasModel",
      "state": {
       "_model_module_version": "^0.11.0",
       "_view_count": 1,
       "_view_module_version": "^0.11.0",
       "height": 384,
       "layout": "IPY_MODEL_b75d7d441c23418fbb08826f991fbb72",
       "width": 512
      }
     },
     "7c20929c4bcd41a1997875af276977a9": {
      "model_module": "@jupyter-widgets/base",
      "model_module_version": "1.2.0",
      "model_name": "DOMWidgetModel",
      "state": {
       "_model_name": "DOMWidgetModel",
       "_view_module": null,
       "_view_module_version": "",
       "layout": "IPY_MODEL_9c47e7304fa14ed6900978f8b98a4551"
      }
     },
     "830b4fac52cc41d0943a8de5fe73e9ea": {
      "model_module": "@jupyter-widgets/controls",
      "model_module_version": "1.5.0",
      "model_name": "ToggleButtonsStyleModel",
      "state": {
       "button_width": "",
       "description_width": ""
      }
     },
     "84edf910942944158738fd2bfbea887c": {
      "model_module": "@jupyter-widgets/base",
      "model_module_version": "1.2.0",
      "model_name": "LayoutModel",
      "state": {}
     },
     "862879da6850412ba41b57410e30b579": {
      "model_module": "@jupyter-widgets/base",
      "model_module_version": "1.2.0",
      "model_name": "LayoutModel",
      "state": {}
     },
     "9c47e7304fa14ed6900978f8b98a4551": {
      "model_module": "@jupyter-widgets/base",
      "model_module_version": "1.2.0",
      "model_name": "LayoutModel",
      "state": {}
     },
     "a2e9dacf22ce4978a07a299c9e0d241c": {
      "model_module": "@jupyter-widgets/base",
      "model_module_version": "1.2.0",
      "model_name": "LayoutModel",
      "state": {}
     },
     "aa324bc69df349d5ba96707250fca5e8": {
      "model_module": "@jupyter-widgets/base",
      "model_module_version": "1.2.0",
      "model_name": "LayoutModel",
      "state": {}
     },
     "b011c57a24ac425c8a560f288a6109ca": {
      "model_module": "@jupyter-widgets/controls",
      "model_module_version": "1.5.0",
      "model_name": "DescriptionStyleModel",
      "state": {
       "description_width": ""
      }
     },
     "b1fd7285c6e649b689b5986d677cdcf7": {
      "model_module": "@jupyter-widgets/base",
      "model_module_version": "1.2.0",
      "model_name": "LayoutModel",
      "state": {}
     },
     "b3be5dc0574f451a8a1c0da9c1f70a5a": {
      "model_module": "@jupyter-widgets/base",
      "model_module_version": "1.2.0",
      "model_name": "LayoutModel",
      "state": {}
     },
     "b75d7d441c23418fbb08826f991fbb72": {
      "model_module": "@jupyter-widgets/base",
      "model_module_version": "1.2.0",
      "model_name": "LayoutModel",
      "state": {
       "height": "auto",
       "width": "100%"
      }
     },
     "bb979748cbe344469558ddc222199996": {
      "model_module": "@jupyter-widgets/base",
      "model_module_version": "1.2.0",
      "model_name": "LayoutModel",
      "state": {}
     },
     "bccd0b1de81b4b1e99994a6672346337": {
      "model_module": "@jupyter-widgets/controls",
      "model_module_version": "1.5.0",
      "model_name": "ToggleButtonsModel",
      "state": {
       "_options_labels": [
        "7100",
        "10600"
       ],
       "button_style": "",
       "description": "Reynolds No.",
       "icons": [],
       "index": 0,
       "layout": "IPY_MODEL_b1fd7285c6e649b689b5986d677cdcf7",
       "style": "IPY_MODEL_830b4fac52cc41d0943a8de5fe73e9ea",
       "tooltips": []
      }
     },
     "bff320bfc164414d883ac3da369f8465": {
      "model_module": "@jupyter-widgets/controls",
      "model_module_version": "1.5.0",
      "model_name": "DropdownModel",
      "state": {
       "_options_labels": [
        "1",
        "2",
        "3"
       ],
       "description": "Camera",
       "index": 0,
       "layout": "IPY_MODEL_862879da6850412ba41b57410e30b579",
       "style": "IPY_MODEL_b011c57a24ac425c8a560f288a6109ca"
      }
     },
     "cad882b48bed4ff4bb8e15d15ad151be": {
      "buffers": [
       {
        "data": "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",
        "encoding": "base64",
        "path": [
         "value"
        ]
       }
      ],
      "model_module": "@jupyter-widgets/controls",
      "model_module_version": "1.5.0",
      "model_name": "ImageModel",
      "state": {
       "height": "384",
       "layout": "IPY_MODEL_b3be5dc0574f451a8a1c0da9c1f70a5a",
       "width": "512"
      }
     },
     "ceeee132b03d4379a5fac416dd362d4a": {
      "model_module": "@jupyter-widgets/base",
      "model_module_version": "1.2.0",
      "model_name": "LayoutModel",
      "state": {}
     },
     "d7994845acae467fbdef59940be58bcb": {
      "model_module": "@jupyter-widgets/controls",
      "model_module_version": "1.5.0",
      "model_name": "DescriptionStyleModel",
      "state": {
       "description_width": ""
      }
     },
     "deb4cc060ea9421e909d3b52289ec363": {
      "model_module": "@jupyter-widgets/controls",
      "model_module_version": "1.5.0",
      "model_name": "ToggleButtonsModel",
      "state": {
       "_options_labels": [
        "7100",
        "10600"
       ],
       "button_style": "",
       "description": "Reynolds No.",
       "icons": [],
       "index": 0,
       "layout": "IPY_MODEL_5142795fd5ff47a1999a2446b967cd99",
       "style": "IPY_MODEL_3b8a1c21c28e4adaaccf2390c9d703da",
       "tooltips": []
      }
     },
     "df02cbee137a4f0883c4994bc5ac6979": {
      "model_module": "@jupyter-widgets/base",
      "model_module_version": "1.2.0",
      "model_name": "LayoutModel",
      "state": {}
     },
     "e3e75b119b054d4ea4d47ec31404d210": {
      "model_module": "@jupyter-widgets/base",
      "model_module_version": "1.2.0",
      "model_name": "LayoutModel",
      "state": {}
     },
     "e480821b38614799aa15693a6215f3e1": {
      "model_module": "@jupyter-widgets/output",
      "model_module_version": "1.0.0",
      "model_name": "OutputModel",
      "state": {
       "layout": "IPY_MODEL_df02cbee137a4f0883c4994bc5ac6979",
       "outputs": [
        {
         "data": {
          "application/vnd.jupyter.widget-view+json": {
           "model_id": "74ab272e58c240ceb19dc61b7a559900",
           "version_major": 2,
           "version_minor": 0
          },
          "text/plain": "ViewInteractiveWidget(height=384, layout=Layout(height='auto', width='100%'), width=512)"
         },
         "metadata": {},
         "output_type": "display_data"
        }
       ]
      }
     },
     "edf30631c2274e9b8deab65d309016e1": {
      "model_module": "@jupyter-widgets/output",
      "model_module_version": "1.0.0",
      "model_name": "OutputModel",
      "state": {
       "layout": "IPY_MODEL_aa324bc69df349d5ba96707250fca5e8",
       "outputs": [
        {
         "data": {
          "image/png": "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\n",
          "text/plain": "<Figure size 432x288 with 2 Axes>"
         },
         "metadata": {
          "needs_background": "light"
         },
         "output_type": "display_data"
        }
       ]
      }
     },
     "fc8e405ecf894c05bdd86e07978ab042": {
      "model_module": "@jupyter-widgets/base",
      "model_module_version": "1.2.0",
      "model_name": "LayoutModel",
      "state": {}
     },
     "ff9e06d50a49494cb4f6262da0a222d9": {
      "model_module": "@jupyter-widgets/controls",
      "model_module_version": "1.5.0",
      "model_name": "VBoxModel",
      "state": {
       "_dom_classes": [
        "widget-interact"
       ],
       "children": [
        "IPY_MODEL_bccd0b1de81b4b1e99994a6672346337",
        "IPY_MODEL_bff320bfc164414d883ac3da369f8465",
        "IPY_MODEL_22de5ec979b345859ddffb2608143850",
        "IPY_MODEL_6069ac488abf421c9bc8afa6e5042675"
       ],
       "layout": "IPY_MODEL_bb979748cbe344469558ddc222199996"
      }
     }
    },
    "version_major": 2,
    "version_minor": 0
   }
  }
 },
 "nbformat": 4,
 "nbformat_minor": 5
}
