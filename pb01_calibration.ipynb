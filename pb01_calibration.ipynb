{
 "cells": [
  {
   "cell_type": "markdown",
   "id": "798d934c-90be-419d-992a-4407b23d0298",
   "metadata": {},
   "source": [
    "# Camera calibration\n",
    "\n",
    "In this notebook, the calibration images for the polychromatic beam set are processed for initial calibration of each of the three cameras.\n",
    "\n",
    "---"
   ]
  },
  {
   "cell_type": "markdown",
   "id": "8308267b-dabc-4f0f-9d12-1b24ac6d5013",
   "metadata": {},
   "source": [
    "## Environment setup"
   ]
  },
  {
   "cell_type": "code",
   "execution_count": 1,
   "id": "f2031962-0ea6-4b07-a135-f7cd961da5fa",
   "metadata": {
    "execution": {
     "iopub.execute_input": "2022-03-24T05:37:30.293665Z",
     "iopub.status.busy": "2022-03-24T05:37:30.293368Z",
     "iopub.status.idle": "2022-03-24T05:37:31.288834Z",
     "shell.execute_reply": "2022-03-24T05:37:31.288159Z",
     "shell.execute_reply.started": "2022-03-24T05:37:30.293586Z"
    }
   },
   "outputs": [],
   "source": [
    "import ipywidgets as widgets\n",
    "import numpy as np\n",
    "\n",
    "from ipywidgets import (\n",
    "                        fixed,\n",
    "                        interact\n",
    "                        )\n",
    "\n",
    "from calib_utilities import (                    \n",
    "                             processCamera,\n",
    "                             showPoints,\n",
    "                             calibCamera,\n",
    "                             showCalibration,\n",
    "                             showReprojection\n",
    "                             )\n",
    "\n",
    "\n",
    "# Data directories\n",
    "inp_fld = 'inputs'\n",
    "out_fld = 'outputs'"
   ]
  },
  {
   "cell_type": "markdown",
   "id": "bcd92d82-15a1-49bc-b3bd-d6b95944a433",
   "metadata": {},
   "source": [
    "### Version information"
   ]
  },
  {
   "cell_type": "code",
   "execution_count": 2,
   "id": "77e8403e-277f-4ca9-87e2-4653bc01cad2",
   "metadata": {
    "execution": {
     "iopub.execute_input": "2022-03-24T05:37:31.289938Z",
     "iopub.status.busy": "2022-03-24T05:37:31.289755Z",
     "iopub.status.idle": "2022-03-24T05:37:31.322553Z",
     "shell.execute_reply": "2022-03-24T05:37:31.321604Z",
     "shell.execute_reply.started": "2022-03-24T05:37:31.289917Z"
    }
   },
   "outputs": [
    {
     "name": "stdout",
     "output_type": "stream",
     "text": [
      "ipywidgets: 7.6.5\n",
      "numpy     : 1.17.0\n",
      "cv2       : 4.5.1\n",
      "h5py      : 3.6.0\n",
      "matplotlib: 3.4.3\n",
      "skimage   : 0.18.1\n",
      "\n"
     ]
    }
   ],
   "source": [
    "%reload_ext watermark\n",
    "%watermark -p ipywidgets,numpy,cv2,h5py,matplotlib,skimage"
   ]
  },
  {
   "cell_type": "markdown",
   "id": "4a2b0117-c0bb-41c9-83bf-dc410b2bd138",
   "metadata": {},
   "source": [
    "## Calibration setup"
   ]
  },
  {
   "cell_type": "markdown",
   "id": "0f32f453-fed0-4521-86f2-9292334defa9",
   "metadata": {},
   "source": [
    "The camera calibrations are done by locating dots on a known dot target. The camera calibration routine here is Zhang's method [[1]](#References), where the calibration plate (a 1 mm thick aluminum plate with a 19$\\times$19 grid of 0.75 mm diameter holes that are 3.7 mm spaced apart) is rotated to 3 different orientations at the same fixed location, with each \"view\" captured by all the cameras simultaneously as an X-ray radiograph. As all views are collected simultaneously, the extrinsics calculated from each rotation is consistent for all cameras$-$therefore, the world origin is selectively chosen to be the view that gives the lowest pixel projection errors."
   ]
  },
  {
   "cell_type": "markdown",
   "id": "5e3af0fc-48e3-4d5b-8dd5-56165adf3063",
   "metadata": {},
   "source": [
    "## Find the dots!"
   ]
  },
  {
   "cell_type": "markdown",
   "id": "88095a12-76da-48c7-a20a-fd240b394896",
   "metadata": {},
   "source": [
    "Let's first start the calibration process by finding the dots in each of the views for each camera. The calibration radiographs are located in the HDF5 files under the `/inputs` folder. For easier processing, the calibration is done on \"masked\" versions of the calibration plate views$-$each view of the calibration plate was manually masked beforehand such that all the views looked at the same dots for each camera separately. A dot below two fiducial marks on the plate (\"lines\" cut into the top edge) was taken to be the world origin and was kept consistent between all calibration plate views and cameras.\n",
    "\n",
    "The dot finding routine is done in the `processCamera()` function (see: [calib_utilities.py](./calib_utilities.py)), which loads in each camera's images and takes as arguments the number of total dots for each view, the location of the origin dot in the grid, whether or not to flip the grid (for camera 2 looking at the back side), and whether or not to mask the image (necessary for some of the poorer quality images of cameras 1 and 3). The outputs of the function are the located dots in image coordinates (`imgPts`) and their corresponding location in world coordinates (`objPts`)."
   ]
  },
  {
   "cell_type": "code",
   "execution_count": 3,
   "id": "eea30bbe-e0b9-497b-a2b3-0decf17b5a0b",
   "metadata": {
    "execution": {
     "iopub.execute_input": "2022-03-24T05:37:31.325100Z",
     "iopub.status.busy": "2022-03-24T05:37:31.324704Z",
     "iopub.status.idle": "2022-03-24T05:37:31.878848Z",
     "shell.execute_reply": "2022-03-24T05:37:31.878216Z",
     "shell.execute_reply.started": "2022-03-24T05:37:31.325063Z"
    },
    "tags": []
   },
   "outputs": [],
   "source": [
    "# Get the image and object points for each camera\n",
    "# The passed in arguments (see processCamera()) were pre-determined--if \n",
    "# different images are used, you'll have to play around with the values!\n",
    "imgPts_1, objPts_1 = processCamera('Cropped/Camera1', (11, 4), 6, 1, (0, 0, 1))\n",
    "imgPts_2, objPts_2 = processCamera('Cropped/Camera2', (7, 5), 3, -1, (0, 0, 0))\n",
    "imgPts_3, objPts_3 = processCamera('Cropped/Camera3', (10, 5), 5, 1, (0, 0, 1))\n",
    "\n",
    "# Combine all found points\n",
    "imgPts = [imgPts_1, imgPts_2, imgPts_3]\n",
    "objPts = [objPts_1, objPts_2, objPts_3]"
   ]
  },
  {
   "cell_type": "markdown",
   "id": "44a6c348-a9d3-474a-a94a-5f4c73960229",
   "metadata": {},
   "source": [
    "## Visualization"
   ]
  },
  {
   "cell_type": "markdown",
   "id": "1369f8dc-312b-451b-ac70-bedbc5671e6a",
   "metadata": {},
   "source": [
    "The dot finding routine in `processCamera()` uses a \"blob detector\" (see: `makeBlob()` in [calib_utilities.py](./calib_utilities.py)) which attempts to locate circular features in the images. As a sanity check, let's visually verify how well the located dots match against the radiographs."
   ]
  },
  {
   "cell_type": "code",
   "execution_count": 4,
   "id": "79bf9f54-a356-4ebc-9ff8-dcf0bbf39bcd",
   "metadata": {
    "execution": {
     "iopub.execute_input": "2022-03-24T05:37:31.879964Z",
     "iopub.status.busy": "2022-03-24T05:37:31.879760Z",
     "iopub.status.idle": "2022-03-24T05:37:32.028928Z",
     "shell.execute_reply": "2022-03-24T05:37:32.028114Z",
     "shell.execute_reply.started": "2022-03-24T05:37:31.879941Z"
    },
    "tags": []
   },
   "outputs": [
    {
     "data": {
      "application/vnd.jupyter.widget-view+json": {
       "model_id": "dace4abb8fc64c85b3f9575c98468dce",
       "version_major": 2,
       "version_minor": 0
      },
      "text/plain": [
       "interactive(children=(Dropdown(description='Camera', options=(1, 2, 3), value=1), IntSlider(value=1, descripti…"
      ]
     },
     "metadata": {},
     "output_type": "display_data"
    }
   ],
   "source": [
    "# Visualizing the results through an interactive plot\n",
    "# Make sure all points are found!\n",
    "interact(\n",
    "         showPoints, \n",
    "         cam=widgets.Dropdown(options=[1, 2, 3], description='Camera'), \n",
    "         view=widgets.IntSlider(min=1, max=3, step=1, description='View'),\n",
    "         imgPts=fixed(imgPts),\n",
    "         objPts=fixed(objPts)\n",
    "         );"
   ]
  },
  {
   "cell_type": "markdown",
   "id": "77c420c0-2122-4c54-b988-2f17f924f069",
   "metadata": {},
   "source": [
    "## Calibration"
   ]
  },
  {
   "cell_type": "markdown",
   "id": "d41231ca-51af-406e-8d3e-06d279305e85",
   "metadata": {},
   "source": [
    "Now that the dots are located, let's calibrate each of the cameras. In addition to the radial and tangential distortion models used in Zhang's seminal report, additional distortion models (rational, thin prism, and tilted) are also utilized to better map the non-linear projection between the scintillator plate (the focal/detection plane) and the camera image. The processing is done in `calibCamera()` (see: [calib_utilities.py](./calib_utilities.py)), which takes as inputs the image and object points for each camera. The outputs are tuples containing the camera calibration parameters (`camCal`) and camera calibration errors/deviations (`errCal`) for each view. For further detail on the calibration routine, refer to the *OpenCV* documentation on camera calibration [[2]](#References)."
   ]
  },
  {
   "cell_type": "code",
   "execution_count": 5,
   "id": "ccbd6cc6-8510-4f49-a9bc-4578444502b1",
   "metadata": {
    "execution": {
     "iopub.execute_input": "2022-03-24T05:37:32.030164Z",
     "iopub.status.busy": "2022-03-24T05:37:32.029906Z",
     "iopub.status.idle": "2022-03-24T05:37:32.165546Z",
     "shell.execute_reply": "2022-03-24T05:37:32.164657Z",
     "shell.execute_reply.started": "2022-03-24T05:37:32.030140Z"
    },
    "tags": []
   },
   "outputs": [],
   "source": [
    "# Retrieve camera calibration parameters\n",
    "camCal, errCal = zip(*[\n",
    "                       calibCamera(imgP, objP)\n",
    "                       for (imgP, objP) in zip(imgPts, objPts)\n",
    "                       ])"
   ]
  },
  {
   "cell_type": "markdown",
   "id": "a922e423-e3f3-4cd7-9213-99af48aad9ce",
   "metadata": {},
   "source": [
    "Let's extract the calibration parameters for each camera$-$the uncertainties are calculated as the standard deviations (multiplied by 3) for each parameter, which is collected in the `errCal` variable. Refer to `showCalibration()` (see: [calib_utilities.py](./calib_utilities.py)) for further detail."
   ]
  },
  {
   "cell_type": "code",
   "execution_count": 6,
   "id": "c1ac3133-b0ca-4fa9-bb5e-d4f61688bfaa",
   "metadata": {
    "execution": {
     "iopub.execute_input": "2022-03-24T05:37:32.167281Z",
     "iopub.status.busy": "2022-03-24T05:37:32.166824Z",
     "iopub.status.idle": "2022-03-24T05:37:32.199020Z",
     "shell.execute_reply": "2022-03-24T05:37:32.197998Z",
     "shell.execute_reply.started": "2022-03-24T05:37:32.167225Z"
    }
   },
   "outputs": [
    {
     "data": {
      "application/vnd.jupyter.widget-view+json": {
       "model_id": "926387c751254f99a82dbecb50b01b62",
       "version_major": 2,
       "version_minor": 0
      },
      "text/plain": [
       "interactive(children=(Dropdown(description='Camera', options=(1, 2, 3), value=1), Output()), _dom_classes=('wi…"
      ]
     },
     "metadata": {},
     "output_type": "display_data"
    }
   ],
   "source": [
    "# Calibration output parameters\n",
    "interact(\n",
    "         showCalibration, \n",
    "         ind=widgets.Dropdown(options=[1, 2, 3], description='Camera'),\n",
    "         camCal=fixed(camCal),\n",
    "         errCal=fixed(errCal)\n",
    "         );"
   ]
  },
  {
   "cell_type": "markdown",
   "id": "47571895-29c9-4558-ab89-6d3e985f286f",
   "metadata": {},
   "source": [
    "We can also visualize where the reprojections of the object points lie on the images as well. This is calculated by taking the initially known calibration plate world coordinates (`objPts`) and projecting them onto the image plane using the calculated extrinsics, intrinsics, and distortion coefficients. The projection process is done using `projectPoints()` from the *OpenCV* library. The mean pixel errors shown below refer to the mean error in how closely the reprojection points (blue crosses) match the initially found dots (red circles) for each view."
   ]
  },
  {
   "cell_type": "code",
   "execution_count": 7,
   "id": "6305937e-a740-4e0a-bf47-e1d688603ddc",
   "metadata": {
    "execution": {
     "iopub.execute_input": "2022-03-24T05:37:32.200635Z",
     "iopub.status.busy": "2022-03-24T05:37:32.200323Z",
     "iopub.status.idle": "2022-03-24T05:37:32.374574Z",
     "shell.execute_reply": "2022-03-24T05:37:32.373732Z",
     "shell.execute_reply.started": "2022-03-24T05:37:32.200609Z"
    }
   },
   "outputs": [
    {
     "data": {
      "application/vnd.jupyter.widget-view+json": {
       "model_id": "1000f9cb99d24e5a9230368d74e928e3",
       "version_major": 2,
       "version_minor": 0
      },
      "text/plain": [
       "interactive(children=(Dropdown(description='Camera', options=(1, 2, 3), value=1), IntSlider(value=1, descripti…"
      ]
     },
     "metadata": {},
     "output_type": "display_data"
    }
   ],
   "source": [
    "# Visualizing the results through an interactive plot\n",
    "interact(\n",
    "         showReprojection, \n",
    "         cam=widgets.Dropdown(options=[1, 2, 3], description='Camera'), \n",
    "         view=widgets.IntSlider(min=1, max=3, step=1, description='View'),\n",
    "         imgPts=fixed(imgPts),\n",
    "         objPts=fixed(objPts),\n",
    "         camCal=fixed(camCal),\n",
    "         errCal=fixed(errCal)\n",
    "         );"
   ]
  },
  {
   "cell_type": "markdown",
   "id": "6618d29f-2c78-42f9-98c3-433c890c40a1",
   "metadata": {},
   "source": [
    "## Save dataset"
   ]
  },
  {
   "cell_type": "markdown",
   "id": "7f3094d9-17ce-40ef-b8ee-580981344e1d",
   "metadata": {},
   "source": [
    "Let's save the calibration parameters in the `/outputs` folder for further processing."
   ]
  },
  {
   "cell_type": "code",
   "execution_count": 8,
   "id": "536107a7-b8fc-4e6e-929f-8fc00d7c82aa",
   "metadata": {
    "execution": {
     "iopub.execute_input": "2022-03-24T05:37:32.375851Z",
     "iopub.status.busy": "2022-03-24T05:37:32.375594Z",
     "iopub.status.idle": "2022-03-24T05:37:32.416886Z",
     "shell.execute_reply": "2022-03-24T05:37:32.416146Z",
     "shell.execute_reply.started": "2022-03-24T05:37:32.375814Z"
    }
   },
   "outputs": [],
   "source": [
    "# Save results\n",
    "[\n",
    " np.savez(f'{out_fld}/cam{i+1}_calibration.npz', cal=camCal[i], err=errCal[i])\n",
    " for i, _ in enumerate(camCal)\n",
    " ];"
   ]
  },
  {
   "cell_type": "markdown",
   "id": "5240fb1e-3e57-4e97-836b-f04cd5a10d5d",
   "metadata": {},
   "source": [
    "## Next steps\n",
    "After initial camera calibration, the next step in the workflow is [pb02_preprocessing.ipynb](./pb02_preprocessing.ipynb)."
   ]
  },
  {
   "cell_type": "markdown",
   "id": "3aad1eb8-d775-4eff-99fa-b8a75f8b1deb",
   "metadata": {},
   "source": [
    "## References"
   ]
  },
  {
   "cell_type": "markdown",
   "id": "b0f97594-4ec9-4a1b-b218-b47b9ff0a41a",
   "metadata": {},
   "source": [
    "1. Zhang, Z. A flexible new technique for camera calibration. *IEEE Trans. Pattern Anal. Machine Intell.* 22, 1330–1334 (2000). doi: [10.1109/34.888718](https://doi.org/10.1109/34.888718).\n",
    "\n",
    "2. *OpenCV*. Available at: https://docs.opencv.org/3.2.0/d9/d0c/group__calib3d.html."
   ]
  },
  {
   "cell_type": "markdown",
   "id": "cd5f384f-275c-414d-9cc2-1ef48cbeccf7",
   "metadata": {},
   "source": [
    "---\n",
    "\n",
    "**Author**: Naveed Rahman, Purdue University, 23 March 2022\n",
    "\n",
    "---"
   ]
  }
 ],
 "metadata": {
  "kernelspec": {
   "display_name": "Python 3 (ipykernel)",
   "language": "python",
   "name": "python3"
  },
  "language_info": {
   "codemirror_mode": {
    "name": "ipython",
    "version": 3
   },
   "file_extension": ".py",
   "mimetype": "text/x-python",
   "name": "python",
   "nbconvert_exporter": "python",
   "pygments_lexer": "ipython3",
   "version": "3.7.7"
  },
  "widgets": {
   "application/vnd.jupyter.widget-state+json": {
    "state": {
     "01982429f7f5461692238d4140067591": {
      "model_module": "@jupyter-widgets/base",
      "model_module_version": "1.2.0",
      "model_name": "LayoutModel",
      "state": {}
     },
     "0bb863d06b174af380ee1bb3733a28f6": {
      "model_module": "@jupyter-widgets/output",
      "model_module_version": "1.0.0",
      "model_name": "OutputModel",
      "state": {
       "layout": "IPY_MODEL_8cd1bc72a5ec423982a2e37f066e70f2",
       "outputs": [
        {
         "data": {
          "image/png": "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\n",
          "text/plain": "<Figure size 432x288 with 1 Axes>"
         },
         "metadata": {
          "needs_background": "light"
         },
         "output_type": "display_data"
        }
       ]
      }
     },
     "1000f9cb99d24e5a9230368d74e928e3": {
      "model_module": "@jupyter-widgets/controls",
      "model_module_version": "1.5.0",
      "model_name": "VBoxModel",
      "state": {
       "_dom_classes": [
        "widget-interact"
       ],
       "children": [
        "IPY_MODEL_2cd97b61fedf4a8e89a16ee9c4b2aeb6",
        "IPY_MODEL_38aa417e293845ea98edef587d13ae3d",
        "IPY_MODEL_496369b8f11f491c974b929d8ddc9e08"
       ],
       "layout": "IPY_MODEL_26fe6981980949168153215393242c57"
      }
     },
     "112060f8a5de4a2baacd9f2ef36503f3": {
      "model_module": "@jupyter-widgets/base",
      "model_module_version": "1.2.0",
      "model_name": "LayoutModel",
      "state": {}
     },
     "1663eff7212e4b88a516d1dd91d7a78d": {
      "model_module": "@jupyter-widgets/base",
      "model_module_version": "1.2.0",
      "model_name": "LayoutModel",
      "state": {}
     },
     "1e9a683a5c564a7180b8b7cf9689bed0": {
      "model_module": "@jupyter-widgets/controls",
      "model_module_version": "1.5.0",
      "model_name": "IntSliderModel",
      "state": {
       "description": "View",
       "layout": "IPY_MODEL_4dfce6377dc44399990d65def2922c61",
       "max": 3,
       "min": 1,
       "style": "IPY_MODEL_a1afd5f3a63d49e9863488eb14fc5fbc",
       "value": 1
      }
     },
     "26fe6981980949168153215393242c57": {
      "model_module": "@jupyter-widgets/base",
      "model_module_version": "1.2.0",
      "model_name": "LayoutModel",
      "state": {}
     },
     "2cd97b61fedf4a8e89a16ee9c4b2aeb6": {
      "model_module": "@jupyter-widgets/controls",
      "model_module_version": "1.5.0",
      "model_name": "DropdownModel",
      "state": {
       "_options_labels": [
        "1",
        "2",
        "3"
       ],
       "description": "Camera",
       "index": 0,
       "layout": "IPY_MODEL_01982429f7f5461692238d4140067591",
       "style": "IPY_MODEL_74aeef0869134bd484ae6024a32877ff"
      }
     },
     "38aa417e293845ea98edef587d13ae3d": {
      "model_module": "@jupyter-widgets/controls",
      "model_module_version": "1.5.0",
      "model_name": "IntSliderModel",
      "state": {
       "description": "View",
       "layout": "IPY_MODEL_8140f2d226f04d3199d427c39eb3ada0",
       "max": 3,
       "min": 1,
       "style": "IPY_MODEL_6c6164d11c3f490280dacaba6096292e",
       "value": 1
      }
     },
     "496369b8f11f491c974b929d8ddc9e08": {
      "model_module": "@jupyter-widgets/output",
      "model_module_version": "1.0.0",
      "model_name": "OutputModel",
      "state": {
       "layout": "IPY_MODEL_b469b6ac0b3349dea206611f23a119b2",
       "outputs": [
        {
         "data": {
          "image/png": "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\n",
          "text/plain": "<Figure size 432x288 with 1 Axes>"
         },
         "metadata": {
          "needs_background": "light"
         },
         "output_type": "display_data"
        }
       ]
      }
     },
     "49ea2aaa87254907994ce0bc4cd1ebf0": {
      "model_module": "@jupyter-widgets/base",
      "model_module_version": "1.2.0",
      "model_name": "LayoutModel",
      "state": {}
     },
     "4dfce6377dc44399990d65def2922c61": {
      "model_module": "@jupyter-widgets/base",
      "model_module_version": "1.2.0",
      "model_name": "LayoutModel",
      "state": {}
     },
     "4f724ad6df9d45b7898cb66d0de021e4": {
      "model_module": "@jupyter-widgets/controls",
      "model_module_version": "1.5.0",
      "model_name": "DescriptionStyleModel",
      "state": {
       "description_width": ""
      }
     },
     "6c6164d11c3f490280dacaba6096292e": {
      "model_module": "@jupyter-widgets/controls",
      "model_module_version": "1.5.0",
      "model_name": "SliderStyleModel",
      "state": {
       "description_width": ""
      }
     },
     "74aeef0869134bd484ae6024a32877ff": {
      "model_module": "@jupyter-widgets/controls",
      "model_module_version": "1.5.0",
      "model_name": "DescriptionStyleModel",
      "state": {
       "description_width": ""
      }
     },
     "75971219b8c64d128e45e210a7ed5468": {
      "model_module": "@jupyter-widgets/base",
      "model_module_version": "1.2.0",
      "model_name": "LayoutModel",
      "state": {}
     },
     "7e2f0293a2ee4d4181d31c4f4d0a42dc": {
      "model_module": "@jupyter-widgets/output",
      "model_module_version": "1.0.0",
      "model_name": "OutputModel",
      "state": {
       "layout": "IPY_MODEL_1663eff7212e4b88a516d1dd91d7a78d",
       "outputs": [
        {
         "name": "stdout",
         "output_type": "stream",
         "text": "\nCalibration Results\n===================\n\nIntrinsics\n----------\nFocal Lengths (x, y) [px]: (5278.8, 4748.0) +/- (7099.1, 4086.6)\nPrincipal points (x, y) [px]: (254.7, 255.6) +/- (86.1, 99.8)\n\nDistortion Coefficients\n-----------------------\nRadial [-]: (-10.96, -2272.22, 4.61) +/- (7099.08, 4086.55, 1922.01)\nTangential [-]: (0.080, 0.051) +/- (86.145, 99.848)\nRational [-]: (-0.926, -5070.052, -4.579) +/- (3098.190, 7.765, 9.814)\nThin prism [-]: (-0.168, 48.794, -0.191, 25.103) +/- (11.109, 1942.142, 3070.659, 11.017)\nTilted [-]: (-0.059, 0.082) +/- (9.932, 175.504)\n\nExtrinsics\n----------\nView 1 rotations (x, y, z) [deg]: (1.3, -53.6, 0.9) +/- (7.1, 11.8, 3.5)\nView 1 translations (x, y, z) [mm]: (2.1, -3.6, 285.0) +/- (1.7, 1.9, 26.3)\n\nView 2 rotations (x, y, z) [deg]: (1.2, -60.8, 0.7) +/- (5.3, 9.0, 3.0)\nView 2 translations (x, y, z) [mm]: (1.1, -3.7, 285.5) +/- (1.6, 2.0, 26.7)\n\nView 3 rotations (x, y, z) [deg]: (1.3, -68.3, 0.5) +/- (3.6, 6.4, 2.4)\nView 3 translations (x, y, z) [mm]: (-0.1, -3.7, 287.4) +/- (1.6, 2.0, 27.2)\n"
        }
       ]
      }
     },
     "8140f2d226f04d3199d427c39eb3ada0": {
      "model_module": "@jupyter-widgets/base",
      "model_module_version": "1.2.0",
      "model_name": "LayoutModel",
      "state": {}
     },
     "8be04564baff4623a59a1333d0672d41": {
      "model_module": "@jupyter-widgets/controls",
      "model_module_version": "1.5.0",
      "model_name": "DescriptionStyleModel",
      "state": {
       "description_width": ""
      }
     },
     "8cd1bc72a5ec423982a2e37f066e70f2": {
      "model_module": "@jupyter-widgets/base",
      "model_module_version": "1.2.0",
      "model_name": "LayoutModel",
      "state": {}
     },
     "926387c751254f99a82dbecb50b01b62": {
      "model_module": "@jupyter-widgets/controls",
      "model_module_version": "1.5.0",
      "model_name": "VBoxModel",
      "state": {
       "_dom_classes": [
        "widget-interact"
       ],
       "children": [
        "IPY_MODEL_a233066c3bd94f1ab555f71120ed0ff7",
        "IPY_MODEL_7e2f0293a2ee4d4181d31c4f4d0a42dc"
       ],
       "layout": "IPY_MODEL_49ea2aaa87254907994ce0bc4cd1ebf0"
      }
     },
     "a1afd5f3a63d49e9863488eb14fc5fbc": {
      "model_module": "@jupyter-widgets/controls",
      "model_module_version": "1.5.0",
      "model_name": "SliderStyleModel",
      "state": {
       "description_width": ""
      }
     },
     "a233066c3bd94f1ab555f71120ed0ff7": {
      "model_module": "@jupyter-widgets/controls",
      "model_module_version": "1.5.0",
      "model_name": "DropdownModel",
      "state": {
       "_options_labels": [
        "1",
        "2",
        "3"
       ],
       "description": "Camera",
       "index": 0,
       "layout": "IPY_MODEL_afaaaf5e641e4d879a390c4647b1da36",
       "style": "IPY_MODEL_8be04564baff4623a59a1333d0672d41"
      }
     },
     "afaaaf5e641e4d879a390c4647b1da36": {
      "model_module": "@jupyter-widgets/base",
      "model_module_version": "1.2.0",
      "model_name": "LayoutModel",
      "state": {}
     },
     "b469b6ac0b3349dea206611f23a119b2": {
      "model_module": "@jupyter-widgets/base",
      "model_module_version": "1.2.0",
      "model_name": "LayoutModel",
      "state": {}
     },
     "c21eadc953bf402a9e133fd324f78ac5": {
      "model_module": "@jupyter-widgets/controls",
      "model_module_version": "1.5.0",
      "model_name": "DropdownModel",
      "state": {
       "_options_labels": [
        "1",
        "2",
        "3"
       ],
       "description": "Camera",
       "index": 0,
       "layout": "IPY_MODEL_75971219b8c64d128e45e210a7ed5468",
       "style": "IPY_MODEL_4f724ad6df9d45b7898cb66d0de021e4"
      }
     },
     "dace4abb8fc64c85b3f9575c98468dce": {
      "model_module": "@jupyter-widgets/controls",
      "model_module_version": "1.5.0",
      "model_name": "VBoxModel",
      "state": {
       "_dom_classes": [
        "widget-interact"
       ],
       "children": [
        "IPY_MODEL_c21eadc953bf402a9e133fd324f78ac5",
        "IPY_MODEL_1e9a683a5c564a7180b8b7cf9689bed0",
        "IPY_MODEL_0bb863d06b174af380ee1bb3733a28f6"
       ],
       "layout": "IPY_MODEL_112060f8a5de4a2baacd9f2ef36503f3"
      }
     }
    },
    "version_major": 2,
    "version_minor": 0
   }
  }
 },
 "nbformat": 4,
 "nbformat_minor": 5
}
